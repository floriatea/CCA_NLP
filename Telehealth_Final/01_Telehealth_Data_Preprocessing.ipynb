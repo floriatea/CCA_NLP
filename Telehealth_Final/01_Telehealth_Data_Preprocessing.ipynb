{
 "cells": [
  {
   "cell_type": "markdown",
   "metadata": {},
   "source": [
    "## 0.Package Import"
   ]
  },
  {
   "cell_type": "code",
   "execution_count": 21,
   "metadata": {},
   "outputs": [],
   "source": [
    "import os\n",
    "import re\n",
    "import chardet\n",
    "import zipfile\n",
    "\n",
    "import pandas as pd\n",
    "import numpy as np #for arrays\n",
    "\n",
    "from bs4 import BeautifulSoup\n",
    "# comp-linguistics\n",
    "import spacy\n",
    "from spacy.lang.en.examples import sentences \n",
    "from spacy import displacy\n",
    "import en_core_web_sm #python -m spacy download en_core_web_sm\n",
    "\n",
    "import gensim\n",
    "import nltk\n",
    "from nltk.text import Text\n",
    "\n",
    "from sklearn.feature_extraction.text import CountVectorizer\n",
    "\n",
    "import matplotlib.pyplot as plt\n",
    "from matplotlib.cm import get_cmap\n",
    "import seaborn as sns"
   ]
  },
  {
   "cell_type": "code",
   "execution_count": 15,
   "metadata": {},
   "outputs": [
    {
     "name": "stderr",
     "output_type": "stream",
     "text": [
      "[nltk_data] Downloading package stopwords to\n",
      "[nltk_data]     C:\\Users\\flori\\AppData\\Roaming\\nltk_data...\n",
      "[nltk_data]   Unzipping corpora\\stopwords.zip.\n"
     ]
    },
    {
     "data": {
      "text/plain": [
       "True"
      ]
     },
     "execution_count": 15,
     "metadata": {},
     "output_type": "execute_result"
    }
   ],
   "source": [
    "nltk.download('stopwords')"
   ]
  },
  {
   "cell_type": "code",
   "execution_count": 22,
   "metadata": {},
   "outputs": [],
   "source": [
    "nlp = spacy.load(\"en_core_web_sm\")"
   ]
  },
  {
   "cell_type": "markdown",
   "metadata": {},
   "source": [
    "## 1.Preprocess source folder "
   ]
  },
  {
   "cell_type": "code",
   "execution_count": 24,
   "metadata": {},
   "outputs": [],
   "source": [
    "nlp = spacy.load(\"en_core_web_sm\")\n",
    "# Increase the max length\n",
    "nlp.max_length = 25000000 "
   ]
  },
  {
   "cell_type": "code",
   "execution_count": null,
   "metadata": {},
   "outputs": [],
   "source": [
    "folder_path = 'D:/NOW/sources'\n",
    "\n",
    "def detect_encoding(file_path):\n",
    "    with open(file_path, 'rb') as file:\n",
    "        raw_data = file.read(50000)  # Read the first 50000 bytes to guess the encoding\n",
    "        result = chardet.detect(raw_data)\n",
    "        return result['encoding']\n",
    "\n",
    "all_data = []\n",
    "\n",
    "for filename in os.listdir(folder_path):\n",
    "    if filename.startswith('sources') and filename.endswith('.txt'):\n",
    "        file_path = os.path.join(folder_path, filename)\n",
    "        # Print the current file being processed\n",
    "        print(f\"Processing file: {filename}\")\n",
    "\n",
    "        # Detect and use the encoding\n",
    "        file_encoding = detect_encoding(file_path)\n",
    "        try:\n",
    "            with open(file_path, 'r', encoding=file_encoding) as file:\n",
    "                for line in file:\n",
    "                    columns = line.strip().split('\\t')\n",
    "                    all_data.append(columns)\n",
    "        except UnicodeDecodeError:\n",
    "            # Fallback to 'ISO-8859-1' if the initial attempt fails\n",
    "            with open(file_path, 'r', encoding='ISO-8859-1') as file:\n",
    "                for line in file:\n",
    "                    columns = line.strip().split('\\t')\n",
    "                    all_data.append(columns)\n",
    "\n",
    "column_names = ['textID', '#words', 'date', 'country', 'website', 'url', 'title']\n",
    "combined_source = pd.DataFrame(all_data, columns=column_names)\n",
    "\n",
    "# Create a new column for the year extracted from the 'date' column\n",
    "combined_source['year'] = combined_source['date'].str.split('-').str[0]\n",
    "\n",
    "# Create a directory to store the output files\n",
    "output_dir = 'output_files'\n",
    "os.makedirs(output_dir, exist_ok=True)\n",
    "\n",
    "# Group by year and save each group\n",
    "for year, group in combined_source.groupby('year'):\n",
    "    #excel_file = os.path.join(output_dir, f'sources_{year}.xlsx')\n",
    "    csv_file = os.path.join(output_dir, f'sources_{year}.csv')\n",
    "    \n",
    "    # Saving to Excel - one sheet per file\n",
    "    #group.to_excel(excel_file, index=False)\n",
    "    \n",
    "    # Saving to CSV\n",
    "    group.to_csv(csv_file, index=False)\n",
    "\n",
    "    print(f\"Saved data for year {year} to CSV\")"
   ]
  },
  {
   "cell_type": "markdown",
   "metadata": {},
   "source": [
    "## 2.Preprocess text folder "
   ]
  },
  {
   "cell_type": "code",
   "execution_count": null,
   "metadata": {},
   "outputs": [],
   "source": [
    "folder_path = 'D:/NOW/text'\n",
    "all_data = []\n",
    "\n",
    "def detect_encoding(byte_stream):\n",
    "    result = chardet.detect(byte_stream)\n",
    "    return result['encoding'] if result['encoding'] is not None else 'utf-8'\n",
    "\n",
    "def clean_text(text):\n",
    "    # Replace problematic characters and patterns\n",
    "    text = text.replace('\\t', ' ').replace('\\n', ' ').replace('@@', '')\n",
    "    return text.strip()\n",
    "\n",
    "def process_text_file(file_content, file_encoding):\n",
    "    # Revised regular expression pattern\n",
    "    pattern = r\"@@(\\d+)(.*?)(?=@@\\d+|$)\"\n",
    "    for record in re.finditer(pattern, file_content, re.DOTALL):\n",
    "        text_id, text = record.groups()\n",
    "        text_cleaned = clean_text(text)\n",
    "        if 'telehealth' in text_cleaned.lower() or 'telemedicine' in text_cleaned.lower():\n",
    "            all_data.append([text_id, text_cleaned])\n",
    "            print(f\"Processed text ID: {text_id}\")  # Debugging line\n",
    "\n",
    "for foldername in os.listdir(folder_path):\n",
    "    if foldername.startswith('text-') and foldername.endswith('.zip'):\n",
    "        zip_path = os.path.join(folder_path, foldername)\n",
    "        with zipfile.ZipFile(zip_path, 'r') as zip_ref:\n",
    "            for fileinfo in zip_ref.infolist():\n",
    "                if fileinfo.filename.endswith('.txt'):\n",
    "                    print(f\"Processing file: {fileinfo.filename} in {foldername}\")\n",
    "                    with zip_ref.open(fileinfo) as file:\n",
    "                        byte_stream = file.read(50000)\n",
    "                        file.seek(0)\n",
    "                        file_encoding = detect_encoding(byte_stream)\n",
    "                        file_content = file.read().decode(file_encoding, errors='ignore')\n",
    "                        process_text_file(file_content, file_encoding)\n",
    "\n",
    "column_names = ['textID', 'text']\n",
    "combined_df = pd.DataFrame(all_data, columns=column_names)\n",
    "\n",
    "output_csv_path = 'combined_text_data.csv'\n",
    "combined_df.to_csv(output_csv_path, index=False)\n",
    "print(f\"Data saved to '{output_csv_path}', containing {len(combined_df)} records.\")\n"
   ]
  },
  {
   "cell_type": "markdown",
   "metadata": {},
   "source": [
    "## 3.Clean corpus and combine it with \"source\" data by \"textID\""
   ]
  },
  {
   "cell_type": "code",
   "execution_count": null,
   "metadata": {},
   "outputs": [],
   "source": [
    "def clean_html(text):\n",
    "    # Parse HTML content\n",
    "    soup = BeautifulSoup(text, \"html.parser\")\n",
    "    return soup.get_text()\n",
    "\n",
    "def remove_special_characters(text):\n",
    "    # Remove special characters and extra spaces\n",
    "    text = re.sub(r'[@\\-]', '', text)  # remove dashes and @ symbols\n",
    "    text = re.sub(r'\\s+', ' ', text)   # replace multiple spaces with a single space\n",
    "    return text.strip()\n",
    "\n",
    "# Clean the text column\n",
    "combined_df['text'] = combined_df['text'].apply(clean_html).apply(remove_special_characters)"
   ]
  },
  {
   "cell_type": "code",
   "execution_count": null,
   "metadata": {},
   "outputs": [],
   "source": [
    "# Convert 'textID' to string in both DataFrames\n",
    "combined_df['textID'] = combined_df['textID'].astype(str).str.strip()\n",
    "combined_source['textID'] = combined_source['textID'].astype(str).str.strip()\n",
    "\n",
    "# Merge the DataFrames\n",
    "merged_df = pd.merge(combined_df, combined_source, on='textID', how='left')"
   ]
  },
  {
   "cell_type": "code",
   "execution_count": null,
   "metadata": {},
   "outputs": [],
   "source": [
    "# Check for completely duplicate rows\n",
    "duplicate_rows = merged_df[merged_df.duplicated(keep=False)]\n",
    "#print(duplicate_rows)\n",
    "merged_df.drop_duplicates(inplace=True)"
   ]
  },
  {
   "cell_type": "code",
   "execution_count": 12,
   "metadata": {},
   "outputs": [],
   "source": [
    "#merged_df.to_csv('final_df.csv',index=False) \n",
    "merged_df=pd.read_csv(\"D:/NOW/output_files/final_df.csv\")"
   ]
  },
  {
   "cell_type": "code",
   "execution_count": 6,
   "metadata": {},
   "outputs": [
    {
     "name": "stderr",
     "output_type": "stream",
     "text": [
      "c:\\Users\\flori\\AppData\\Local\\Programs\\Python\\Python39\\lib\\site-packages\\spacy\\pipeline\\lemmatizer.py:211: UserWarning: [W108] The rule-based lemmatizer did not find POS annotation for one or more tokens. Check that your pipeline includes components that assign token.pos, typically 'tagger'+'attribute_ruler' or 'morphologizer'.\n",
      "  warnings.warn(Warnings.W108)\n"
     ]
    },
    {
     "data": {
      "text/plain": [
       "['Market',\n",
       " 'Segment',\n",
       " 'by',\n",
       " 'Regions',\n",
       " 'this',\n",
       " 'report',\n",
       " 'splits',\n",
       " 'Global',\n",
       " 'into',\n",
       " 'several',\n",
       " 'key',\n",
       " 'Regions',\n",
       " 'with',\n",
       " 'production',\n",
       " 'consumption',\n",
       " 'revenue',\n",
       " 'market',\n",
       " 'share',\n",
       " 'and',\n",
       " 'growth',\n",
       " 'rate',\n",
       " 'of',\n",
       " 'Healthcare',\n",
       " 'IT',\n",
       " 'Solutions',\n",
       " 'in',\n",
       " 'these',\n",
       " 'regions',\n",
       " 'from',\n",
       " '2011',\n",
       " 'to',\n",
       " '2021',\n",
       " 'forecast',\n",
       " 'like',\n",
       " 'North',\n",
       " 'America',\n",
       " 'Europe',\n",
       " 'China',\n",
       " 'Japan',\n",
       " 'Southeast',\n",
       " 'Asia',\n",
       " 'India',\n",
       " 'Split',\n",
       " 'by',\n",
       " 'product',\n",
       " 'type',\n",
       " 'with',\n",
       " 'production',\n",
       " 'revenue',\n",
       " 'price',\n",
       " 'market',\n",
       " 'share',\n",
       " 'and',\n",
       " 'growth',\n",
       " 'rate',\n",
       " 'of',\n",
       " 'each',\n",
       " 'type',\n",
       " 'can',\n",
       " 'be',\n",
       " 'divided',\n",
       " 'into',\n",
       " 'HER',\n",
       " 'PACS',\n",
       " 'Interoperability',\n",
       " 'Healthcare',\n",
       " 'Analytics',\n",
       " 'Telemedicine',\n",
       " 'CRM',\n",
       " 'Split',\n",
       " 'by',\n",
       " 'application',\n",
       " 'this',\n",
       " 'report',\n",
       " 'focuses',\n",
       " 'on',\n",
       " 'consumption',\n",
       " 'market',\n",
       " 'share',\n",
       " 'and',\n",
       " 'growth',\n",
       " 'rate',\n",
       " 'of',\n",
       " 'Healthcare',\n",
       " 'IT',\n",
       " 'Solutions',\n",
       " 'in',\n",
       " 'each',\n",
       " 'application',\n",
       " 'can',\n",
       " 'be',\n",
       " 'divided',\n",
       " 'into',\n",
       " 'Contact',\n",
       " 'Profile',\n",
       " 'Wise',\n",
       " 'Guy',\n",
       " 'Reports',\n",
       " 'is',\n",
       " 'part',\n",
       " 'of',\n",
       " 'the',\n",
       " 'Wise',\n",
       " 'Guy',\n",
       " 'Consultants',\n",
       " 'Pvt',\n",
       " 'Ltd.',\n",
       " 'and',\n",
       " 'offers',\n",
       " 'premium',\n",
       " 'progressive',\n",
       " 'statistical',\n",
       " 'surveying',\n",
       " 'market',\n",
       " 'research',\n",
       " 'reports',\n",
       " 'analysis',\n",
       " 'forecast',\n",
       " 'data',\n",
       " 'for',\n",
       " 'industries',\n",
       " 'and',\n",
       " 'governments',\n",
       " 'around',\n",
       " 'the',\n",
       " 'globe',\n",
       " 'Wise',\n",
       " 'Guy',\n",
       " 'Reports',\n",
       " 'understand',\n",
       " 'how',\n",
       " 'essential',\n",
       " 'statistical',\n",
       " 'surveying',\n",
       " 'information',\n",
       " 'is',\n",
       " 'for',\n",
       " 'your',\n",
       " 'organization',\n",
       " 'or',\n",
       " 'association',\n",
       " 'Therefore',\n",
       " 'wehave',\n",
       " 'associated',\n",
       " 'with',\n",
       " 'the',\n",
       " 'top',\n",
       " 'you',\n",
       " 'will',\n",
       " 'receive',\n",
       " 'the',\n",
       " 'most',\n",
       " 'reliable',\n",
       " 'and',\n",
       " 'up',\n",
       " 'to',\n",
       " 'date',\n",
       " 'research',\n",
       " 'data',\n",
       " 'available',\n",
       " 'We',\n",
       " 'also',\n",
       " 'provide',\n",
       " 'COTS',\n",
       " 'Commercial',\n",
       " 'off',\n",
       " 'the',\n",
       " 'Shelf',\n",
       " 'business',\n",
       " 'sector',\n",
       " 'reports',\n",
       " 'as',\n",
       " 'custom',\n",
       " 'exploration',\n",
       " 'agreeing',\n",
       " 'your',\n",
       " 'particular',\n",
       " 'needs',\n",
       " 'Our',\n",
       " 'Market',\n",
       " 'Research',\n",
       " 'Reports',\n",
       " 'and',\n",
       " 'Consulting',\n",
       " 'Services',\n",
       " 'Wise',\n",
       " 'Guy',\n",
       " 'Reports',\n",
       " 'features',\n",
       " 'an',\n",
       " 'exhaustive',\n",
       " 'list',\n",
       " 'of',\n",
       " 'market',\n",
       " 'research',\n",
       " 'reports',\n",
       " 'from',\n",
       " 'hundreds',\n",
       " 'of',\n",
       " 'publishers',\n",
       " 'worldwide',\n",
       " 'We',\n",
       " 'boast',\n",
       " 'a',\n",
       " 'database',\n",
       " 'spanning',\n",
       " 'virtually',\n",
       " 'every',\n",
       " 'market',\n",
       " 'category',\n",
       " 'and',\n",
       " 'an',\n",
       " 'even',\n",
       " 'more',\n",
       " 'comprehensive',\n",
       " 'collection',\n",
       " 'of',\n",
       " 'market',\n",
       " 'research',\n",
       " 'reports',\n",
       " 'under',\n",
       " 'these',\n",
       " 'categories',\n",
       " 'and',\n",
       " 'subcategories',\n",
       " 'The',\n",
       " 'Wise',\n",
       " 'Guy',\n",
       " 'Reports',\n",
       " 'team',\n",
       " 'prides',\n",
       " 'itself',\n",
       " 'in',\n",
       " 'being',\n",
       " 'the',\n",
       " 'chosen',\n",
       " 'source',\n",
       " 'for',\n",
       " 'market',\n",
       " 'research',\n",
       " 'reports',\n",
       " 'report',\n",
       " 'customizations',\n",
       " 'services',\n",
       " 'and',\n",
       " 'other',\n",
       " 'ancillary',\n",
       " 'services',\n",
       " 'such',\n",
       " 'as',\n",
       " 'a',\n",
       " 'Newsletter',\n",
       " 'service',\n",
       " 'and',\n",
       " 'corporate',\n",
       " 'service',\n",
       " 'for',\n",
       " 'large',\n",
       " 'organizations',\n",
       " 'Hundreds',\n",
       " 'of',\n",
       " 'large',\n",
       " 'and',\n",
       " 'small',\n",
       " 'organizations',\n",
       " 'across',\n",
       " 'virtually',\n",
       " 'every',\n",
       " 'industry',\n",
       " 'sector',\n",
       " 'worldwide',\n",
       " 'are',\n",
       " 'currently',\n",
       " 'reaping',\n",
       " 'rich',\n",
       " 'dividends',\n",
       " 'from',\n",
       " 'the',\n",
       " 'sharp',\n",
       " 'insights',\n",
       " 'provided',\n",
       " 'by',\n",
       " 'market',\n",
       " 'research',\n",
       " 'reports',\n",
       " 'sourced',\n",
       " 'through',\n",
       " 'Wise',\n",
       " 'Guy',\n",
       " 'Reports',\n",
       " 'Gaining',\n",
       " 'an',\n",
       " 'insight',\n",
       " 'into',\n",
       " 'emerging',\n",
       " 'trends',\n",
       " 'opportunities',\n",
       " 'and',\n",
       " 'potential',\n",
       " 'threats',\n",
       " 'is',\n",
       " 'key',\n",
       " 'to',\n",
       " 'longterm',\n",
       " 'sustenance',\n",
       " 'in',\n",
       " 'a',\n",
       " 'competitive',\n",
       " 'environment',\n",
       " 'The',\n",
       " 'handpicked',\n",
       " 'collection',\n",
       " 'of',\n",
       " 'market',\n",
       " 'research',\n",
       " 'reports',\n",
       " 'on',\n",
       " 'Wise',\n",
       " 'Guy',\n",
       " 'Reports',\n",
       " 'is',\n",
       " 'centred',\n",
       " 'on',\n",
       " 'this',\n",
       " 'proven',\n",
       " 'principle']"
      ]
     },
     "execution_count": 6,
     "metadata": {},
     "output_type": "execute_result"
    }
   ],
   "source": [
    "# Perform more feature tockenization on partial text\n",
    "# function from lucem_illud/lucem_illud/processing.py\n",
    "def word_tokenize(word_list, model=nlp, MAX_LEN=15000000):\n",
    "    \n",
    "    tokenized = []\n",
    "    if type(word_list) == list and len(word_list) == 1:\n",
    "        word_list = word_list[0]\n",
    "\n",
    "    if type(word_list) == list:\n",
    "        word_list = ' '.join([str(elem) for elem in word_list]) \n",
    "    # removed RAM intensive operations and increase max text size\n",
    "\n",
    "    model.max_length = MAX_LEN\n",
    "    doc = model(word_list, disable=[\"parser\", \"tagger\", \"ner\"])\n",
    "    \n",
    "    for token in doc:\n",
    "        if not token.is_punct and len(token.text.strip()) > 0:\n",
    "            tokenized.append(token.text)\n",
    "    return tokenized\n",
    "\n",
    "word_tokenize(merged_df['text'][3])"
   ]
  },
  {
   "cell_type": "markdown",
   "metadata": {},
   "source": [
    "## 4.EDA/Exam the text more closely \n"
   ]
  },
  {
   "cell_type": "code",
   "execution_count": 6,
   "metadata": {},
   "outputs": [
    {
     "data": {
      "text/plain": [
       "Index(['textID', 'text', '#words', 'date', 'country', 'website', 'url',\n",
       "       'title', 'year'],\n",
       "      dtype='object')"
      ]
     },
     "execution_count": 6,
     "metadata": {},
     "output_type": "execute_result"
    }
   ],
   "source": [
    "merged_df.columns"
   ]
  },
  {
   "cell_type": "code",
   "execution_count": 4,
   "metadata": {},
   "outputs": [
    {
     "data": {
      "text/plain": [
       "(25594, 9)"
      ]
     },
     "execution_count": 4,
     "metadata": {},
     "output_type": "execute_result"
    }
   ],
   "source": [
    "merged_df.shape"
   ]
  },
  {
   "cell_type": "code",
   "execution_count": 10,
   "metadata": {},
   "outputs": [
    {
     "data": {
      "text/html": [
       "<div>\n",
       "<style scoped>\n",
       "    .dataframe tbody tr th:only-of-type {\n",
       "        vertical-align: middle;\n",
       "    }\n",
       "\n",
       "    .dataframe tbody tr th {\n",
       "        vertical-align: top;\n",
       "    }\n",
       "\n",
       "    .dataframe thead th {\n",
       "        text-align: right;\n",
       "    }\n",
       "</style>\n",
       "<table border=\"1\" class=\"dataframe\">\n",
       "  <thead>\n",
       "    <tr style=\"text-align: right;\">\n",
       "      <th></th>\n",
       "      <th>textID</th>\n",
       "      <th>text</th>\n",
       "      <th>#words</th>\n",
       "      <th>date</th>\n",
       "      <th>country</th>\n",
       "      <th>website</th>\n",
       "      <th>url</th>\n",
       "      <th>title</th>\n",
       "      <th>year</th>\n",
       "    </tr>\n",
       "  </thead>\n",
       "  <tbody>\n",
       "    <tr>\n",
       "      <th>0</th>\n",
       "      <td>16223152</td>\n",
       "      <td>is growing rapidly and is expected to grow at ...</td>\n",
       "      <td>333.0</td>\n",
       "      <td>17-01-04</td>\n",
       "      <td>AU</td>\n",
       "      <td>NewsMake</td>\n",
       "      <td>http://www.newsmaker.com.au/news/210232/digita...</td>\n",
       "      <td>Digital Pathology Market Key Players Q2 Soluti...</td>\n",
       "      <td>17.0</td>\n",
       "    </tr>\n",
       "    <tr>\n",
       "      <th>1</th>\n",
       "      <td>16233365</td>\n",
       "      <td>a community owned , not for profit organisatio...</td>\n",
       "      <td>458.0</td>\n",
       "      <td>17-01-04</td>\n",
       "      <td>AU</td>\n",
       "      <td>PRWir</td>\n",
       "      <td>http://prwire.com.au/pr/64982/make-2017-your-y...</td>\n",
       "      <td>Make 2017 your year to get a little bit of hel...</td>\n",
       "      <td>17.0</td>\n",
       "    </tr>\n",
       "    <tr>\n",
       "      <th>2</th>\n",
       "      <td>16336940</td>\n",
       "      <td>Clinicians call for government to improve broa...</td>\n",
       "      <td>539.0</td>\n",
       "      <td>17-01-10</td>\n",
       "      <td>AU</td>\n",
       "      <td>CIO Australia</td>\n",
       "      <td>http://www.cio.com.au/article/612580/clinician...</td>\n",
       "      <td>Clinicians call for government to improve broa...</td>\n",
       "      <td>17.0</td>\n",
       "    </tr>\n",
       "    <tr>\n",
       "      <th>3</th>\n",
       "      <td>16457068</td>\n",
       "      <td>Market Segment by Regions , this report splits...</td>\n",
       "      <td>336.0</td>\n",
       "      <td>17-01-18</td>\n",
       "      <td>AU</td>\n",
       "      <td>NewsMake</td>\n",
       "      <td>http://www.newsmaker.com.au/news/224423/global...</td>\n",
       "      <td>Global Healthcare IT Solutions Market Growth, ...</td>\n",
       "      <td>17.0</td>\n",
       "    </tr>\n",
       "    <tr>\n",
       "      <th>4</th>\n",
       "      <td>16497238</td>\n",
       "      <td>Market Study on Expected Growth for Critical C...</td>\n",
       "      <td>719.0</td>\n",
       "      <td>17-01-20</td>\n",
       "      <td>AU</td>\n",
       "      <td>NewsMake</td>\n",
       "      <td>http://www.newsmaker.com.au/news/227591/market...</td>\n",
       "      <td>Market Study on Expected Growth for Critical C...</td>\n",
       "      <td>17.0</td>\n",
       "    </tr>\n",
       "  </tbody>\n",
       "</table>\n",
       "</div>"
      ],
      "text/plain": [
       "     textID                                               text  #words  \\\n",
       "0  16223152  is growing rapidly and is expected to grow at ...   333.0   \n",
       "1  16233365  a community owned , not for profit organisatio...   458.0   \n",
       "2  16336940  Clinicians call for government to improve broa...   539.0   \n",
       "3  16457068  Market Segment by Regions , this report splits...   336.0   \n",
       "4  16497238  Market Study on Expected Growth for Critical C...   719.0   \n",
       "\n",
       "       date country        website  \\\n",
       "0  17-01-04      AU       NewsMake   \n",
       "1  17-01-04      AU          PRWir   \n",
       "2  17-01-10      AU  CIO Australia   \n",
       "3  17-01-18      AU       NewsMake   \n",
       "4  17-01-20      AU       NewsMake   \n",
       "\n",
       "                                                 url  \\\n",
       "0  http://www.newsmaker.com.au/news/210232/digita...   \n",
       "1  http://prwire.com.au/pr/64982/make-2017-your-y...   \n",
       "2  http://www.cio.com.au/article/612580/clinician...   \n",
       "3  http://www.newsmaker.com.au/news/224423/global...   \n",
       "4  http://www.newsmaker.com.au/news/227591/market...   \n",
       "\n",
       "                                               title  year  \n",
       "0  Digital Pathology Market Key Players Q2 Soluti...  17.0  \n",
       "1  Make 2017 your year to get a little bit of hel...  17.0  \n",
       "2  Clinicians call for government to improve broa...  17.0  \n",
       "3  Global Healthcare IT Solutions Market Growth, ...  17.0  \n",
       "4  Market Study on Expected Growth for Critical C...  17.0  "
      ]
     },
     "execution_count": 10,
     "metadata": {},
     "output_type": "execute_result"
    }
   ],
   "source": [
    "merged_df.head()"
   ]
  },
  {
   "cell_type": "markdown",
   "metadata": {},
   "source": [
    "### 4.1 Text Length Distribution "
   ]
  },
  {
   "cell_type": "code",
   "execution_count": 34,
   "metadata": {},
   "outputs": [
    {
     "data": {
      "text/plain": [
       "<Axes: >"
      ]
     },
     "execution_count": 34,
     "metadata": {},
     "output_type": "execute_result"
    },
    {
     "data": {
      "image/png": "[encoded data removed]",
      "text/plain": [
       "<Figure size 432x288 with 1 Axes>"
      ]
     },
     "metadata": {
      "needs_background": "light"
     },
     "output_type": "display_data"
    }
   ],
   "source": [
    "merged_df['text'].str.len().hist()"
   ]
  },
  {
   "cell_type": "code",
   "execution_count": 29,
   "metadata": {},
   "outputs": [
    {
     "data": {
      "text/plain": [
       "<Axes: >"
      ]
     },
     "execution_count": 29,
     "metadata": {},
     "output_type": "execute_result"
    },
    {
     "data": {
      "image/png": "[encoded data removed]",
      "text/plain": [
       "<Figure size 432x288 with 1 Axes>"
      ]
     },
     "metadata": {
      "needs_background": "light"
     },
     "output_type": "display_data"
    }
   ],
   "source": [
    "# number of words appearing in each text at word level\n",
    "merged_df['text'].str.split().map(lambda x:len(x)).hist()"
   ]
  },
  {
   "cell_type": "code",
   "execution_count": 32,
   "metadata": {},
   "outputs": [
    {
     "data": {
      "text/plain": [
       "<Axes: >"
      ]
     },
     "execution_count": 32,
     "metadata": {},
     "output_type": "execute_result"
    },
    {
     "data": {
      "image/png": "[encoded data removed]",
      "text/plain": [
       "<Figure size 432x288 with 1 Axes>"
      ]
     },
     "metadata": {
      "needs_background": "light"
     },
     "output_type": "display_data"
    }
   ],
   "source": [
    "#  average word length in each sentence\n",
    "merged_df['text'].str.split().apply(lambda x: [len(i)for i in x]).map(lambda x: np.mean(x)).hist()"
   ]
  },
  {
   "cell_type": "code",
   "execution_count": 7,
   "metadata": {},
   "outputs": [
    {
     "data": {
      "text/plain": [
       "US    14367\n",
       "CA     2206\n",
       "IN     2080\n",
       "AU     1668\n",
       "SG      856\n",
       "GB      762\n",
       "NG      597\n",
       "NZ      497\n",
       "PH      451\n",
       "ZA      441\n",
       "IE      434\n",
       "PK      285\n",
       "MY      274\n",
       "KE      168\n",
       "BD       99\n",
       "??       91\n",
       "LK       82\n",
       "HK       72\n",
       "GH       40\n",
       "JM       40\n",
       "TZ       34\n",
       "?         5\n",
       "          1\n",
       "Name: country, dtype: int64"
      ]
     },
     "execution_count": 7,
     "metadata": {},
     "output_type": "execute_result"
    }
   ],
   "source": [
    "merged_df['country'].value_counts()"
   ]
  },
  {
   "cell_type": "code",
   "execution_count": 9,
   "metadata": {},
   "outputs": [
    {
     "data": {
      "text/plain": [
       "Business Insider              537\n",
       "Forbes                        449\n",
       "The Motley Fool               435\n",
       "YAHOO!Finance                 419\n",
       "politico.com                  235\n",
       "                             ... \n",
       "Variety on MSN.com              1\n",
       "The Topeka Capital-Journal      1\n",
       "United States Army              1\n",
       "PopSugar on MSN.com             1\n",
       "ProPublica                      1\n",
       "Name: website, Length: 3020, dtype: int64"
      ]
     },
     "execution_count": 9,
     "metadata": {},
     "output_type": "execute_result"
    }
   ],
   "source": [
    "merged_df['website'].value_counts()"
   ]
  },
  {
   "cell_type": "code",
   "execution_count": 15,
   "metadata": {},
   "outputs": [],
   "source": [
    "# Ensure 'year' is of type string for categorical plotting\n",
    "merged_df['year'] = merged_df['year'].astype(str)\n",
    "\n",
    "# Filter out rows where 'country' is NaN or does not contain only alphabets\n",
    "filtered_df = merged_df[pd.notnull(merged_df['country']) & merged_df['country'].str.isalpha()]\n",
    "\n",
    "# Group the data by 'country' and 'year' and count the occurrences\n",
    "country_year_df = filtered_df.groupby(['country', 'year']).size().reset_index(name='counts')\n",
    "\n",
    "# Pivot the DataFrame to have countries as columns, years as rows\n",
    "pivot_df = country_year_df.pivot(index='year', columns='country', values='counts').fillna(0)\n",
    "\n",
    "# Sort the DataFrame by index (year) if necessary\n",
    "pivot_df.sort_index(inplace=True)\n"
   ]
  },
  {
   "cell_type": "code",
   "execution_count": 23,
   "metadata": {},
   "outputs": [
    {
     "data": {
      "image/png": "[encoded data removed]",
      "text/plain": [
       "<Figure size 720x504 with 1 Axes>"
      ]
     },
     "metadata": {
      "needs_background": "light"
     },
     "output_type": "display_data"
    }
   ],
   "source": [
    "# Define a colormap/ a list of colors\n",
    "# colormap = get_cmap('tab20')  # Colormap with 20 distinct colors\n",
    "# colors = [colormap(i) for i in range(len(pivot_df.columns))]\n",
    "custom_colors = [\n",
    "    '#1f77b4', '#ff7f0e', '#2ca02c', '#d62728', '#9467bd',\n",
    "    '#8c564b', '#e377c2', '#7f7f7f', '#bcbd22', '#17becf',\n",
    "    '#1a55FF', '#2BD314', '#D98219', '#9C19D9', '#D91919',\n",
    "    '#19D9D8', '#D7D919', '#FF56D9', '#323432', '#8A9A5B'\n",
    "]\n",
    "\n",
    "# Use 'custom_colors' in the plotting command\n",
    "pivot_df.plot(kind='bar', stacked=False, figsize=(10, 7), color=custom_colors)\n",
    "\n",
    "# Add some labels and title\n",
    "plt.xlabel('Year')\n",
    "plt.ylabel('Number of Documents')\n",
    "plt.title('Number of Documents by Year and Country')\n",
    "\n",
    "# Rotate the x-axis labels so they are readable\n",
    "plt.xticks(rotation=45)\n",
    "\n",
    "# Display the legend\n",
    "plt.legend(title='Country')\n",
    "\n",
    "# Show the plot\n",
    "plt.tight_layout()  # Adjust the layout to make room for the x-axis labels\n",
    "plt.show()\n"
   ]
  },
  {
   "cell_type": "markdown",
   "metadata": {},
   "source": [
    "* We can see that in general, there is an indication of growth in telehealth documentation from all countries in the most recent years depicted, especially in the US, which could be attributed to factors like the COVID-19 pandemic accelerating the adoption of telehealth services. Certain countries like India and US stand out for having higher overall activity levels, possibly due to more developed telehealth services or have had events that led to more documentation and research. Interestingly, US and some other countries shows decreasing telehealth documents trend after 2020."
   ]
  },
  {
   "cell_type": "markdown",
   "metadata": {},
   "source": [
    "### 4.2 NLTK - word tokenize and collocations"
   ]
  },
  {
   "cell_type": "code",
   "execution_count": 17,
   "metadata": {},
   "outputs": [],
   "source": [
    "def word_tokenize(word_list):\n",
    "    tokenized = []\n",
    "    # pass word list through language model.\n",
    "    doc = nlp(word_list)\n",
    "    for token in doc:\n",
    "        if not token.is_punct and len(token.text.strip()) > 0:\n",
    "            tokenized.append(token.text)\n",
    "    return tokenized"
   ]
  },
  {
   "cell_type": "code",
   "execution_count": 25,
   "metadata": {},
   "outputs": [],
   "source": [
    "# Global - to store all tokens\n",
    "all_tokens = []\n",
    "# Function to process a chunk of data\n",
    "def process_chunk(text_series):\n",
    "    global all_tokens  # Declare the use of the global variable\n",
    "    all_text = ' '.join(text_series.astype(str))\n",
    "    tokens = word_tokenize(all_text)\n",
    "    all_tokens.extend(tokens)  # Append tokens from this chunk to the global token list\n",
    "    text_object = Text(tokens)\n",
    "    return text_object\n",
    "\n",
    "# Number of rows per chunk\n",
    "chunk_size = 100  # Adjust \n",
    "\n",
    "# List to store Text objects\n",
    "text_objects = []\n",
    "\n",
    "# Process DataFrame in chunks\n",
    "for start in range(0, len(merged_df), chunk_size):\n",
    "    end = start + chunk_size\n",
    "    chunk = merged_df['text'][start:end]\n",
    "    text_obj = process_chunk(chunk)\n",
    "    text_objects.append(text_obj)\n",
    "\n",
    "# text_objects is a list of NLTK Text objects, each representing a chunk of data\n",
    "text_objects[0].collocations() # find frequently occurring pairs of words (bigrams)\n",
    "text_objects[0].concordance('telehealth') #search for a word within the text and display its immediate context"
   ]
  },
  {
   "cell_type": "code",
   "execution_count": null,
   "metadata": {},
   "outputs": [],
   "source": [
    "# 2. count words\n",
    "countedWords = wordCounter(text_objects[0])\n",
    "countedWords.sort_values('count', ascending=False, inplace=True)\n",
    "countedWords[:100]"
   ]
  },
  {
   "cell_type": "code",
   "execution_count": null,
   "metadata": {},
   "outputs": [],
   "source": [
    "fig = plt.figure()\n",
    "ax = fig.add_subplot(111)\n",
    "plt.plot(range(len(countedWords)), countedWords['count'])\n",
    "ax.set_yscale('log')\n",
    "ax.set_xscale('log')\n",
    "plt.show()"
   ]
  },
  {
   "cell_type": "markdown",
   "metadata": {},
   "source": [
    "Observed by plotting the data on a log-log graph, with the axes being log (rank order) and log (frequency) resulting in a linear relationship.This shows that likelihood of a word occurring is inversely proportional to its rank, aligns with the [Zipf's Law](https://en.wikipedia.org/wiki/Zipf%27s_law), and suggests that the most frequent word will occur approximately twice as often as the second most frequent word, three times as often as the third most frequent word, etc. "
   ]
  },
  {
   "cell_type": "markdown",
   "metadata": {},
   "source": [
    "### 4.3 sklearn n-gram"
   ]
  },
  {
   "cell_type": "code",
   "execution_count": 37,
   "metadata": {},
   "outputs": [],
   "source": [
    "def plot_selected_top_ngrams_barchart(text, n=2, topcount=20):\n",
    "    new = text.str.split()\n",
    "    new = new.values.tolist()\n",
    "    corpus = [word for i in new for word in i]\n",
    "\n",
    "    def _get_top_ngram(corpus, n=None):\n",
    "        vec = CountVectorizer(stop_words='english', ngram_range=(n, n)).fit(corpus)\n",
    "        global bag_of_words\n",
    "        bag_of_words = vec.transform(corpus)\n",
    "        sum_words = bag_of_words.sum(axis=0)\n",
    "        global words_freq\n",
    "        words_freq = [(word, sum_words[0, idx]) for word, idx in vec.vocabulary_.items()]\n",
    "        words_freq = sorted(words_freq, key=lambda x: x[1], reverse=True)\n",
    "        return words_freq\n",
    "\n",
    "    top_n_bigrams = _get_top_ngram(corpus, n)[:topcount]\n",
    "    x, y = map(list, zip(*top_n_bigrams))\n",
    "    sns.barplot(x=y, y=x)"
   ]
  },
  {
   "cell_type": "code",
   "execution_count": 19,
   "metadata": {},
   "outputs": [
    {
     "data": {
      "image/png": "[encoded data removed]",
      "text/plain": [
       "<Figure size 432x288 with 1 Axes>"
      ]
     },
     "metadata": {
      "needs_background": "light"
     },
     "output_type": "display_data"
    }
   ],
   "source": [
    "# plot_top_ngrams_barchart(test_ser, n=1, topcount = 30)\n",
    "plot_selected_top_ngrams_barchart(merged_df['normalized_tokens'], n=1, topcount = 30)"
   ]
  },
  {
   "cell_type": "code",
   "execution_count": 38,
   "metadata": {},
   "outputs": [
    {
     "data": {
      "image/png": "[encoded data removed]",
      "text/plain": [
       "<Figure size 432x288 with 1 Axes>"
      ]
     },
     "metadata": {
      "needs_background": "light"
     },
     "output_type": "display_data"
    }
   ],
   "source": [
    "#plot_selected_top_ngrams_barchart(merged_df['normalized_tokens'], n=2, topcount = 30)\n",
    "plot_selected_top_ngrams_barchart(my_doc, n=2, topcount = 30)"
   ]
  },
  {
   "cell_type": "code",
   "execution_count": 39,
   "metadata": {},
   "outputs": [
    {
     "data": {
      "image/png": "[encoded data removed]",
      "text/plain": [
       "<Figure size 432x288 with 1 Axes>"
      ]
     },
     "metadata": {
      "needs_background": "light"
     },
     "output_type": "display_data"
    }
   ],
   "source": [
    "#plot_selected_top_ngrams_barchart(merged_df['normalized_tokens'], n=3, topcount = 30)\n",
    "plot_selected_top_ngrams_barchart(my_doc, n=3, topcount = 30)"
   ]
  },
  {
   "cell_type": "code",
   "execution_count": 40,
   "metadata": {},
   "outputs": [
    {
     "data": {
      "image/png": "[encoded data removed]",
      "text/plain": [
       "<Figure size 432x288 with 1 Axes>"
      ]
     },
     "metadata": {
      "needs_background": "light"
     },
     "output_type": "display_data"
    }
   ],
   "source": [
    "#plot_selected_top_ngrams_barchart(merged_df['normalized_tokens'], n=4, topcount = 30)\n",
    "plot_selected_top_ngrams_barchart(my_doc, n=4, topcount = 30)"
   ]
  },
  {
   "cell_type": "code",
   "execution_count": 41,
   "metadata": {},
   "outputs": [
    {
     "data": {
      "image/png": "[encoded data removed]",
      "text/plain": [
       "<Figure size 432x288 with 1 Axes>"
      ]
     },
     "metadata": {
      "needs_background": "light"
     },
     "output_type": "display_data"
    }
   ],
   "source": [
    "#plot_selected_top_ngrams_barchart(merged_df['normalized_tokens'], n=5, topcount = 30)\n",
    "plot_selected_top_ngrams_barchart(my_doc, n=5, topcount = 30)"
   ]
  },
  {
   "cell_type": "markdown",
   "metadata": {},
   "source": [
    "### 4.4 Further cleaning the text"
   ]
  },
  {
   "cell_type": "code",
   "execution_count": 12,
   "metadata": {},
   "outputs": [],
   "source": [
    "# remove symbols, >,<,:,....\n",
    "\n",
    "import re\n",
    "\n",
    "# Function to clean text\n",
    "def clean_text(text):\n",
    "    # Ensure text is a string\n",
    "    text = str(text)\n",
    "    # Convert to lowercase\n",
    "    text = text.lower()\n",
    "\n",
    "    # Remove URLs\n",
    "    text = re.sub(r'(https?://\\S+|www\\.\\S+)', '', text)\n",
    "    \n",
    "    # Remove symbols\n",
    "    symbols = ['\\?', '\\?\\?', '>', '<', ';', ':', '<>']\n",
    "    for symbol in symbols:\n",
    "        text = re.sub(r'['+symbol+']', '', text)\n",
    "    \n",
    "    # Remove extra whitespaces\n",
    "    text = re.sub(r'\\s+', ' ', text).strip()\n",
    "    \n",
    "    return text\n",
    "\n",
    "# Apply the cleaning function to the DataFrame\n",
    "merged_df['cleaned_text'] = merged_df['text'].apply(clean_text)\n",
    "\n"
   ]
  },
  {
   "cell_type": "code",
   "execution_count": 14,
   "metadata": {},
   "outputs": [
    {
     "name": "stdout",
     "output_type": "stream",
     "text": [
      "                                                    text  \\\n",
      "0      is growing rapidly and is expected to grow at ...   \n",
      "1      a community owned , not for profit organisatio...   \n",
      "2      Clinicians call for government to improve broa...   \n",
      "3      Market Segment by Regions , this report splits...   \n",
      "4      Market Study on Expected Growth for Critical C...   \n",
      "...                                                  ...   \n",
      "25589  As overthecounter hearing aids gain traction i...   \n",
      "25590  Technology and data can improve SA healthcare ...   \n",
      "25591  Dr Razi said : \" Sehat Kahani is an incredible...   \n",
      "25592  Georgie allows specialists in the Groote Schuu...   \n",
      "25593  Telco sector policy wins and losses for 2023 D...   \n",
      "\n",
      "                                            cleaned_text  \n",
      "0      is growing rapidly and is expected to grow at ...  \n",
      "1      a community owned , not for profit organisatio...  \n",
      "2      clinicians call for government to improve broa...  \n",
      "3      market segment by regions , this report splits...  \n",
      "4      market study on expected growth for critical c...  \n",
      "...                                                  ...  \n",
      "25589  as overthecounter hearing aids gain traction i...  \n",
      "25590  technology and data can improve sa healthcare ...  \n",
      "25591  dr razi said \" sehat kahani is an incredible h...  \n",
      "25592  georgie allows specialists in the groote schuu...  \n",
      "25593  telco sector policy wins and losses for 2023 d...  \n",
      "\n",
      "[25594 rows x 2 columns]\n"
     ]
    }
   ],
   "source": [
    "print(merged_df[['text', 'cleaned_text']])"
   ]
  },
  {
   "cell_type": "markdown",
   "metadata": {},
   "source": [
    "### 4. NER"
   ]
  },
  {
   "cell_type": "code",
   "execution_count": 16,
   "metadata": {},
   "outputs": [],
   "source": [
    "def process_text(item, max_length=1000000):\n",
    "    # Check the length of the item\n",
    "    if len(item) <= max_length:\n",
    "        return nlp(item)\n",
    "    else:\n",
    "        # Handle long texts, e.g., by truncating or splitting\n",
    "        # Here's a simple truncation example\n",
    "        return nlp(item[:max_length])\n",
    "\n",
    "dat_corpus = merged_df['cleaned_text'].dropna()\n",
    "dat_test = [process_text(item) for item in dat_corpus]\n",
    "\n"
   ]
  },
  {
   "cell_type": "code",
   "execution_count": 17,
   "metadata": {},
   "outputs": [],
   "source": [
    "def remove_ner(text):\n",
    "    doc = nlp(text)\n",
    "    newString = text\n",
    "    for e in reversed(doc.ents):\n",
    "        #if e.label_ == \"PERSON\": # Only if the entity is a PERSON\n",
    "        if e.label_ in [\"PERSON\", \"DATE\", \"TIME\",'PERCENT','QUANTITY'] :\n",
    "            newString = newString[:e.start_char] + newString[e.start_char + len(e.text):]\n",
    "    return newString"
   ]
  },
  {
   "cell_type": "code",
   "execution_count": 18,
   "metadata": {},
   "outputs": [],
   "source": [
    "## NER find names and remove from each doc\n",
    "my_doc_ner = [remove_ner(str(my_doc))  for my_doc in dat_test]"
   ]
  },
  {
   "cell_type": "code",
   "execution_count": 27,
   "metadata": {},
   "outputs": [
    {
     "data": {
      "text/plain": [
       "\"a community owned , not for profit organisation offering quality care and lifestyle support for older australians since  . feros care 's mission is to be a strong ambassador and partner in the lives of seniors , with a focus on creating a range of lifestyle options that support independence , social connectedness and healthy ageing . feros care has a proven track record in pioneering new services and ensuring that all care and service packages are reliable , flexible , affordable and designed to meet individual needs . feros care has been recognised with national and international awards for innovations in care models , technology , positive living , culture and leadership . feros care operates feros village byron bay ( 40 low care beds ) , feros village bangalow ( 64 high care beds ) and feros village wommin bay ( 70 low and high care beds ) . in  , feros began offering extra services in an exclusive 16 bed cottage on the grounds of feros village bangalow . respite options include residential respite ( high or low care offering overnight , weekend and  the care is delivered in the home of the carerecipient or carer . the feros care at home experience extends to the provision of home and community care , consumer directed care ( cdc ) packages , veterans ' community nursing , at home palliative care , lifelink telehealthcare , allied health and wellness and private services . make  your year to get a little bit of help at home a little bit of help goes a long way in helping seniors to stay healthy , active and connected to their community , and living independently in their own home . this care and support is provided by australia 's many aged care workers ( approximately 400,0001 ) , and while they may not be family or friends , they are good , kind people who are very handy to have around . home care comes in all shapes and sizes and assists seniors to do more , achieve more and enjoy more in life . the kind of help available is housework gardening and maintenance personal care installing to and from your medical and other appointments meal preparation respite care physiotherapy , podiatry or other allied health services seniors fitness programs social activities and transport to get you out and about and connecting with friends nursing care such as medication management depending on your circumstances , you may only need assistance for a short time , especially when you 're recovering from an injury or illness . to find out more about home care or to get you started , contact feros care on  583 . our team will be able to discuss what services are available in your area , and can help you get set up through my aged care .\""
      ]
     },
     "execution_count": 27,
     "metadata": {},
     "output_type": "execute_result"
    }
   ],
   "source": [
    "my_doc_ner[1]"
   ]
  },
  {
   "cell_type": "code",
   "execution_count": 19,
   "metadata": {},
   "outputs": [
    {
     "data": {
      "text/plain": [
       "str"
      ]
     },
     "execution_count": 19,
     "metadata": {},
     "output_type": "execute_result"
    }
   ],
   "source": [
    "type(my_doc_ner[1])"
   ]
  },
  {
   "cell_type": "code",
   "execution_count": 22,
   "metadata": {},
   "outputs": [],
   "source": [
    "from collections import Counter\n",
    "def plot_named_entity_barchart(text):\n",
    "    #nlp = spacy.load(\"en_core_web_sm\")\n",
    "    def _get_ner(text):\n",
    "        doc=nlp(text)\n",
    "        return [X.label_ for X in doc.ents]\n",
    "    \n",
    "    ent=[_get_ner(str(my_doc)) for my_doc in text]\n",
    "    ent=[x for sub in ent for x in sub]\n",
    "    counter=Counter(ent)\n",
    "    count=counter.most_common()\n",
    "    \n",
    "    x,y=map(list,zip(*count))\n",
    "    sns.barplot(x=y,y=x)"
   ]
  },
  {
   "cell_type": "code",
   "execution_count": 28,
   "metadata": {},
   "outputs": [
    {
     "data": {
      "image/png": "[encoded data removed]",
      "text/plain": [
       "<Figure size 432x288 with 1 Axes>"
      ]
     },
     "metadata": {
      "needs_background": "light"
     },
     "output_type": "display_data"
    }
   ],
   "source": [
    "plot_named_entity_barchart(my_doc_ner[:500])"
   ]
  },
  {
   "cell_type": "code",
   "execution_count": null,
   "metadata": {},
   "outputs": [],
   "source": [
    "plot_named_entity_barchart(my_doc_ner[:5000])"
   ]
  },
  {
   "cell_type": "code",
   "execution_count": 35,
   "metadata": {},
   "outputs": [],
   "source": [
    "my_doc= pd.Series(my_doc_ner)"
   ]
  },
  {
   "cell_type": "markdown",
   "metadata": {},
   "source": [
    "### 4.4 Spacy tokenized"
   ]
  },
  {
   "cell_type": "code",
   "execution_count": null,
   "metadata": {},
   "outputs": [],
   "source": [
    "def tokenize_text(text, chunk_size=2500):\n",
    "    \"\"\"\n",
    "    Tokenize text using Spacy, processing in chunks.\n",
    "    \"\"\"\n",
    "    tokens = []\n",
    "    for i in range(0, len(text), chunk_size):\n",
    "        doc = nlp(text[i:i + chunk_size], disable=[\"parser\", \"ner\"])\n",
    "        tokens.extend([token.text for token in doc if not token.is_punct])\n",
    "    return tokens\n",
    "\n",
    "# Apply the function to each row in your DataFrame\n",
    "merged_df['tokenized_text'] = merged_df['text'].apply(tokenize_text)\n"
   ]
  },
  {
   "cell_type": "code",
   "execution_count": null,
   "metadata": {},
   "outputs": [],
   "source": [
    "# 1\n",
    "countsDict = {}\n",
    "for word in merged_df['tokenized_text'].sum():\n",
    "    if word in countsDict:\n",
    "        countsDict[word] += 1\n",
    "    else:\n",
    "        countsDict[word] = 1\n",
    "word_counts = sorted(countsDict.items(), key = lambda x : x[1], reverse = True)"
   ]
  },
  {
   "cell_type": "code",
   "execution_count": null,
   "metadata": {},
   "outputs": [],
   "source": [
    "word_counts[:30]"
   ]
  },
  {
   "cell_type": "code",
   "execution_count": null,
   "metadata": {},
   "outputs": [],
   "source": [
    "# 2\n",
    "#The stop list is then all words that occur before the first noun\n",
    "stop_words_freq = []\n",
    "for word, count in word_counts:\n",
    "    if word == 'health':\n",
    "        break\n",
    "    else:\n",
    "        stop_words_freq.append(word)\n",
    "stop_words_freq"
   ]
  },
  {
   "cell_type": "code",
   "execution_count": null,
   "metadata": {},
   "outputs": [],
   "source": [
    "# 3\n",
    "merged_df['normalized_tokens'] = merged_df['tokenized_text'].apply(lambda x: normalizeTokens(x))\n",
    "\n",
    "merged_df['normalized_tokens_count'] = merged_df['normalized_tokens'].apply(lambda x: len(x))"
   ]
  },
  {
   "cell_type": "code",
   "execution_count": null,
   "metadata": {},
   "outputs": [],
   "source": [
    "#4. freq dist\n",
    "#.sum() adds together the lists from each row into a single list\n",
    "healthcfdist = nltk.ConditionalFreqDist(((len(w), w) for w in merged_df['normalized_tokens'].sum()))\n",
    "\n",
    "#print the number of words\n",
    "print(healthcfdist.N())"
   ]
  },
  {
   "cell_type": "code",
   "execution_count": null,
   "metadata": {},
   "outputs": [],
   "source": [
    "# Check the number of conditions in the frequency distribution\n",
    "print(len(healthcfdist.conditions()))\n",
    "\n",
    "# print a sample of the frequency distribution\n",
    "for condition in healthcfdist.conditions()[:5]:\n",
    "    print(condition, healthcfdist[condition])"
   ]
  },
  {
   "cell_type": "code",
   "execution_count": null,
   "metadata": {},
   "outputs": [],
   "source": [
    "healthcfdist[1].plot()"
   ]
  },
  {
   "cell_type": "code",
   "execution_count": null,
   "metadata": {},
   "outputs": [],
   "source": [
    "# 5. Conditional Prob Dist\n",
    "# This does not work for my data because we can see that \n",
    "# the lack of data in conditions 2,3,4,5 is expected due to the nature of the dataset (i.e., it's sparse)\n",
    "#healthcpdist = nltk.ConditionalProbDist(healthcfdist, nltk.ELEProbDist)\n",
    "\n",
    "# #print the most common 2 letter word\n",
    "# print(healthcpdist[1].max())\n",
    "\n",
    "# #And its probability\n",
    "# print(healthcpdist[1].prob(healthcpdist[1].max()))"
   ]
  },
  {
   "cell_type": "code",
   "execution_count": null,
   "metadata": {},
   "outputs": [],
   "source": [
    "merged_df['normalized_tokens_POS'] = [spacy_pos(t) for t in merged_df['text']]"
   ]
  },
  {
   "cell_type": "code",
   "execution_count": 13,
   "metadata": {},
   "outputs": [],
   "source": [
    "#merged_df.to_csv('final_df_withtoken.csv',index=False)\n",
    "merged_df=pd.read_csv(\"D:/NOW/output_files/final_df_withtoken.csv\")"
   ]
  },
  {
   "cell_type": "code",
   "execution_count": 14,
   "metadata": {},
   "outputs": [
    {
     "data": {
      "text/html": [
       "<div>\n",
       "<style scoped>\n",
       "    .dataframe tbody tr th:only-of-type {\n",
       "        vertical-align: middle;\n",
       "    }\n",
       "\n",
       "    .dataframe tbody tr th {\n",
       "        vertical-align: top;\n",
       "    }\n",
       "\n",
       "    .dataframe thead th {\n",
       "        text-align: right;\n",
       "    }\n",
       "</style>\n",
       "<table border=\"1\" class=\"dataframe\">\n",
       "  <thead>\n",
       "    <tr style=\"text-align: right;\">\n",
       "      <th></th>\n",
       "      <th>textID</th>\n",
       "      <th>text</th>\n",
       "      <th>#words</th>\n",
       "      <th>date</th>\n",
       "      <th>country</th>\n",
       "      <th>website</th>\n",
       "      <th>url</th>\n",
       "      <th>title</th>\n",
       "      <th>year</th>\n",
       "      <th>tokenized_text</th>\n",
       "      <th>normalized_tokens</th>\n",
       "      <th>normalized_tokens_count</th>\n",
       "      <th>normalized_tokens_POS</th>\n",
       "    </tr>\n",
       "  </thead>\n",
       "  <tbody>\n",
       "    <tr>\n",
       "      <th>0</th>\n",
       "      <td>16223152</td>\n",
       "      <td>is growing rapidly and is expected to grow at ...</td>\n",
       "      <td>333.0</td>\n",
       "      <td>17-01-04</td>\n",
       "      <td>AU</td>\n",
       "      <td>NewsMake</td>\n",
       "      <td>http://www.newsmaker.com.au/news/210232/digita...</td>\n",
       "      <td>Digital Pathology Market Key Players Q2 Soluti...</td>\n",
       "      <td>17.0</td>\n",
       "      <td>['is', 'growing', 'rapidly', 'and', 'is', 'exp...</td>\n",
       "      <td>['grow', 'rapidly', 'expect', 'grow', 'cagr', ...</td>\n",
       "      <td>183</td>\n",
       "      <td>[('is', 'VBZ'), ('growing', 'VBG'), ('rapidly'...</td>\n",
       "    </tr>\n",
       "    <tr>\n",
       "      <th>1</th>\n",
       "      <td>16233365</td>\n",
       "      <td>a community owned , not for profit organisatio...</td>\n",
       "      <td>458.0</td>\n",
       "      <td>17-01-04</td>\n",
       "      <td>AU</td>\n",
       "      <td>PRWir</td>\n",
       "      <td>http://prwire.com.au/pr/64982/make-2017-your-y...</td>\n",
       "      <td>Make 2017 your year to get a little bit of hel...</td>\n",
       "      <td>17.0</td>\n",
       "      <td>['a', 'community', 'owned', 'not', 'for', 'pro...</td>\n",
       "      <td>['community', 'own', 'profit', 'organisation',...</td>\n",
       "      <td>249</td>\n",
       "      <td>[('a', 'DT'), ('community', 'NN'), ('owned', '...</td>\n",
       "    </tr>\n",
       "    <tr>\n",
       "      <th>2</th>\n",
       "      <td>16336940</td>\n",
       "      <td>Clinicians call for government to improve broa...</td>\n",
       "      <td>539.0</td>\n",
       "      <td>17-01-10</td>\n",
       "      <td>AU</td>\n",
       "      <td>CIO Australia</td>\n",
       "      <td>http://www.cio.com.au/article/612580/clinician...</td>\n",
       "      <td>Clinicians call for government to improve broa...</td>\n",
       "      <td>17.0</td>\n",
       "      <td>['Clinicians', 'call', 'for', 'government', 't...</td>\n",
       "      <td>['clinician', 'government', 'improve', 'broadb...</td>\n",
       "      <td>279</td>\n",
       "      <td>[('clinicians', 'NNS'), ('call', 'VBP'), ('for...</td>\n",
       "    </tr>\n",
       "    <tr>\n",
       "      <th>3</th>\n",
       "      <td>16457068</td>\n",
       "      <td>Market Segment by Regions , this report splits...</td>\n",
       "      <td>336.0</td>\n",
       "      <td>17-01-18</td>\n",
       "      <td>AU</td>\n",
       "      <td>NewsMake</td>\n",
       "      <td>http://www.newsmaker.com.au/news/224423/global...</td>\n",
       "      <td>Global Healthcare IT Solutions Market Growth, ...</td>\n",
       "      <td>17.0</td>\n",
       "      <td>['Market', 'Segment', 'by', 'Regions', 'this',...</td>\n",
       "      <td>['market', 'segment', 'region', 'report', 'spl...</td>\n",
       "      <td>209</td>\n",
       "      <td>[('market', 'NN'), ('segment', 'NN'), ('by', '...</td>\n",
       "    </tr>\n",
       "    <tr>\n",
       "      <th>4</th>\n",
       "      <td>16497238</td>\n",
       "      <td>Market Study on Expected Growth for Critical C...</td>\n",
       "      <td>719.0</td>\n",
       "      <td>17-01-20</td>\n",
       "      <td>AU</td>\n",
       "      <td>NewsMake</td>\n",
       "      <td>http://www.newsmaker.com.au/news/227591/market...</td>\n",
       "      <td>Market Study on Expected Growth for Critical C...</td>\n",
       "      <td>17.0</td>\n",
       "      <td>['Market', 'Study', 'on', 'Expected', 'Growth'...</td>\n",
       "      <td>['market', 'study', 'expect', 'growth', 'criti...</td>\n",
       "      <td>419</td>\n",
       "      <td>[('market', 'NN'), ('study', 'NN'), ('on', 'IN...</td>\n",
       "    </tr>\n",
       "  </tbody>\n",
       "</table>\n",
       "</div>"
      ],
      "text/plain": [
       "     textID                                               text  #words  \\\n",
       "0  16223152  is growing rapidly and is expected to grow at ...   333.0   \n",
       "1  16233365  a community owned , not for profit organisatio...   458.0   \n",
       "2  16336940  Clinicians call for government to improve broa...   539.0   \n",
       "3  16457068  Market Segment by Regions , this report splits...   336.0   \n",
       "4  16497238  Market Study on Expected Growth for Critical C...   719.0   \n",
       "\n",
       "       date country        website  \\\n",
       "0  17-01-04      AU       NewsMake   \n",
       "1  17-01-04      AU          PRWir   \n",
       "2  17-01-10      AU  CIO Australia   \n",
       "3  17-01-18      AU       NewsMake   \n",
       "4  17-01-20      AU       NewsMake   \n",
       "\n",
       "                                                 url  \\\n",
       "0  http://www.newsmaker.com.au/news/210232/digita...   \n",
       "1  http://prwire.com.au/pr/64982/make-2017-your-y...   \n",
       "2  http://www.cio.com.au/article/612580/clinician...   \n",
       "3  http://www.newsmaker.com.au/news/224423/global...   \n",
       "4  http://www.newsmaker.com.au/news/227591/market...   \n",
       "\n",
       "                                               title  year  \\\n",
       "0  Digital Pathology Market Key Players Q2 Soluti...  17.0   \n",
       "1  Make 2017 your year to get a little bit of hel...  17.0   \n",
       "2  Clinicians call for government to improve broa...  17.0   \n",
       "3  Global Healthcare IT Solutions Market Growth, ...  17.0   \n",
       "4  Market Study on Expected Growth for Critical C...  17.0   \n",
       "\n",
       "                                      tokenized_text  \\\n",
       "0  ['is', 'growing', 'rapidly', 'and', 'is', 'exp...   \n",
       "1  ['a', 'community', 'owned', 'not', 'for', 'pro...   \n",
       "2  ['Clinicians', 'call', 'for', 'government', 't...   \n",
       "3  ['Market', 'Segment', 'by', 'Regions', 'this',...   \n",
       "4  ['Market', 'Study', 'on', 'Expected', 'Growth'...   \n",
       "\n",
       "                                   normalized_tokens  normalized_tokens_count  \\\n",
       "0  ['grow', 'rapidly', 'expect', 'grow', 'cagr', ...                      183   \n",
       "1  ['community', 'own', 'profit', 'organisation',...                      249   \n",
       "2  ['clinician', 'government', 'improve', 'broadb...                      279   \n",
       "3  ['market', 'segment', 'region', 'report', 'spl...                      209   \n",
       "4  ['market', 'study', 'expect', 'growth', 'criti...                      419   \n",
       "\n",
       "                               normalized_tokens_POS  \n",
       "0  [('is', 'VBZ'), ('growing', 'VBG'), ('rapidly'...  \n",
       "1  [('a', 'DT'), ('community', 'NN'), ('owned', '...  \n",
       "2  [('clinicians', 'NNS'), ('call', 'VBP'), ('for...  \n",
       "3  [('market', 'NN'), ('segment', 'NN'), ('by', '...  \n",
       "4  [('market', 'NN'), ('study', 'NN'), ('on', 'IN...  "
      ]
     },
     "execution_count": 14,
     "metadata": {},
     "output_type": "execute_result"
    }
   ],
   "source": [
    "merged_df.head()"
   ]
  },
  {
   "cell_type": "code",
   "execution_count": 18,
   "metadata": {},
   "outputs": [
    {
     "data": {
      "text/plain": [
       "0        ['grow', 'rapidly', 'expect', 'grow', 'cagr', ...\n",
       "1        ['community', 'own', 'profit', 'organisation',...\n",
       "2        ['clinician', 'government', 'improve', 'broadb...\n",
       "3        ['market', 'segment', 'region', 'report', 'spl...\n",
       "4        ['market', 'study', 'expect', 'growth', 'criti...\n",
       "                               ...                        \n",
       "25589    ['overthecounter', 'hearing', 'aid', 'gain', '...\n",
       "25590    ['technology', 'datum', 'improve', 'sa', 'heal...\n",
       "25591    ['dr', 'razi', 'say', 'sehat', 'kahani', 'incr...\n",
       "25592    ['georgie', 'allow', 'specialist', 'groote', '...\n",
       "25593    ['telco', 'sector', 'policy', 'win', 'loss', '...\n",
       "Name: normalized_tokens, Length: 25594, dtype: object"
      ]
     },
     "execution_count": 18,
     "metadata": {},
     "output_type": "execute_result"
    }
   ],
   "source": [
    "merged_df['normalized_tokens']"
   ]
  },
  {
   "cell_type": "code",
   "execution_count": 15,
   "metadata": {},
   "outputs": [
    {
     "data": {
      "text/plain": [
       "\"[('is', 'VBZ'), ('growing', 'VBG'), ('rapidly', 'RB'), ('and', 'CC'), ('is', 'VBZ'), ('expected', 'VBN'), ('to', 'TO'), ('grow', 'VB'), ('at', 'IN'), ('the', 'DT'), ('cagr', 'NN'), ('of', 'IN'), ('11.9', 'CD'), ('%', 'NN'), ('by', 'IN'), ('the', 'DT'), ('end', 'NN'), ('of', 'IN'), ('2022', 'CD'), (';', ':'), ('digital', 'JJ'), ('pathology', 'NN'), ('market', 'NN'), ('is', 'VBZ'), ('growing', 'VBG'), ('rapidly', 'RB'), ('and', 'CC'), ('expected', 'VBN'), ('to', 'TO'), ('reach', 'VB'), ('usd', 'NN'), ('700', 'CD'), ('million', 'CD'), ('by', 'IN'), ('the', 'DT'), ('end', 'NN'), ('of', 'IN'), ('2022', 'CD'), ('the', 'DT'), ('global', 'JJ'), ('digital', 'JJ'), ('pathology', 'NN'), ('market', 'NN'), ('has', 'VBZ'), ('been', 'VBN'), ('evaluated', 'VBN'), ('as', 'IN'), ('rapidly', 'RB'), ('growing', 'VBG'), ('market', 'NN'), ('and', 'CC'), ('expected', 'VBD'), ('that', 'IN'), ('the', 'DT'), ('market', 'NN'), ('will', 'MD'), ('reach', 'VB'), ('high', 'JJ'), ('growth', 'NN'), ('figures', 'NNS'), ('.', '.'), ('there', 'EX'), ('has', 'VBZ'), ('been', 'VBN'), ('a', 'DT'), ('tremendous', 'JJ'), ('growth', 'NN'), ('in', 'IN'), ('the', 'DT'), ('number', 'NN'), ('of', 'IN'), ('people', 'NNS'), ('getting', 'VBG'), ('diagnosed', 'VBN'), ('with', 'IN'), ('deadly', 'JJ'), ('diseases', 'NNS'), ('including', 'VBG'), ('cancer', 'NN'), ('.', '.'), ('there', 'EX'), ('has', 'VBZ'), ('been', 'VBN'), ('huge', 'JJ'), ('demand', 'NN'), ('for', 'IN'), ('digital', 'JJ'), ('pathology', 'NN'), ('in', 'IN'), ('the', 'DT'), ('pharmaceutical', 'NN'), ('and', 'CC'), ('biotechnology', 'NN'), ('companies', 'NNS'), ('as', 'RB'), ('well', 'RB'), ('as', 'IN'), ('reference', 'NN'), ('laboratories', 'NNS'), ('.', '.'), ('due', 'IN'), ('to', 'IN'), ('the', 'DT'), ('benefits', 'NNS'), ('offered', 'VBN'), ('by', 'IN'), ('the', 'DT'), ('digital', 'JJ'), ('pathology', 'NN'), (',', ','), ('the', 'DT'), ('phenomenon', 'NN'), ('is', 'VBZ'), ('having', 'VBG'), ('a', 'DT'), ('high', 'JJ'), ('importance', 'NN'), ('in', 'IN'), ('the', 'DT'), ('market', 'NN'), ('.', '.'), ('segmentation', 'NN'), ('digital', 'JJ'), ('pathology', 'NN'), ('market', 'NN'), ('has', 'VBZ'), ('been', 'VBN'), ('segmented', 'VBN'), ('on', 'IN'), ('the', 'DT'), ('basis', 'NN'), ('of', 'IN'), ('types', 'NNS'), ('which', 'WDT'), ('comprises', 'VBZ'), ('of', 'IN'), ('human', 'JJ'), ('pathology', 'NN'), ('and', 'CC'), ('animal', 'NN'), ('pathology', 'NN'), ('.', '.'), ('on', 'IN'), ('the', 'DT'), ('basis', 'NN'), ('of', 'IN'), ('products', 'NNS'), (',', ','), ('market', 'NN'), ('is', 'VBZ'), ('segmented', 'VBN'), ('into', 'IN'), ('scanners', 'NNS'), (',', ','), ('storage', 'NN'), ('server', 'NN'), ('systems', 'NNS'), (',', ','), ('software', 'NN'), ('and', 'CC'), ('others', 'NNS'), ('.', '.'), ('on', 'IN'), ('the', 'DT'), ('basis', 'NN'), ('of', 'IN'), ('application', 'NN'), (',', ','), ('market', 'NN'), ('is', 'VBZ'), ('segmented', 'VBN'), ('into', 'IN'), ('mhealth', 'NN'), (',', ','), ('telemedicine', 'NN'), (',', ','), ('disease', 'NN'), ('diagnosis', 'NN'), (',', ','), ('drug', 'NN'), ('discovery', 'NN'), ('and', 'CC'), ('others', 'NNS'), ('.', '.'), ('on', 'IN'), ('the', 'DT'), ('basis', 'NN'), ('of', 'IN'), (',', ','), ('reference', 'NN'), ('laboratories', 'NNS'), (',', ','), ('research', 'NN'), ('institutes', 'NNS'), ('and', 'CC'), ('others', 'NNS'), ('.', '.'), ('depending', 'VBG'), ('on', 'IN'), ('geographic', 'JJ'), ('region', 'NN'), (',', ','), ('digital', 'JJ'), ('pathology', 'NN'), ('market', 'NN'), ('is', 'VBZ'), ('segmented', 'VBN'), ('into', 'IN'), ('four', 'CD'), ('key', 'JJ'), ('regions', 'NNS'), (':', ':'), ('north', 'NNP'), ('america', 'NNP'), (',', ','), ('europe', 'NNP'), (',', ','), ('asia', 'NNP'), ('pacific', 'NNP'), (',', ','), ('and', 'CC'), ('middle', 'NNP'), ('east', 'NNP'), ('&', 'CC'), ('africa', 'NNP'), ('.', '.'), ('globally', 'RB'), ('north', 'NNP'), ('america', 'NNP'), ('is', 'VBZ'), ('the', 'DT'), ('largest', 'JJS'), ('market', 'NN'), ('for', 'IN'), ('digital', 'JJ'), ('pathology', 'NN'), ('.', '.'), ('the', 'DT'), ('north', 'JJ'), ('american', 'JJ'), ('market', 'NN'), ('for', 'IN'), ('digital', 'JJ'), ('pathology', 'NN'), ('is', 'VBZ'), ('expected', 'VBN'), ('to', 'TO'), ('reach', 'VB'), ('at', 'IN'), ('usd', 'NN'), ('xx', 'NNP'), ('million', 'CD'), ('by', 'IN'), ('the', 'DT'), ('end', 'NN'), ('of', 'IN'), ('the', 'DT'), ('forecasted', 'VBN'), ('period', 'NN'), ('mrfr', 'NN'), ('team', 'NN'), ('have', 'VBP'), ('supreme', 'JJ'), ('objective', 'NN'), ('to', 'TO'), ('provide', 'VB'), ('the', 'DT'), ('optimum', 'JJ'), ('quality', 'NN'), ('market', 'NN'), ('research', 'NN'), ('and', 'CC'), ('intelligence', 'NN'), ('services', 'NNS'), ('to', 'IN'), ('our', 'PRP$'), ('clients', 'NNS'), ('.', '.'), ('our', 'PRP$'), ('market', 'NN'), ('research', 'NN'), ('studies', 'NNS'), ('by', 'IN'), ('products', 'NNS'), (',', ','), ('services', 'NNS'), (',', ','), ('technologies', 'NNS'), (',', ','), ('applications', 'NNS'), (',', ','), ('end', 'VB'), ('users', 'NNS'), (',', ','), ('and', 'CC'), ('market', 'NN'), ('players', 'NNS'), ('for', 'IN'), ('global', 'JJ'), (',', ','), ('regional', 'JJ'), (',', ','), ('and', 'CC'), ('country', 'NN'), ('level', 'NN'), ('market', 'NN'), ('segments', 'NNS'), (',', ','), ('enable', 'VB'), ('our', 'PRP$'), ('clients', 'NNS'), ('to', 'TO'), ('see', 'VB'), ('more', 'JJR'), (',', ','), ('know', 'VB'), ('more', 'RBR'), (',', ','), ('and', 'CC'), ('do', 'VB'), ('more', 'JJR'), (',', ','), ('which', 'WDT'), ('help', 'VBP'), ('to', 'TO'), ('answer', 'VB'), ('all', 'PDT'), ('their', 'PRP$'), ('most', 'RBS'), ('important', 'JJ'), ('questions', 'NNS'), ('.', '.'), ('in', 'IN'), ('order', 'NN'), ('to', 'TO'), ('stay', 'VB'), ('updated', 'VBN'), ('with', 'IN'), ('technology', 'NN'), ('and', 'CC'), ('work', 'NN'), ('process', 'NN'), ('of', 'IN'), ('the', 'DT'), ('industry', 'NN'), (',', ','), ('mrfr', 'NN'), ('often', 'RB'), ('plans', 'NNS'), ('&', 'CC'), ('conducts', 'NNS'), ('meet', 'VBP'), ('with', 'IN'), ('the', 'DT'), ('industry', 'NN'), ('experts', 'NNS'), ('and', 'CC'), ('industrial', 'JJ'), ('visits', 'NNS'), ('for', 'IN'), ('its', 'PRP$'), ('research', 'NN'), ('analyst', 'NN'), ('members', 'NNS'), ('.', '.')]\""
      ]
     },
     "execution_count": 15,
     "metadata": {},
     "output_type": "execute_result"
    }
   ],
   "source": [
    "# 'normalized_tokens_POS' contains POS-tagged tokens\n",
    "# Example of expected format: [('NN', ''), ('VB', 'run'), ...]\n",
    "merged_df['normalized_tokens_POS'][0]"
   ]
  },
  {
   "cell_type": "code",
   "execution_count": null,
   "metadata": {},
   "outputs": [],
   "source": [
    "# Print the first few rows of the 'normalized_tokens_POS' column\n",
    "print(merged_df['normalized_tokens_POS'].head())\n",
    "\n",
    "# Inspect the first row in detail\n",
    "first_row = merged_df['normalized_tokens_POS'].iloc[0]\n",
    "print(first_row)\n",
    "print(\"Type of first row:\", type(first_row))\n",
    "print(\"Type of first element in the first row:\", type(first_row[0]) if len(first_row) > 0 else \"Empty\")\n",
    "\n",
    "import ast\n",
    "\n",
    "# Function to convert a string representation of a list of tuples into an actual list of tuples\n",
    "def convert_to_tuples(row):\n",
    "    try:\n",
    "        return ast.literal_eval(row)\n",
    "    except:\n",
    "        return []\n",
    "\n",
    "# Apply the conversion function to the 'normalized_tokens_POS' column\n",
    "merged_df['normalized_tokens_POS'] = merged_df['normalized_tokens_POS'].apply(convert_to_tuples)\n",
    "\n",
    "# Check the type of the first element in the first row after conversion\n",
    "if len(merged_df['normalized_tokens_POS'].iloc[0]) > 0:\n",
    "    first_element_type = type(merged_df['normalized_tokens_POS'].iloc[0][0])\n",
    "else:\n",
    "    first_element_type = \"Empty\"\n",
    "\n",
    "print(\"Type of first element in the first row after conversion:\", first_element_type)\n"
   ]
  },
  {
   "cell_type": "code",
   "execution_count": null,
   "metadata": {},
   "outputs": [],
   "source": [
    "#6.\n",
    "\n",
    "# Flatten the list of lists (if necessary) and prepare it for ConditionalFreqDist\n",
    "#cond_samples = [(tag, word) for sublist in merged_df['normalized_tokens_POS'] for (word, tag) in sublist]\n",
    "\n",
    "# Each item in the list should be a tuple of two elements\n",
    "healthcfdist_WordtoPOS = nltk.ConditionalFreqDist(merged_df['normalized_tokens_POS'].sum())\n",
    "list(healthcfdist_WordtoPOS.items())[:10]\n"
   ]
  },
  {
   "cell_type": "code",
   "execution_count": null,
   "metadata": {},
   "outputs": [],
   "source": [
    "healthcfdist_POStoWord = nltk.ConditionalFreqDist((p, w) for w, p in merged_df['normalized_tokens_POS'].sum())"
   ]
  },
  {
   "cell_type": "code",
   "execution_count": null,
   "metadata": {},
   "outputs": [],
   "source": [
    "healthcfdist_POStoWord['JJ']"
   ]
  },
  {
   "cell_type": "code",
   "execution_count": null,
   "metadata": {},
   "outputs": [],
   "source": [
    "healthcfdist_POStoWord['NN'].most_common(5)"
   ]
  }
 ],
 "metadata": {
  "kernelspec": {
   "display_name": "Python 3",
   "language": "python",
   "name": "python3"
  },
  "language_info": {
   "codemirror_mode": {
    "name": "ipython",
    "version": 3
   },
   "file_extension": ".py",
   "mimetype": "text/x-python",
   "name": "python",
   "nbconvert_exporter": "python",
   "pygments_lexer": "ipython3",
   "version": "3.12.2"
  }
 },
 "nbformat": 4,
 "nbformat_minor": 2
}
