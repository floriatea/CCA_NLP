{
 "cells": [
  {
   "cell_type": "markdown",
   "metadata": {},
   "source": [
    "# Week 4 - Exploring Semantic Spaces (Word Embeddings)\n",
    "This week, we build on last week's topic modeling techniques by taking a text corpus we have developed, specifying an underlying number of dimensions, and training a model with a neural network auto-encoder (one of Google's word2vec  algorithms) that best describes corpus words in their local linguistic contexts, and exploring their locations in the resulting space to learn about the discursive culture that produced them.\n",
    "\n",
    "This is our third document representation we have learned: First, we used word counts. Second, we used LDA topic models built around term coocurrence in the same document (i.e., a \"bag of words\"). Third, documents here are represented as densely indexed locations in dimensions, so that distances between those documents (and words) contain more information, though they require the full vector of dimension loadings (rather than just a few selected topic loadings) to describe. We will explore these spaces to understand complex, semantic relationships between words, index documents with descriptive words, identify the likelihood that a given document would have been produced by a given vector model, and explore how semantic categories can help us understand the cultures that produced them.\n",
    "\n",
    "Note that most modern natural language processing (NLP) research, at least in computer science, uses word embeddings. This is the foundation of most state-of-the-art models.\n",
    "\n",
    "Also note that the code in this Notebook can take many minutes or even hours to run. This is the case for most NLP research these days, and it's a good opportunity to start thinking about how to manage high-compute workloads, such as running code on small samples to test it, loading datafiles in [chunks](https://stackoverflow.com/a/25962187), or [multiprocessing](https://en.wikipedia.org/wiki/Multiprocessing)."
   ]
  },
  {
   "cell_type": "markdown",
   "metadata": {},
   "source": [
    "## <font color=\"red\">*Pitch Your Project*</font>\n",
    "\n",
    "<font color=\"red\">In the three cells immediately following, describe **WHAT** you are planning to analyze for your final project (i.e., texts, contexts and the social game, world and actors you intend to learn about through your analysis) (<200 words), **WHY** you are going to do it (i.e., why would theory and/or the average person benefit from knowing the results of your investigation) (<200 words), and **HOW** you plan to investigate it (i.e., what are the approaches and operations you plan to perform, in sequence, to yield this insight) (<400 words).\n",
    "\n",
    "# ***What?*** \n",
    "<200 words\n",
    "\n",
    "## ***Why?***\n",
    "<200 words\n",
    "\n",
    "## ***How?***\n",
    "<400 words\n",
    "\n",
    "## <font color=\"red\">*Pitch Your Sample*</font>\n",
    "\n",
    "<font color=\"red\">In the cell immediately following, describe the rationale behind your proposed sample design for your final project. What is the social game, social work, or social actors you about whom you are seeking to make inferences? What are its virtues with respect to your research questions? What are its limitations? What are alternatives? What would be a reasonable path to \"scale up\" your sample for further analysis (i.e., high-profile publication) beyond this class? (<300 words).\n",
    "\n",
    "## ***Which (words)?***\n",
    "<300 words"
   ]
  },
  {
   "cell_type": "code",
   "execution_count": 25,
   "metadata": {},
   "outputs": [],
   "source": [
    "#All these packages need to be installed from pip\n",
    "import gensim#For word2vec, etc\n",
    "import requests #For downloading our datasets\n",
    "import lucem_illud #pip install -U git+https://github.com/UChicago-Computational-Content-Analysis/lucem_illud.git\n",
    "\n",
    "import numpy as np #For arrays\n",
    "import pandas as pd #Gives us DataFrames\n",
    "import matplotlib.pyplot as plt #For graphics\n",
    "import seaborn #Makes the graphics look nicer\n",
    "import sklearn.metrics.pairwise #For cosine similarity\n",
    "import sklearn.manifold #For T-SNE\n",
    "import sklearn.decomposition #For PCA\n",
    "\n",
    "#This 'magic' command makes the plots work better\n",
    "#in the notebook, don't use it outside of a notebook.\n",
    "#Also you can ignore the warning\n",
    "%matplotlib inline\n",
    "import pandas as pd\n",
    "import os #For looking through files\n",
    "import os.path #For managing file paths"
   ]
  },
  {
   "cell_type": "markdown",
   "metadata": {},
   "source": [
    "# Getting our corpora\n",
    "\n",
    "Instead of downloading our corpora, we have download them in advance; a subset of the [senate press releases](https://github.com/lintool/GrimmerSenatePressReleases) are in `grimmerPressReleases`. We will load them into a DataFrame, but first we need to define a function to convert directories of text files into DataFrames:"
   ]
  },
  {
   "cell_type": "code",
   "execution_count": 2,
   "metadata": {},
   "outputs": [],
   "source": [
    "def loadDir(targetDir, category):\n",
    "    allFileNames = os.listdir(targetDir)\n",
    "    #We need to make them into usable paths and filter out hidden files\n",
    "    filePaths = [os.path.join(targetDir, fname) for fname in allFileNames if fname[0] != '.']\n",
    "\n",
    "    #The dict that will become the DataFrame\n",
    "    senDict = {\n",
    "        'category' : [category] * len(filePaths),\n",
    "        'filePath' : [],\n",
    "        'text' : [],\n",
    "    }\n",
    "\n",
    "    for fPath in filePaths:\n",
    "        with open(fPath) as f:\n",
    "# Try this line instead if you get an encoding error.\n",
    "#         with open(fPath, encoding=\"ISO-8859-1\") as f:\n",
    "            senDict['text'].append(f.read())\n",
    "            senDict['filePath'].append(fPath)\n",
    "\n",
    "    return pd.DataFrame(senDict)"
   ]
  },
  {
   "cell_type": "markdown",
   "metadata": {},
   "source": [
    "Now we can use the function in all the directories in `data/grimmerPressReleases`. If you are on Google Colab, note that rather than downloading GitHub data to your local machine and then uploading it to Drive, you can more quickly `git clone` directly to Colab, such as `!git clone https://github.com/lintool/GrimmerSenatePressReleases.git /drive/MyDrive/`, which then makes your `dataDir = 'drive/MyDrive/grimmerPressReleases/raw'`."
   ]
  },
  {
   "cell_type": "code",
   "execution_count": 5,
   "metadata": {},
   "outputs": [
    {
     "data": {
      "text/html": [
       "<div>\n",
       "<style scoped>\n",
       "    .dataframe tbody tr th:only-of-type {\n",
       "        vertical-align: middle;\n",
       "    }\n",
       "\n",
       "    .dataframe tbody tr th {\n",
       "        vertical-align: top;\n",
       "    }\n",
       "\n",
       "    .dataframe thead th {\n",
       "        text-align: right;\n",
       "    }\n",
       "</style>\n",
       "<table border=\"1\" class=\"dataframe\">\n",
       "  <thead>\n",
       "    <tr style=\"text-align: right;\">\n",
       "      <th></th>\n",
       "      <th>category</th>\n",
       "      <th>filePath</th>\n",
       "      <th>text</th>\n",
       "    </tr>\n",
       "  </thead>\n",
       "  <tbody>\n",
       "    <tr>\n",
       "      <th>0</th>\n",
       "      <td>Kennedy</td>\n",
       "      <td>../data/grimmerPressReleases\\Kennedy\\01Apr2005...</td>\n",
       "      <td>FOR IMMEDIATE RELEASE   FOR IMMEDIATE...</td>\n",
       "    </tr>\n",
       "    <tr>\n",
       "      <th>10</th>\n",
       "      <td>Kennedy</td>\n",
       "      <td>../data/grimmerPressReleases\\Kennedy\\01Dec2005...</td>\n",
       "      <td>FOR IMMEDIATE RELEASE     Washington ...</td>\n",
       "    </tr>\n",
       "    <tr>\n",
       "      <th>20</th>\n",
       "      <td>Kennedy</td>\n",
       "      <td>../data/grimmerPressReleases\\Kennedy\\01Feb2006...</td>\n",
       "      <td>FOR IMMEDIATE RELEASE      Fact sheet...</td>\n",
       "    </tr>\n",
       "    <tr>\n",
       "      <th>30</th>\n",
       "      <td>Kennedy</td>\n",
       "      <td>../data/grimmerPressReleases\\Kennedy\\01Feb2007...</td>\n",
       "      <td>FOR IMMEDIATE RELEASE     Washington ...</td>\n",
       "    </tr>\n",
       "    <tr>\n",
       "      <th>40</th>\n",
       "      <td>Kennedy</td>\n",
       "      <td>../data/grimmerPressReleases\\Kennedy\\01Jun2007...</td>\n",
       "      <td>FOR IMMEDIATE RELEASE  BOSTON  MA  Se...</td>\n",
       "    </tr>\n",
       "    <tr>\n",
       "      <th>50</th>\n",
       "      <td>Kennedy</td>\n",
       "      <td>../data/grimmerPressReleases\\Kennedy\\01Mar2007...</td>\n",
       "      <td>FOR IMMEDIATE RELEASE     Washington ...</td>\n",
       "    </tr>\n",
       "    <tr>\n",
       "      <th>60</th>\n",
       "      <td>Kennedy</td>\n",
       "      <td>../data/grimmerPressReleases\\Kennedy\\01May2007...</td>\n",
       "      <td>FOR IMMEDIATE RELEASE  The President ...</td>\n",
       "    </tr>\n",
       "    <tr>\n",
       "      <th>70</th>\n",
       "      <td>Kennedy</td>\n",
       "      <td>../data/grimmerPressReleases\\Kennedy\\01Nov2007...</td>\n",
       "      <td>FOR IMMEDIATE RELEASE  Washington  DC...</td>\n",
       "    </tr>\n",
       "    <tr>\n",
       "      <th>80</th>\n",
       "      <td>Kennedy</td>\n",
       "      <td>../data/grimmerPressReleases\\Kennedy\\02Aug2006...</td>\n",
       "      <td>FOR IMMEDIATE RELEASE  FOR IMMEDIATE ...</td>\n",
       "    </tr>\n",
       "    <tr>\n",
       "      <th>90</th>\n",
       "      <td>Kennedy</td>\n",
       "      <td>../data/grimmerPressReleases\\Kennedy\\02Feb2005...</td>\n",
       "      <td>FOR IMMEDIATE RELEASE     The Preside...</td>\n",
       "    </tr>\n",
       "  </tbody>\n",
       "</table>\n",
       "</div>"
      ],
      "text/plain": [
       "   category                                           filePath  \\\n",
       "0   Kennedy  ../data/grimmerPressReleases\\Kennedy\\01Apr2005...   \n",
       "10  Kennedy  ../data/grimmerPressReleases\\Kennedy\\01Dec2005...   \n",
       "20  Kennedy  ../data/grimmerPressReleases\\Kennedy\\01Feb2006...   \n",
       "30  Kennedy  ../data/grimmerPressReleases\\Kennedy\\01Feb2007...   \n",
       "40  Kennedy  ../data/grimmerPressReleases\\Kennedy\\01Jun2007...   \n",
       "50  Kennedy  ../data/grimmerPressReleases\\Kennedy\\01Mar2007...   \n",
       "60  Kennedy  ../data/grimmerPressReleases\\Kennedy\\01May2007...   \n",
       "70  Kennedy  ../data/grimmerPressReleases\\Kennedy\\01Nov2007...   \n",
       "80  Kennedy  ../data/grimmerPressReleases\\Kennedy\\02Aug2006...   \n",
       "90  Kennedy  ../data/grimmerPressReleases\\Kennedy\\02Feb2005...   \n",
       "\n",
       "                                                 text  \n",
       "0            FOR IMMEDIATE RELEASE   FOR IMMEDIATE...  \n",
       "10           FOR IMMEDIATE RELEASE     Washington ...  \n",
       "20           FOR IMMEDIATE RELEASE      Fact sheet...  \n",
       "30           FOR IMMEDIATE RELEASE     Washington ...  \n",
       "40           FOR IMMEDIATE RELEASE  BOSTON  MA  Se...  \n",
       "50           FOR IMMEDIATE RELEASE     Washington ...  \n",
       "60           FOR IMMEDIATE RELEASE  The President ...  \n",
       "70           FOR IMMEDIATE RELEASE  Washington  DC...  \n",
       "80           FOR IMMEDIATE RELEASE  FOR IMMEDIATE ...  \n",
       "90           FOR IMMEDIATE RELEASE     The Preside...  "
      ]
     },
     "execution_count": 5,
     "metadata": {},
     "output_type": "execute_result"
    }
   ],
   "source": [
    "#dataDir = 'content/drive/MyDrive/grimmerPressReleases/raw'\n",
    "dataDir = '../data/grimmerPressReleases'\n",
    "\n",
    "senReleasesDF = pd.DataFrame()\n",
    "\n",
    "for senatorName in [d for d in os.listdir(dataDir) if d[0] != '.']:\n",
    "    senPath = os.path.join(dataDir, senatorName)\n",
    "    senReleasesDF = pd.concat([senReleasesDF, loadDir(senPath, senatorName)], ignore_index=True)\n",
    "\n",
    "\n",
    "senReleasesDF[:100:10]"
   ]
  },
  {
   "cell_type": "markdown",
   "metadata": {},
   "source": [
    "Word2Vec needs to retain the sentence structure so as to capture a \"continuous bag of words (CBOW)\" and all of the skip-grams within a word window. The algorithm tries to preserve the distances induced by one of these two local structures. This is very different from clustering and LDA topic modeling which extract unordered words alone.\n",
    "\n",
    "When we normalize here, we don't use the lematized form of the word because we might lose information. Note the paramter in the normalize tokens function."
   ]
  },
  {
   "cell_type": "code",
   "execution_count": 6,
   "metadata": {},
   "outputs": [
    {
     "name": "stderr",
     "output_type": "stream",
     "text": [
      "c:\\Users\\FYang\\AppData\\Local\\Programs\\Python\\Python311\\Lib\\site-packages\\spacy\\pipeline\\lemmatizer.py:211: UserWarning: [W108] The rule-based lemmatizer did not find POS annotation for one or more tokens. Check that your pipeline includes components that assign token.pos, typically 'tagger'+'attribute_ruler' or 'morphologizer'.\n",
      "  warnings.warn(Warnings.W108)\n"
     ]
    },
    {
     "data": {
      "text/html": [
       "<div>\n",
       "<style scoped>\n",
       "    .dataframe tbody tr th:only-of-type {\n",
       "        vertical-align: middle;\n",
       "    }\n",
       "\n",
       "    .dataframe tbody tr th {\n",
       "        vertical-align: top;\n",
       "    }\n",
       "\n",
       "    .dataframe thead th {\n",
       "        text-align: right;\n",
       "    }\n",
       "</style>\n",
       "<table border=\"1\" class=\"dataframe\">\n",
       "  <thead>\n",
       "    <tr style=\"text-align: right;\">\n",
       "      <th></th>\n",
       "      <th>category</th>\n",
       "      <th>filePath</th>\n",
       "      <th>text</th>\n",
       "      <th>tokenized_sents</th>\n",
       "      <th>normalized_sents</th>\n",
       "    </tr>\n",
       "  </thead>\n",
       "  <tbody>\n",
       "    <tr>\n",
       "      <th>0</th>\n",
       "      <td>Kennedy</td>\n",
       "      <td>../data/grimmerPressReleases\\Kennedy\\01Apr2005...</td>\n",
       "      <td>FOR IMMEDIATE RELEASE   FOR IMMEDIATE...</td>\n",
       "      <td>[[FOR, IMMEDIATE, RELEASE, FOR, IMMEDIATE, REL...</td>\n",
       "      <td>[[immediate, release, immediate, release, cont...</td>\n",
       "    </tr>\n",
       "    <tr>\n",
       "      <th>10</th>\n",
       "      <td>Kennedy</td>\n",
       "      <td>../data/grimmerPressReleases\\Kennedy\\01Dec2005...</td>\n",
       "      <td>FOR IMMEDIATE RELEASE     Washington ...</td>\n",
       "      <td>[[FOR, IMMEDIATE, RELEASE, Washington, D, C], ...</td>\n",
       "      <td>[[immediate, release, washington, d, c], [toda...</td>\n",
       "    </tr>\n",
       "    <tr>\n",
       "      <th>20</th>\n",
       "      <td>Kennedy</td>\n",
       "      <td>../data/grimmerPressReleases\\Kennedy\\01Feb2006...</td>\n",
       "      <td>FOR IMMEDIATE RELEASE      Fact sheet...</td>\n",
       "      <td>[[FOR, IMMEDIATE, RELEASE, Fact, sheets, on, B...</td>\n",
       "      <td>[[immediate, release, fact, sheets, bush, s, p...</td>\n",
       "    </tr>\n",
       "    <tr>\n",
       "      <th>30</th>\n",
       "      <td>Kennedy</td>\n",
       "      <td>../data/grimmerPressReleases\\Kennedy\\01Feb2007...</td>\n",
       "      <td>FOR IMMEDIATE RELEASE     Washington ...</td>\n",
       "      <td>[[FOR, IMMEDIATE, RELEASE, Washington, D, C, T...</td>\n",
       "      <td>[[immediate, release, washington, d, c, today,...</td>\n",
       "    </tr>\n",
       "    <tr>\n",
       "      <th>40</th>\n",
       "      <td>Kennedy</td>\n",
       "      <td>../data/grimmerPressReleases\\Kennedy\\01Jun2007...</td>\n",
       "      <td>FOR IMMEDIATE RELEASE  BOSTON  MA  Se...</td>\n",
       "      <td>[[FOR, IMMEDIATE, RELEASE, BOSTON, MA, Senator...</td>\n",
       "      <td>[[immediate, release, boston, ma, senator, edw...</td>\n",
       "    </tr>\n",
       "    <tr>\n",
       "      <th>50</th>\n",
       "      <td>Kennedy</td>\n",
       "      <td>../data/grimmerPressReleases\\Kennedy\\01Mar2007...</td>\n",
       "      <td>FOR IMMEDIATE RELEASE     Washington ...</td>\n",
       "      <td>[[FOR, IMMEDIATE, RELEASE, Washington, DC, Tod...</td>\n",
       "      <td>[[immediate, release, washington, dc, today, s...</td>\n",
       "    </tr>\n",
       "    <tr>\n",
       "      <th>60</th>\n",
       "      <td>Kennedy</td>\n",
       "      <td>../data/grimmerPressReleases\\Kennedy\\01May2007...</td>\n",
       "      <td>FOR IMMEDIATE RELEASE  The President ...</td>\n",
       "      <td>[[FOR, IMMEDIATE, RELEASE, The, President, is,...</td>\n",
       "      <td>[[immediate, release, president, wrong, veto, ...</td>\n",
       "    </tr>\n",
       "    <tr>\n",
       "      <th>70</th>\n",
       "      <td>Kennedy</td>\n",
       "      <td>../data/grimmerPressReleases\\Kennedy\\01Nov2007...</td>\n",
       "      <td>FOR IMMEDIATE RELEASE  Washington  DC...</td>\n",
       "      <td>[[FOR, IMMEDIATE, RELEASE, Washington, DC, Sen...</td>\n",
       "      <td>[[immediate, release, washington, dc, senators...</td>\n",
       "    </tr>\n",
       "    <tr>\n",
       "      <th>80</th>\n",
       "      <td>Kennedy</td>\n",
       "      <td>../data/grimmerPressReleases\\Kennedy\\02Aug2006...</td>\n",
       "      <td>FOR IMMEDIATE RELEASE  FOR IMMEDIATE ...</td>\n",
       "      <td>[[FOR, IMMEDIATE, RELEASE, FOR, IMMEDIATE, REL...</td>\n",
       "      <td>[[immediate, release, immediate, release, impo...</td>\n",
       "    </tr>\n",
       "    <tr>\n",
       "      <th>90</th>\n",
       "      <td>Kennedy</td>\n",
       "      <td>../data/grimmerPressReleases\\Kennedy\\02Feb2005...</td>\n",
       "      <td>FOR IMMEDIATE RELEASE     The Preside...</td>\n",
       "      <td>[[FOR, IMMEDIATE, RELEASE, The, President, gav...</td>\n",
       "      <td>[[immediate, release, president, gave, effecti...</td>\n",
       "    </tr>\n",
       "  </tbody>\n",
       "</table>\n",
       "</div>"
      ],
      "text/plain": [
       "   category                                           filePath  \\\n",
       "0   Kennedy  ../data/grimmerPressReleases\\Kennedy\\01Apr2005...   \n",
       "10  Kennedy  ../data/grimmerPressReleases\\Kennedy\\01Dec2005...   \n",
       "20  Kennedy  ../data/grimmerPressReleases\\Kennedy\\01Feb2006...   \n",
       "30  Kennedy  ../data/grimmerPressReleases\\Kennedy\\01Feb2007...   \n",
       "40  Kennedy  ../data/grimmerPressReleases\\Kennedy\\01Jun2007...   \n",
       "50  Kennedy  ../data/grimmerPressReleases\\Kennedy\\01Mar2007...   \n",
       "60  Kennedy  ../data/grimmerPressReleases\\Kennedy\\01May2007...   \n",
       "70  Kennedy  ../data/grimmerPressReleases\\Kennedy\\01Nov2007...   \n",
       "80  Kennedy  ../data/grimmerPressReleases\\Kennedy\\02Aug2006...   \n",
       "90  Kennedy  ../data/grimmerPressReleases\\Kennedy\\02Feb2005...   \n",
       "\n",
       "                                                 text  \\\n",
       "0            FOR IMMEDIATE RELEASE   FOR IMMEDIATE...   \n",
       "10           FOR IMMEDIATE RELEASE     Washington ...   \n",
       "20           FOR IMMEDIATE RELEASE      Fact sheet...   \n",
       "30           FOR IMMEDIATE RELEASE     Washington ...   \n",
       "40           FOR IMMEDIATE RELEASE  BOSTON  MA  Se...   \n",
       "50           FOR IMMEDIATE RELEASE     Washington ...   \n",
       "60           FOR IMMEDIATE RELEASE  The President ...   \n",
       "70           FOR IMMEDIATE RELEASE  Washington  DC...   \n",
       "80           FOR IMMEDIATE RELEASE  FOR IMMEDIATE ...   \n",
       "90           FOR IMMEDIATE RELEASE     The Preside...   \n",
       "\n",
       "                                      tokenized_sents  \\\n",
       "0   [[FOR, IMMEDIATE, RELEASE, FOR, IMMEDIATE, REL...   \n",
       "10  [[FOR, IMMEDIATE, RELEASE, Washington, D, C], ...   \n",
       "20  [[FOR, IMMEDIATE, RELEASE, Fact, sheets, on, B...   \n",
       "30  [[FOR, IMMEDIATE, RELEASE, Washington, D, C, T...   \n",
       "40  [[FOR, IMMEDIATE, RELEASE, BOSTON, MA, Senator...   \n",
       "50  [[FOR, IMMEDIATE, RELEASE, Washington, DC, Tod...   \n",
       "60  [[FOR, IMMEDIATE, RELEASE, The, President, is,...   \n",
       "70  [[FOR, IMMEDIATE, RELEASE, Washington, DC, Sen...   \n",
       "80  [[FOR, IMMEDIATE, RELEASE, FOR, IMMEDIATE, REL...   \n",
       "90  [[FOR, IMMEDIATE, RELEASE, The, President, gav...   \n",
       "\n",
       "                                     normalized_sents  \n",
       "0   [[immediate, release, immediate, release, cont...  \n",
       "10  [[immediate, release, washington, d, c], [toda...  \n",
       "20  [[immediate, release, fact, sheets, bush, s, p...  \n",
       "30  [[immediate, release, washington, d, c, today,...  \n",
       "40  [[immediate, release, boston, ma, senator, edw...  \n",
       "50  [[immediate, release, washington, dc, today, s...  \n",
       "60  [[immediate, release, president, wrong, veto, ...  \n",
       "70  [[immediate, release, washington, dc, senators...  \n",
       "80  [[immediate, release, immediate, release, impo...  \n",
       "90  [[immediate, release, president, gave, effecti...  "
      ]
     },
     "execution_count": 6,
     "metadata": {},
     "output_type": "execute_result"
    }
   ],
   "source": [
    "#Apply our functions, notice each row is a list of lists now\n",
    "senReleasesDF['tokenized_sents'] = senReleasesDF['text'].apply(lambda x: [lucem_illud.word_tokenize(s) for s in lucem_illud.sent_tokenize(x)])\n",
    "senReleasesDF['normalized_sents'] = senReleasesDF['tokenized_sents'].apply(lambda x: [lucem_illud.normalizeTokens(s, lemma=False) for s in x])\n",
    "# With the latest spacy versions, you may get warnings with the following line of code. See the discussion here: https://github.com/allenai/allennlp/issues/5036\n",
    "# senReleasesDF['normalized_sents'] = senReleasesDF['tokenized_sents'].apply(lambda x: [lucem_illud.normalizeTokens(s) for s in x])\n",
    "\n",
    "senReleasesDF[:100:10]"
   ]
  },
  {
   "cell_type": "markdown",
   "metadata": {},
   "source": [
    "# Word2Vec\n",
    "\n",
    "We will be using the gensim implementation of [Word2Vec](https://radimrehurek.com/gensim/models/word2vec.html#gensim.models.word2vec.Word2Vec). Note that newer versions of gensim have different syntax, but if you're using a newer version, you should see informative error messages (e.g., replace `senReleasesW2V['president'][:10]` with `senReleasesW2V['president'].wv[:10]`). The following lines should work out-of-the-box on Google Colab.\n",
    "\n",
    "To load our data our data we give all the sentences to the trainer:"
   ]
  },
  {
   "cell_type": "code",
   "execution_count": 7,
   "metadata": {},
   "outputs": [],
   "source": [
    "# The sg=0 argument indicates that we don't want to use \"skipgram\" but instead \"CBOW\"\n",
    "senReleasesW2V = gensim.models.word2vec.Word2Vec(senReleasesDF['normalized_sents'].sum(), sg=0)"
   ]
  },
  {
   "cell_type": "markdown",
   "metadata": {},
   "source": [
    "Inside the word2vec object, each word has a vector. To access the vector directly, use the square braces (`__getitem__`) method:"
   ]
  },
  {
   "cell_type": "code",
   "execution_count": 9,
   "metadata": {},
   "outputs": [
    {
     "data": {
      "text/plain": [
       "array([-3.339274  , -0.5437525 , -0.1226134 , -1.0288898 ,  0.8050365 ,\n",
       "       -0.00481207,  2.0230625 ,  0.6769619 , -2.2679005 ,  0.58129245],\n",
       "      dtype=float32)"
      ]
     },
     "execution_count": 9,
     "metadata": {},
     "output_type": "execute_result"
    }
   ],
   "source": [
    "# Fixed below \n",
    "senReleasesW2V.wv['president'][:10] #Shortening because it's very large"
   ]
  },
  {
   "cell_type": "markdown",
   "metadata": {},
   "source": [
    "If you want the full matrix, `syn0` stores all the vectors:"
   ]
  },
  {
   "cell_type": "code",
   "execution_count": 13,
   "metadata": {},
   "outputs": [
    {
     "data": {
      "text/plain": [
       "array([[ 1.1430479 ,  0.65822345,  0.97865224, ..., -0.8771476 ,\n",
       "         1.8521914 ,  0.86021614],\n",
       "       [-1.3200283 ,  1.1291305 ,  0.6752937 , ..., -1.7128541 ,\n",
       "        -0.12565644,  0.8412019 ],\n",
       "       [ 1.2646033 ,  1.1135089 ,  0.78786606, ...,  1.4739097 ,\n",
       "         0.05045663,  0.18112522],\n",
       "       ...,\n",
       "       [ 0.04517063,  0.00488359,  0.02894049, ..., -0.00671313,\n",
       "        -0.01906217, -0.00243858],\n",
       "       [-0.02570985,  0.07324397, -0.01579603, ..., -0.08277202,\n",
       "         0.02489039, -0.00897171],\n",
       "       [-0.03648366,  0.09436288,  0.03211064, ..., -0.05207127,\n",
       "         0.04933215, -0.05567212]], dtype=float32)"
      ]
     },
     "execution_count": 13,
     "metadata": {},
     "output_type": "execute_result"
    }
   ],
   "source": [
    "# fixed, syn0 deprecated \n",
    "senReleasesW2V.wv.vectors\n",
    "#senReleasesW2V.wv.get_normed_vectors()"
   ]
  },
  {
   "cell_type": "markdown",
   "metadata": {},
   "source": [
    "Then, `index2word` lets you translate from the matrix to words:"
   ]
  },
  {
   "cell_type": "code",
   "execution_count": 15,
   "metadata": {},
   "outputs": [
    {
     "data": {
      "text/plain": [
       "'american'"
      ]
     },
     "execution_count": 15,
     "metadata": {},
     "output_type": "execute_result"
    }
   ],
   "source": [
    "senReleasesW2V.wv.index_to_key[10]"
   ]
  },
  {
   "cell_type": "markdown",
   "metadata": {},
   "source": [
    "Now we can look at a few things that come from the word vectors. The first is to find similar vectors (cosine similarity):"
   ]
  },
  {
   "cell_type": "code",
   "execution_count": 18,
   "metadata": {},
   "outputs": [
    {
     "data": {
      "text/plain": [
       "[('administration', 0.785071849822998),\n",
       " ('presidents', 0.7719882726669312),\n",
       " ('administrations', 0.6723802089691162),\n",
       " ('prioritizes', 0.6237578392028809),\n",
       " ('cheney', 0.6058061122894287),\n",
       " ('george', 0.5837770104408264),\n",
       " ('responds', 0.5656358003616333),\n",
       " ('veto', 0.5458326935768127),\n",
       " ('presidential', 0.5309112071990967),\n",
       " ('kenna', 0.5305079221725464)]"
      ]
     },
     "execution_count": 18,
     "metadata": {},
     "output_type": "execute_result"
    }
   ],
   "source": [
    "senReleasesW2V.wv.most_similar('president')"
   ]
  },
  {
   "cell_type": "code",
   "execution_count": 21,
   "metadata": {},
   "outputs": [
    {
     "data": {
      "text/plain": [
       "[('wars', 0.6684772968292236),\n",
       " ('disobedience', 0.6644299030303955),\n",
       " ('unresisted', 0.6457504034042358),\n",
       " ('quagmire', 0.6302472352981567),\n",
       " ('chaos', 0.621263861656189),\n",
       " ('compounding', 0.6191334128379822),\n",
       " ('afghanistan', 0.6131693124771118),\n",
       " ('descending', 0.6052805781364441),\n",
       " ('invasion', 0.5973867177963257),\n",
       " ('liberation', 0.5867765545845032)]"
      ]
     },
     "execution_count": 21,
     "metadata": {},
     "output_type": "execute_result"
    }
   ],
   "source": [
    "senReleasesW2V.wv.most_similar('war')"
   ]
  },
  {
   "cell_type": "markdown",
   "metadata": {},
   "source": [
    "Find which word least matches the others within a word set (cosine similarity):"
   ]
  },
  {
   "cell_type": "code",
   "execution_count": 23,
   "metadata": {},
   "outputs": [
    {
     "data": {
      "text/plain": [
       "'washington'"
      ]
     },
     "execution_count": 23,
     "metadata": {},
     "output_type": "execute_result"
    }
   ],
   "source": [
    "senReleasesW2V.wv.doesnt_match(['administration', 'administrations', 'presidents', 'president', 'washington'])"
   ]
  },
  {
   "cell_type": "markdown",
   "metadata": {},
   "source": [
    "Find which word best matches the result of a semantic *equation* (here, we seek the words whose vectors best fit the missing entry from the equation: **X + Y - Z = _**."
   ]
  },
  {
   "cell_type": "code",
   "execution_count": 25,
   "metadata": {},
   "outputs": [
    {
     "data": {
      "text/plain": [
       "[('blocked', 0.6564346551895142),\n",
       " ('vetoes', 0.6323485374450684),\n",
       " ('veto', 0.6148660778999329),\n",
       " ('signing', 0.6106489300727844),\n",
       " ('proposing', 0.6040289402008057),\n",
       " ('signed', 0.6038020253181458),\n",
       " ('bush', 0.5848245620727539),\n",
       " ('reverse', 0.5799790620803833),\n",
       " ('vetoed', 0.563617467880249),\n",
       " ('nixon', 0.5633360743522644)]"
      ]
     },
     "execution_count": 25,
     "metadata": {},
     "output_type": "execute_result"
    }
   ],
   "source": [
    "senReleasesW2V.wv.most_similar(positive=['clinton', 'republican'], negative = ['democrat'])"
   ]
  },
  {
   "cell_type": "markdown",
   "metadata": {},
   "source": [
    "Here we see that **Clinton + Republican - Democrat = Bush**. In other words, in this dataset, **Clinton** is to **Democrat** as **Bush** is to **Republican**. Whoah!"
   ]
  },
  {
   "cell_type": "markdown",
   "metadata": {},
   "source": [
    "We can also save the vectors for later use:"
   ]
  },
  {
   "cell_type": "code",
   "execution_count": 26,
   "metadata": {},
   "outputs": [],
   "source": [
    "senReleasesW2V.save(\"senpressreleasesWORD2Vec\")"
   ]
  },
  {
   "cell_type": "markdown",
   "metadata": {},
   "source": [
    "We can also use dimension reduction to visulize the vectors. We will start by selecting a subset we want to plot. Let's look at the top words from the set:"
   ]
  },
  {
   "cell_type": "code",
   "execution_count": 28,
   "metadata": {},
   "outputs": [],
   "source": [
    "numWords = 50\n",
    "targetWords = senReleasesW2V.wv.index_to_key[:numWords]"
   ]
  },
  {
   "cell_type": "markdown",
   "metadata": {},
   "source": [
    "We can then extract their vectors and create our own smaller matrix that preserved the distances from the original:"
   ]
  },
  {
   "cell_type": "code",
   "execution_count": 30,
   "metadata": {},
   "outputs": [],
   "source": [
    "# Fixed below, old code deprecated\n",
    "wordsSubMatrix = []\n",
    "for word in targetWords:\n",
    "    if word in senReleasesW2V.wv:  # Check if the word exists in the model\n",
    "        wordsSubMatrix.append(senReleasesW2V.wv[word])\n",
    "wordsSubMatrix = np.array(wordsSubMatrix)\n"
   ]
  },
  {
   "cell_type": "markdown",
   "metadata": {},
   "source": [
    "Then we can use PCA to reduce the dimesions (e.g., to 50), and T-SNE to project them down to the two we will visualize. We note that this is nondeterministic process, and so you can repeat and achieve alternative projectsions/visualizations of the words:"
   ]
  },
  {
   "cell_type": "code",
   "execution_count": 31,
   "metadata": {},
   "outputs": [],
   "source": [
    "pcaWords = sklearn.decomposition.PCA(n_components = 50).fit(wordsSubMatrix)\n",
    "reducedPCA_data = pcaWords.transform(wordsSubMatrix)\n",
    "#T-SNE is theoretically better, but you should experiment\n",
    "tsneWords = sklearn.manifold.TSNE(n_components = 2).fit_transform(reducedPCA_data)"
   ]
  },
  {
   "cell_type": "markdown",
   "metadata": {},
   "source": [
    "We now can plot the points"
   ]
  },
  {
   "cell_type": "code",
   "execution_count": 32,
   "metadata": {},
   "outputs": [
    {
     "data": {
      "image/png": "[encoded data removed]",
      "text/plain": [
       "<Figure size 1000x600 with 1 Axes>"
      ]
     },
     "metadata": {},
     "output_type": "display_data"
    }
   ],
   "source": [
    "fig = plt.figure(figsize = (10,6))\n",
    "ax = fig.add_subplot(111)\n",
    "ax.set_frame_on(False)\n",
    "plt.scatter(tsneWords[:, 0], tsneWords[:, 1], alpha = 0)#Making the points invisible \n",
    "for i, word in enumerate(targetWords):\n",
    "    ax.annotate(word, (tsneWords[:, 0][i],tsneWords[:, 1][i]), size =  20 * (numWords - i) / numWords)\n",
    "plt.xticks(())\n",
    "plt.yticks(())\n",
    "plt.show()"
   ]
  },
  {
   "cell_type": "markdown",
   "metadata": {},
   "source": [
    "My visualization above puts ``said`` next to ``congress`` and ``bill`` near ``act``. ``health`` is beside ``care`` and ``national`` abuts ``security``."
   ]
  },
  {
   "cell_type": "markdown",
   "metadata": {
    "id": "w8SGFeWSehSQ"
   },
   "source": [
    "# Chinese examples\n",
    "The following datafile is [available on Canvas](https://canvas.uchicago.edu/courses/39937/files/6674623/download). The Chinese word2vec model we use in this assignment was made with an old version of Gensim. If you have a version of '4.0.0' or later, you can run code like `!pip install gensim==3.8.3` (the last v3 of Gensim before v4) and restart your notebook to load that file. However, it's usually best to use the most recent stable versions of Python packages, so you can skip this section and go straight to the FastText section if you would like."
   ]
  },
  {
   "cell_type": "code",
   "execution_count": 33,
   "metadata": {},
   "outputs": [],
   "source": [
    "# !pip install gensim==3.8.3"
   ]
  },
  {
   "cell_type": "code",
   "execution_count": 7,
   "metadata": {
    "colab": {
     "base_uri": "https://localhost:8080/",
     "height": 35
    },
    "id": "gpZ6KZrOyKYS",
    "outputId": "a7836df2-414a-488d-9792-a0541c2f6776"
   },
   "outputs": [
    {
     "data": {
      "text/plain": [
       "'4.3.2'"
      ]
     },
     "execution_count": 7,
     "metadata": {},
     "output_type": "execute_result"
    }
   ],
   "source": [
    "import gensim\n",
    "gensim.__version__"
   ]
  },
  {
   "cell_type": "code",
   "execution_count": 12,
   "metadata": {
    "collapsed": true,
    "id": "zNo3vDyUehSR"
   },
   "outputs": [],
   "source": [
    "# If your version is 4.0.0 or later, this code will raise `AttributeError: Can't get attribute 'Vocab'...`\n",
    "# You can load an old version of Gensim or skip to FastText.\n",
    "\n",
    "# This does not work, word2vec attibute error \n",
    "# from gensim.models import KeyedVectors\n",
    "# model = KeyedVectors.load('../data/1992embeddings_hs_new3.sg')"
   ]
  },
  {
   "cell_type": "markdown",
   "metadata": {
    "id": "CsEgVPQ5ehSR"
   },
   "source": [
    "## analogy\n",
    "\n",
    "King+man-Queen? A few examples based on a corpus of Chinese news. \n",
    "\n",
    "First, location analogy: **province -> capital**"
   ]
  },
  {
   "cell_type": "code",
   "execution_count": null,
   "metadata": {},
   "outputs": [],
   "source": [
    "mm = model.wv.most_similar(positive=[u'长沙',u'陕西'], negative=[u'湖南']) # Changsha + Shaanxi - Hunan\n",
    "for m in mm:\n",
    "    print(m[0],m[1])\n",
    "    print(\"Xi'an\")\n",
    "    break"
   ]
  },
  {
   "cell_type": "code",
   "execution_count": 8,
   "metadata": {
    "colab": {
     "base_uri": "https://localhost:8080/"
    },
    "id": "Y305qZtvehSR",
    "outputId": "1e554c9b-86a4-474a-dada-9deaaee758e6"
   },
   "outputs": [
    {
     "name": "stdout",
     "output_type": "stream",
     "text": [
      "武汉 0.3677000403404236\n",
      "Wuhan\n"
     ]
    }
   ],
   "source": [
    "mm = model.wv.most_similar(positive=[u'广州',u'湖北'], negative=[u'广东']) # Guangzhou + Hubei - Guangdong\n",
    "for m in mm:\n",
    "    print(m[0],m[1])\n",
    "    print(\"Wuhan\")\n",
    "    break"
   ]
  },
  {
   "cell_type": "markdown",
   "metadata": {
    "id": "SE5L8DqPehSR"
   },
   "source": [
    "Second, location analogy: **country -> capital**"
   ]
  },
  {
   "cell_type": "code",
   "execution_count": 11,
   "metadata": {
    "colab": {
     "base_uri": "https://localhost:8080/"
    },
    "id": "vVGW1hlMehSR",
    "outputId": "dbe2c395-f7ee-4225-ca80-ff49200c72c3"
   },
   "outputs": [
    {
     "name": "stdout",
     "output_type": "stream",
     "text": [
      "华盛顿 0.508813738822937\n",
      "(Washington DC)\n"
     ]
    }
   ],
   "source": [
    "mm = model.wv.most_similar(positive=[u'东京',u'美国'], negative=[u'日本']) # Tokyo + US - Japan\n",
    "for m in mm:\n",
    "    print(m[0],m[1])\n",
    "    print(\"(Washington DC)\")\n",
    "    break"
   ]
  },
  {
   "cell_type": "markdown",
   "metadata": {
    "id": "_AYFM1ukehSS"
   },
   "source": [
    "## similar words"
   ]
  },
  {
   "cell_type": "code",
   "execution_count": 9,
   "metadata": {
    "colab": {
     "base_uri": "https://localhost:8080/"
    },
    "id": "4pTexZipehSS",
    "outputId": "645e5337-7b3a-4dfb-c679-7f7239d285cb"
   },
   "outputs": [
    {
     "name": "stdout",
     "output_type": "stream",
     "text": [
      "the most similar words to 社会主义 is: \n",
      "特色\n",
      "市场经济\n",
      "理论\n",
      "建设\n",
      "改革开放\n",
      "马克思主义\n",
      "党\n",
      "经济体制\n",
      "基本路线\n",
      "现代化\n",
      "\n"
     ]
    }
   ],
   "source": [
    "word = u'社会主义'  #socialism\n",
    "ss = model.wv.similar_by_word(word,topn=10)\n",
    "print(\"the most similar words to \" + word + \" is: \")\n",
    "for s in ss:\n",
    "    print(s[0])\n",
    "print(\"\")"
   ]
  },
  {
   "cell_type": "code",
   "execution_count": 10,
   "metadata": {
    "colab": {
     "base_uri": "https://localhost:8080/"
    },
    "id": "Edcvj0knehSS",
    "outputId": "cfeab2f2-1f68-443d-b514-4a5f86929468"
   },
   "outputs": [
    {
     "name": "stdout",
     "output_type": "stream",
     "text": [
      "the most similar words to 玉米 is: \n",
      "小麦\n",
      "水稻\n",
      "作物\n",
      "棉花\n",
      "新品种\n",
      "杂交\n",
      "大豆\n",
      "增产\n",
      "栽培\n",
      "农作物\n",
      "\n"
     ]
    }
   ],
   "source": [
    "#@title\n",
    "word = u'玉米'  # corn\n",
    "ss = model.wv.similar_by_word(word,topn=10)\n",
    "print(\"the most similar words to \" + word + \" is: \")\n",
    "for s in ss:\n",
    "    print(s[0])\n",
    "print(\"\")"
   ]
  },
  {
   "cell_type": "markdown",
   "metadata": {
    "id": "2e_V1tGDpJNX"
   },
   "source": [
    "## Adding more context - FastText\n",
    "\n",
    "Since the original word2vec paper, there have followed a slew of word embedding related methods which innovate and build on them in many ways. One popular extension is FastText ([Bojanowski et al. 2017](https://arxiv.org/abs/1607.04606)), which uses sub-words to generate its vectors. Using subwords means that it is powerful in dealing with unknown words and sparse languages that otherwise have a rich morphological structure. These sub-words are incorporated into the previously skipgram and CBOW methods. For example, if the word is “which”, it is represented as the word itself along with a bag of constituent n-grams. If n=3, the representation looks like <wh, whi, hic, ich, ch>, and we learn a representation for each of these constituents, with the word “which” taking on the average value of these constituents. \n",
    "\n",
    "FastText can be used either via Gensim or the official package, and primarily has two functions - word representations, and text classification (Joulin et al. 2017). See below for code using the FastText package for playing with word representations, taken from their word representations tutorial (https://fasttext.cc/docs/en/unsupervised-tutorial.html).\n"
   ]
  },
  {
   "cell_type": "markdown",
   "metadata": {
    "id": "HqNJ5jWgpSCB"
   },
   "source": [
    "### Representations with FastText\n",
    "\n",
    "We will follow the instructions in the FastText tutorial to prepare our data, (Wikipedia). You can either follow the instructions on the page for setting the data, or download/copy it to drive it from this [Google Drive link](https://drive.google.com/file/d/12T3nNzf0a7tdhm1lVyfz9Ix9XVITFMCP/view?usp=sharing). \n",
    "\n",
    "In this example, we will be training a model - it is also possible to download and use the many pre-trained models."
   ]
  },
  {
   "cell_type": "code",
   "execution_count": null,
   "metadata": {
    "id": "l4iWKbb8s8Na"
   },
   "outputs": [],
   "source": [
    "!   pip install fasttext"
   ]
  },
  {
   "cell_type": "code",
   "execution_count": 14,
   "metadata": {
    "id": "o_1B3ckRpUP1"
   },
   "outputs": [],
   "source": [
    "import fasttext"
   ]
  },
  {
   "cell_type": "code",
   "execution_count": 15,
   "metadata": {
    "id": "t37MtAB4JYUb"
   },
   "outputs": [],
   "source": [
    "# Replace with the path for where you have placed the 'fil9' file.\n",
    "file_address = \"../data/fil9\" "
   ]
  },
  {
   "cell_type": "code",
   "execution_count": 16,
   "metadata": {
    "id": "s7YqmoQEI360"
   },
   "outputs": [],
   "source": [
    "model = fasttext.train_unsupervised(file_address)"
   ]
  },
  {
   "cell_type": "markdown",
   "metadata": {
    "id": "gVdsL1O-t171"
   },
   "source": [
    "While FastText is running, the progress and estimated time to completion is shown on your screen. Once the training finishes, the model variable contains information on the trained model, which you can use for querying:\n",
    "\n"
   ]
  },
  {
   "cell_type": "code",
   "execution_count": 17,
   "metadata": {
    "id": "l2NARfwxI6FL"
   },
   "outputs": [
    {
     "data": {
      "text/plain": [
       "['the',\n",
       " 'of',\n",
       " 'and',\n",
       " 'in',\n",
       " 'a',\n",
       " 'to',\n",
       " 'is',\n",
       " 'The',\n",
       " 'are',\n",
       " 'for',\n",
       " 'was',\n",
       " 'as',\n",
       " 'with',\n",
       " 'by',\n",
       " 'from',\n",
       " 'that',\n",
       " 'on',\n",
       " 'or',\n",
       " 'at',\n",
       " 'an',\n",
       " 'his',\n",
       " 'have',\n",
       " 'which',\n",
       " 'it',\n",
       " 'In',\n",
       " 'be',\n",
       " 'age',\n",
       " 'also',\n",
       " 'he',\n",
       " 'has',\n",
       " 'were',\n",
       " 'not',\n",
       " 'who',\n",
       " 'had',\n",
       " 'population',\n",
       " 'this',\n",
       " 'but',\n",
       " 'km',\n",
       " 'other',\n",
       " 'there',\n",
       " 'their',\n",
       " 'one',\n",
       " 'under',\n",
       " 'A',\n",
       " 'more',\n",
       " '18',\n",
       " 'its',\n",
       " 'all',\n",
       " 'living',\n",
       " 'first',\n",
       " 'two',\n",
       " 'income',\n",
       " 'median',\n",
       " 'been',\n",
       " 'It',\n",
       " 'out',\n",
       " 'total',\n",
       " 'United',\n",
       " 'can',\n",
       " 'For',\n",
       " 'years',\n",
       " 'they',\n",
       " 'This',\n",
       " 'He',\n",
       " 'into',\n",
       " 'There',\n",
       " 'most',\n",
       " 'city',\n",
       " 'average',\n",
       " 'As',\n",
       " 'such',\n",
       " 'used',\n",
       " '65',\n",
       " 'some',\n",
       " 'up',\n",
       " 'no',\n",
       " 'mi.',\n",
       " 'New',\n",
       " 'those',\n",
       " 'many',\n",
       " 'only',\n",
       " 'made',\n",
       " 'after',\n",
       " 'than',\n",
       " 'would',\n",
       " 'when',\n",
       " 'American',\n",
       " 'family',\n",
       " 'area',\n",
       " 'any',\n",
       " 'every',\n",
       " 'States',\n",
       " 'town',\n",
       " '100',\n",
       " 'known',\n",
       " 'links',\n",
       " 'External',\n",
       " 'her',\n",
       " 'about',\n",
       " 'County,',\n",
       " 'located',\n",
       " 'size',\n",
       " 'below',\n",
       " 'may',\n",
       " 'between',\n",
       " 'over',\n",
       " 'time',\n",
       " '1',\n",
       " 'families',\n",
       " 'density',\n",
       " 'line.',\n",
       " 'called',\n",
       " 'household',\n",
       " 'females',\n",
       " 'I',\n",
       " 'where',\n",
       " 'older.',\n",
       " 'households',\n",
       " 'American,',\n",
       " 'males.',\n",
       " 'poverty',\n",
       " 'new',\n",
       " 'during',\n",
       " 'being',\n",
       " 'these',\n",
       " 'will',\n",
       " 'part',\n",
       " 'See',\n",
       " 'then',\n",
       " 'use',\n",
       " '0.00',\n",
       " '2',\n",
       " 'name',\n",
       " 'often',\n",
       " 'became',\n",
       " 'non',\n",
       " 'people',\n",
       " 'so',\n",
       " 'through',\n",
       " 'well',\n",
       " 'John',\n",
       " 'both',\n",
       " 'number',\n",
       " 'water.',\n",
       " 'him',\n",
       " 'British',\n",
       " 'three',\n",
       " 'de',\n",
       " 'mi',\n",
       " 'including',\n",
       " 'land',\n",
       " '2000',\n",
       " 'same',\n",
       " 'if',\n",
       " 'later',\n",
       " 'per',\n",
       " 'she',\n",
       " '25',\n",
       " 'very',\n",
       " 'University',\n",
       " 'English',\n",
       " 'while',\n",
       " 'several',\n",
       " 'like',\n",
       " 'see',\n",
       " 'married',\n",
       " 'On',\n",
       " 'children',\n",
       " 'years.',\n",
       " 'U.S.',\n",
       " 'West',\n",
       " 'them',\n",
       " 'African',\n",
       " 'World',\n",
       " 'early',\n",
       " 'According',\n",
       " 'female',\n",
       " 'before',\n",
       " 'because',\n",
       " 'now',\n",
       " 'against',\n",
       " 'could',\n",
       " '3',\n",
       " 'state',\n",
       " 'Census',\n",
       " '2000,',\n",
       " 'until',\n",
       " 'each',\n",
       " 'even',\n",
       " 'much',\n",
       " 'However,',\n",
       " 'French',\n",
       " 'Pacific',\n",
       " '2003',\n",
       " 'War',\n",
       " 'born',\n",
       " 'units',\n",
       " 'based',\n",
       " '45',\n",
       " 'older',\n",
       " 'spread',\n",
       " 'them,',\n",
       " 'since',\n",
       " 'They',\n",
       " 'individuals',\n",
       " 'people,',\n",
       " 'large',\n",
       " '24,',\n",
       " '18,',\n",
       " 'someone',\n",
       " 'still',\n",
       " 'Geography',\n",
       " 'North',\n",
       " 'Native',\n",
       " 'National',\n",
       " 'work',\n",
       " 'alone',\n",
       " 'form',\n",
       " 'system',\n",
       " 'husband',\n",
       " 'His',\n",
       " 'housing',\n",
       " 'Out',\n",
       " 'high',\n",
       " 'History',\n",
       " 'South',\n",
       " 'year',\n",
       " 'government',\n",
       " 'racial',\n",
       " 'After',\n",
       " 'together,',\n",
       " 'second',\n",
       " 'Demographics',\n",
       " 'versus',\n",
       " 'found',\n",
       " 'present,',\n",
       " 'German',\n",
       " '4',\n",
       " 'population,',\n",
       " 'capita',\n",
       " 'over,',\n",
       " 'families.',\n",
       " 'White,',\n",
       " 'race.',\n",
       " 'around',\n",
       " 'village',\n",
       " 'couples',\n",
       " 'Hispanic',\n",
       " 'own',\n",
       " '64,',\n",
       " '44,',\n",
       " 'makeup',\n",
       " 'residing',\n",
       " 'races.',\n",
       " 'females.',\n",
       " 'different',\n",
       " 'series',\n",
       " 'Latino',\n",
       " 'races,',\n",
       " 'households,',\n",
       " 'Bureau,',\n",
       " 'film',\n",
       " 'Males',\n",
       " 'what',\n",
       " 'householder',\n",
       " 'include',\n",
       " 'Asian,',\n",
       " 'county',\n",
       " 'County',\n",
       " 'May',\n",
       " 'long',\n",
       " 'do',\n",
       " 'Islander,',\n",
       " 'York',\n",
       " 'set',\n",
       " 'small',\n",
       " 'named',\n",
       " 'usually',\n",
       " 'Some',\n",
       " 'township',\n",
       " 'did',\n",
       " 'end',\n",
       " 'major',\n",
       " 'term',\n",
       " 'left',\n",
       " 'within',\n",
       " 's',\n",
       " 'census,',\n",
       " 'four',\n",
       " 'public',\n",
       " 'place',\n",
       " 'These',\n",
       " 'January',\n",
       " 'music',\n",
       " 'following',\n",
       " '2005',\n",
       " '10',\n",
       " 'census',\n",
       " 'When',\n",
       " '5',\n",
       " 'One',\n",
       " 'considered',\n",
       " 'CDP',\n",
       " 'political',\n",
       " 'began',\n",
       " 'make',\n",
       " 'due',\n",
       " 'group',\n",
       " 'power',\n",
       " '2004',\n",
       " 'popular',\n",
       " 'City',\n",
       " 'using',\n",
       " 'you',\n",
       " 'century',\n",
       " 'common',\n",
       " 'become',\n",
       " 'King',\n",
       " 'At',\n",
       " 'main',\n",
       " 'March',\n",
       " 'life',\n",
       " 'US',\n",
       " 'although',\n",
       " 'given',\n",
       " 'last',\n",
       " 'back',\n",
       " 'without',\n",
       " 'another',\n",
       " 'original',\n",
       " 'should',\n",
       " 'world',\n",
       " 'game',\n",
       " 'order',\n",
       " 'few',\n",
       " 'List',\n",
       " 'modern',\n",
       " 'An',\n",
       " 'September',\n",
       " 'June',\n",
       " 'October',\n",
       " 'December',\n",
       " 'William',\n",
       " 'way',\n",
       " 'July',\n",
       " 'II',\n",
       " 'important',\n",
       " 'though',\n",
       " 'just',\n",
       " '0',\n",
       " 'released',\n",
       " 'among',\n",
       " 'however,',\n",
       " 'home',\n",
       " 'Roman',\n",
       " 'near',\n",
       " 'took',\n",
       " 'off',\n",
       " 'along',\n",
       " 'sometimes',\n",
       " 'led',\n",
       " 'February',\n",
       " 'we',\n",
       " 'April',\n",
       " 'November',\n",
       " 'n',\n",
       " 'ISBN',\n",
       " 'history',\n",
       " '2002',\n",
       " 'August',\n",
       " 'All',\n",
       " 'She',\n",
       " 'various',\n",
       " 'members',\n",
       " 'language',\n",
       " 'version',\n",
       " 'does',\n",
       " 'former',\n",
       " 'point',\n",
       " 'James',\n",
       " 'day',\n",
       " '6',\n",
       " 'right',\n",
       " 'less',\n",
       " 'General',\n",
       " 'local',\n",
       " 'great',\n",
       " 'George',\n",
       " 'must',\n",
       " 'similar',\n",
       " 'military',\n",
       " 'died',\n",
       " 'article',\n",
       " 'State',\n",
       " 'show',\n",
       " 'European',\n",
       " 'single',\n",
       " 'war',\n",
       " 'published',\n",
       " 'Other',\n",
       " 'late',\n",
       " 'line',\n",
       " 'held',\n",
       " 'written',\n",
       " 'If',\n",
       " 'President',\n",
       " 'never',\n",
       " 'BC',\n",
       " 'During',\n",
       " 'best',\n",
       " 'down',\n",
       " 'b.',\n",
       " 'North,',\n",
       " 'From',\n",
       " 'take',\n",
       " 'built',\n",
       " 'came',\n",
       " 'general',\n",
       " 'Many',\n",
       " 'By',\n",
       " 'School',\n",
       " 'said',\n",
       " 'book',\n",
       " 'either',\n",
       " 'covered',\n",
       " 'International',\n",
       " '20',\n",
       " 'human',\n",
       " 'example,',\n",
       " 'law',\n",
       " 'Black',\n",
       " 'old',\n",
       " 'site',\n",
       " 'generally',\n",
       " 'rather',\n",
       " 'created',\n",
       " '8',\n",
       " 'word',\n",
       " 'played',\n",
       " 'support',\n",
       " 'To',\n",
       " 'seen',\n",
       " 'death',\n",
       " 'having',\n",
       " 'famous',\n",
       " 'short',\n",
       " '12',\n",
       " 'River',\n",
       " 'especially',\n",
       " '7',\n",
       " 'Charles',\n",
       " 'Japanese',\n",
       " 'd.',\n",
       " 'water',\n",
       " 'births',\n",
       " '15',\n",
       " 'control',\n",
       " 'album',\n",
       " 'player',\n",
       " 'Robert',\n",
       " 'largest',\n",
       " 'five',\n",
       " 'St.',\n",
       " 'information',\n",
       " 'Although',\n",
       " 'member',\n",
       " 'north',\n",
       " 'East',\n",
       " 'London',\n",
       " 'band',\n",
       " 'school',\n",
       " 'son',\n",
       " 'official',\n",
       " 'means',\n",
       " 'C',\n",
       " 'm',\n",
       " 'television',\n",
       " '2001',\n",
       " 'Location',\n",
       " 'national',\n",
       " 'none',\n",
       " 'included',\n",
       " 'character',\n",
       " 'time,',\n",
       " 'how',\n",
       " 'south',\n",
       " 'almost',\n",
       " 'won',\n",
       " 'third',\n",
       " 'free',\n",
       " 'San',\n",
       " 'developed',\n",
       " 'Chinese',\n",
       " 'Great',\n",
       " 'country',\n",
       " 'House',\n",
       " 'next',\n",
       " 'While',\n",
       " 'Christian',\n",
       " 'Image',\n",
       " 'Most',\n",
       " 'role',\n",
       " 'produced',\n",
       " '30',\n",
       " 'himself',\n",
       " 'case',\n",
       " 'making',\n",
       " 'groups',\n",
       " 'example',\n",
       " 'full',\n",
       " 'David',\n",
       " 'current',\n",
       " 'upon',\n",
       " 'established',\n",
       " 'period',\n",
       " 'England',\n",
       " 'taken',\n",
       " 'Greek',\n",
       " 'million',\n",
       " 'side',\n",
       " 'France',\n",
       " 'x',\n",
       " 'present',\n",
       " 'title',\n",
       " '9',\n",
       " 'Henry',\n",
       " 'References',\n",
       " 'play',\n",
       " 'First',\n",
       " 'theory',\n",
       " '11',\n",
       " 'good',\n",
       " 'With',\n",
       " 'Battle',\n",
       " 'computer',\n",
       " 'went',\n",
       " 'Party',\n",
       " 'once',\n",
       " 'development',\n",
       " 'times',\n",
       " 'received',\n",
       " 'team',\n",
       " 'works',\n",
       " 'result',\n",
       " 'deaths',\n",
       " 'type',\n",
       " 'Lake',\n",
       " 'Canadian',\n",
       " '16',\n",
       " 'formed',\n",
       " 'man',\n",
       " 'list',\n",
       " 'whose',\n",
       " 'Soviet',\n",
       " 'Church',\n",
       " 'half',\n",
       " 'Paul',\n",
       " 'little',\n",
       " 'thus',\n",
       " 'Western',\n",
       " 'least',\n",
       " 'B',\n",
       " 'http',\n",
       " 'far',\n",
       " 'body',\n",
       " 'further',\n",
       " 'party',\n",
       " 'possible',\n",
       " 'social',\n",
       " 'certain',\n",
       " 'originally',\n",
       " 'uploaded',\n",
       " 'Texas',\n",
       " 'real',\n",
       " 'Union',\n",
       " '40',\n",
       " 'story',\n",
       " 'continued',\n",
       " 'Cities',\n",
       " 'UK',\n",
       " 'X',\n",
       " 'service',\n",
       " 'related',\n",
       " 'College',\n",
       " 'again',\n",
       " 'available',\n",
       " 'Spanish',\n",
       " 'Thomas',\n",
       " 'areas',\n",
       " '1,',\n",
       " 'always',\n",
       " 'source',\n",
       " 'Royal',\n",
       " '1999',\n",
       " 'class',\n",
       " 'city.',\n",
       " 'production',\n",
       " 'fact',\n",
       " 'top',\n",
       " 'it.',\n",
       " 'served',\n",
       " 'Best',\n",
       " 'founded',\n",
       " 'games',\n",
       " 'website',\n",
       " 'Richard',\n",
       " 'style',\n",
       " 'moved',\n",
       " 'person',\n",
       " 'wrote',\n",
       " 'level',\n",
       " 'page',\n",
       " 'air',\n",
       " 'Air',\n",
       " 'open',\n",
       " 'above',\n",
       " 'forces',\n",
       " 'High',\n",
       " 'might',\n",
       " 'song',\n",
       " 'time.',\n",
       " 'Republic',\n",
       " 'America',\n",
       " 'light',\n",
       " '14',\n",
       " 'live',\n",
       " 'low',\n",
       " 'special',\n",
       " 'image',\n",
       " 'company',\n",
       " 'able',\n",
       " 'Canada',\n",
       " 'parts',\n",
       " 'systems',\n",
       " 'states',\n",
       " '21',\n",
       " 'process',\n",
       " 'particularly',\n",
       " 'record',\n",
       " 'international',\n",
       " 'standard',\n",
       " 'described',\n",
       " 'space',\n",
       " 'west',\n",
       " 'six',\n",
       " 'designated',\n",
       " 'Township',\n",
       " 'Jewish',\n",
       " 'field',\n",
       " 'head',\n",
       " 'Since',\n",
       " 'men',\n",
       " 'run',\n",
       " 'eventually',\n",
       " 'But',\n",
       " 'position',\n",
       " 'Minister',\n",
       " 'white',\n",
       " 'Lord',\n",
       " 'Its',\n",
       " 'traditional',\n",
       " 'community',\n",
       " '1998',\n",
       " 'final',\n",
       " 'referred',\n",
       " 'places',\n",
       " 'get',\n",
       " 'M',\n",
       " 'Russian',\n",
       " 'others',\n",
       " 'started',\n",
       " 'natural',\n",
       " 'Council',\n",
       " 'commonly',\n",
       " 'TV',\n",
       " 'actually',\n",
       " '13',\n",
       " 'California',\n",
       " 'includes',\n",
       " 'Saint',\n",
       " '2005,',\n",
       " 'Park',\n",
       " 'data',\n",
       " 'terms',\n",
       " 'Kingdom',\n",
       " 'elected',\n",
       " 'religious',\n",
       " 'east',\n",
       " 'Italian',\n",
       " 'lost',\n",
       " '17',\n",
       " 're',\n",
       " 'itself',\n",
       " 'economic',\n",
       " 'God',\n",
       " 'days',\n",
       " 'force',\n",
       " 'appeared',\n",
       " 'change',\n",
       " 'meaning',\n",
       " 'center',\n",
       " 'uses',\n",
       " 'central',\n",
       " 'throughout',\n",
       " 'come',\n",
       " 'Michael',\n",
       " 'S',\n",
       " 'movie',\n",
       " 'White',\n",
       " 'black',\n",
       " 'young',\n",
       " 'You',\n",
       " 'across',\n",
       " 'Indian',\n",
       " 'R',\n",
       " 'China',\n",
       " 'countries',\n",
       " 'Catholic',\n",
       " 'Star',\n",
       " 'returned',\n",
       " 'Irish',\n",
       " 'put',\n",
       " 'F',\n",
       " 'town.',\n",
       " 'too',\n",
       " 'Red',\n",
       " 'brought',\n",
       " 'recent',\n",
       " 'father',\n",
       " 'lead',\n",
       " 'range',\n",
       " 'thought',\n",
       " '24',\n",
       " 'Germany',\n",
       " 'particular',\n",
       " 'radio',\n",
       " 'books',\n",
       " '19',\n",
       " 'soon',\n",
       " 'Peter',\n",
       " 'designed',\n",
       " 'La',\n",
       " 'Old',\n",
       " 'outside',\n",
       " 'close',\n",
       " 'capital',\n",
       " 'rock',\n",
       " '1997',\n",
       " 'gave',\n",
       " 'forms',\n",
       " 'Another',\n",
       " 'years,',\n",
       " 'characters',\n",
       " 'self',\n",
       " 'design',\n",
       " 'together',\n",
       " 'strong',\n",
       " 'Official',\n",
       " 'Washington',\n",
       " 'region',\n",
       " '22',\n",
       " 'species',\n",
       " 'followed',\n",
       " 'Central',\n",
       " 'ever',\n",
       " 'census2',\n",
       " 'my',\n",
       " 'V',\n",
       " 'release',\n",
       " 'leading',\n",
       " 'go',\n",
       " 'Europe',\n",
       " 'find',\n",
       " 'Army',\n",
       " 'significant',\n",
       " '1996',\n",
       " 'working',\n",
       " 'League',\n",
       " 'king',\n",
       " 'films',\n",
       " 'view',\n",
       " 'instead',\n",
       " 'science',\n",
       " 'higher',\n",
       " 'building',\n",
       " 'program',\n",
       " 'Australian',\n",
       " 'remained',\n",
       " 'video',\n",
       " 'killed',\n",
       " 'lower',\n",
       " 'Latin',\n",
       " 'Sir',\n",
       " 'energy',\n",
       " 'Louis',\n",
       " 'currently',\n",
       " 'whether',\n",
       " 'simply',\n",
       " 'District',\n",
       " 'introduced',\n",
       " 'D',\n",
       " 'associated',\n",
       " 'Of',\n",
       " 'according',\n",
       " 'J.',\n",
       " 'actor',\n",
       " 'seat',\n",
       " 'study',\n",
       " '23',\n",
       " 'century,',\n",
       " 'help',\n",
       " 'widely',\n",
       " 'ancient',\n",
       " 'sent',\n",
       " 'your',\n",
       " 'names',\n",
       " 'students',\n",
       " 'Prince',\n",
       " 'return',\n",
       " 'art',\n",
       " 'G',\n",
       " 'provide',\n",
       " 'probably',\n",
       " '1995',\n",
       " 'Two',\n",
       " 'events',\n",
       " 'Pennsylvania',\n",
       " 'aircraft',\n",
       " 'cities',\n",
       " 'and,',\n",
       " 'miles',\n",
       " 'text',\n",
       " 'author',\n",
       " 'anti',\n",
       " 'refer',\n",
       " 'Island',\n",
       " 'numbers',\n",
       " 'allowed',\n",
       " 'away',\n",
       " 'mostly',\n",
       " 'words',\n",
       " 'attack',\n",
       " 'typically',\n",
       " 'beginning',\n",
       " 'languages',\n",
       " 'Wikipedia',\n",
       " 'features',\n",
       " 'give',\n",
       " 'whom',\n",
       " 'caused',\n",
       " 'our',\n",
       " 'saw',\n",
       " 'code',\n",
       " 'northern',\n",
       " 'link',\n",
       " 'makes',\n",
       " 'already',\n",
       " 'cause',\n",
       " 'rights',\n",
       " 'function',\n",
       " 'believed',\n",
       " '1994',\n",
       " 'Public',\n",
       " '50',\n",
       " 'better',\n",
       " 'players',\n",
       " 'Australia',\n",
       " 'need',\n",
       " 'larger',\n",
       " 'independent',\n",
       " 'deleted',\n",
       " 'influence',\n",
       " 'subject',\n",
       " 'themselves',\n",
       " 'Northern',\n",
       " 'contains',\n",
       " 'movement',\n",
       " 'model',\n",
       " 'personal',\n",
       " 'longer',\n",
       " 'replaced',\n",
       " 'remains',\n",
       " 'complete',\n",
       " 'entire',\n",
       " 'value',\n",
       " 'Life',\n",
       " 'effect',\n",
       " 'leader',\n",
       " 'post',\n",
       " 'e',\n",
       " 'cannot',\n",
       " 'recorded',\n",
       " 'southern',\n",
       " 'western',\n",
       " 'musical',\n",
       " '2,',\n",
       " '1993',\n",
       " 'playing',\n",
       " 'Japan',\n",
       " 'rate',\n",
       " 'island',\n",
       " 'Court',\n",
       " 'Man',\n",
       " 'mid',\n",
       " 'specific',\n",
       " 'successful',\n",
       " 'appears',\n",
       " 'house',\n",
       " 'career',\n",
       " 'legal',\n",
       " 'shows',\n",
       " 'Music',\n",
       " 'interest',\n",
       " 'individual',\n",
       " 'commercial',\n",
       " 'required',\n",
       " 'L',\n",
       " 'becomes',\n",
       " 'provided',\n",
       " 'them.',\n",
       " 'action',\n",
       " '2005.',\n",
       " 'true',\n",
       " 'novel',\n",
       " 'separate',\n",
       " 'research',\n",
       " '0.0',\n",
       " 'historical',\n",
       " 'largely',\n",
       " 'T',\n",
       " 'attempt',\n",
       " 'Prime',\n",
       " 'Edward',\n",
       " 'foreign',\n",
       " 'majority',\n",
       " 'hand',\n",
       " 'Dutch',\n",
       " 'business',\n",
       " 'changed',\n",
       " 'software',\n",
       " 'army',\n",
       " 'And',\n",
       " 'Grand',\n",
       " 'addition',\n",
       " 'Duke',\n",
       " 'office',\n",
       " 'highly',\n",
       " 'joined',\n",
       " 'culture',\n",
       " '1992',\n",
       " 'sound',\n",
       " 'Airport',\n",
       " 'Act',\n",
       " 'season',\n",
       " 'A.',\n",
       " 'market',\n",
       " 'move',\n",
       " 'Day',\n",
       " 'Government',\n",
       " 'Minnesota',\n",
       " 'writer',\n",
       " 'Town',\n",
       " 'Middle',\n",
       " 'material',\n",
       " 'involved',\n",
       " 'Joseph',\n",
       " '2004,',\n",
       " 'III',\n",
       " 'towards',\n",
       " 'private',\n",
       " 'enough',\n",
       " 'added',\n",
       " '1990',\n",
       " 'battle',\n",
       " '28',\n",
       " 'My',\n",
       " '19th',\n",
       " 'Towns',\n",
       " 'sold',\n",
       " 'takes',\n",
       " 'evidence',\n",
       " '26',\n",
       " '2006',\n",
       " 'rest',\n",
       " 'That',\n",
       " 'likely',\n",
       " 'talk',\n",
       " 'Queen',\n",
       " '20th',\n",
       " 'produce',\n",
       " 'speed',\n",
       " 'physical',\n",
       " '27',\n",
       " 'lived',\n",
       " 'yet',\n",
       " 'Hall',\n",
       " 'Empire',\n",
       " 'idea',\n",
       " 'future',\n",
       " 'base',\n",
       " ...]"
      ]
     },
     "execution_count": 17,
     "metadata": {},
     "output_type": "execute_result"
    }
   ],
   "source": [
    "model.words"
   ]
  },
  {
   "cell_type": "markdown",
   "metadata": {
    "id": "F7y1Qr95t7if"
   },
   "source": [
    "It returns all words in the vocabulary, sorted by decreasing frequency. We can get the word vector by:\n",
    "\n"
   ]
  },
  {
   "cell_type": "code",
   "execution_count": 18,
   "metadata": {
    "id": "7lxZJCAst4n1"
   },
   "outputs": [
    {
     "data": {
      "text/plain": [
       "array([-0.12084085,  0.5492327 ,  0.0824696 ,  0.25363284,  0.16262709,\n",
       "       -0.02627787,  0.15184522, -0.36438525,  0.1561611 , -0.15111226,\n",
       "       -0.14854863,  0.39425808, -0.14802296, -0.04988571, -0.14429899,\n",
       "       -0.2758176 ,  0.13358852,  0.12636864,  0.10071614, -0.16773364,\n",
       "        0.1516089 , -0.34079668,  0.12077007,  0.02961084, -0.0776622 ,\n",
       "        0.14134811,  0.02414101,  0.00145983, -0.1917183 , -0.14426902,\n",
       "       -0.1470465 , -0.30601707, -0.49832803,  0.33195972, -0.02393164,\n",
       "       -0.21722761, -0.2858986 ,  0.16486104,  0.21934229, -0.39469618,\n",
       "        0.34504348, -0.0652067 , -0.26527378,  0.14147866,  0.20526484,\n",
       "       -0.19235304,  0.20296623, -0.10101476,  0.35429314, -0.15827215,\n",
       "        0.18851267,  0.38034886,  0.23086615, -0.15060647,  0.59239006,\n",
       "        0.0562493 ,  0.06682047, -0.144577  ,  0.2047312 , -0.23512313,\n",
       "        0.0673046 , -0.06902941, -0.04678788,  0.01321285, -0.09126817,\n",
       "        0.16557378,  0.14707218, -0.44564018, -0.3024399 ,  0.06686583,\n",
       "        0.13492402,  0.1246151 , -0.4372157 ,  0.16375335, -0.2164678 ,\n",
       "       -0.05269184,  0.15648285,  0.17637692,  0.08499733,  0.14029688,\n",
       "       -0.1243393 ,  0.20994301,  0.2961508 ,  0.07071053,  0.04910902,\n",
       "        0.08972945,  0.07720212, -0.13600731,  0.00690949,  0.10515659,\n",
       "        0.4239084 , -0.1358166 ,  0.05712104, -0.31227797, -0.42511192,\n",
       "        0.21236995, -0.01157553,  0.1593925 , -0.6612666 , -0.20872477],\n",
       "      dtype=float32)"
      ]
     },
     "execution_count": 18,
     "metadata": {},
     "output_type": "execute_result"
    }
   ],
   "source": [
    "model.get_word_vector(\"the\")"
   ]
  },
  {
   "cell_type": "code",
   "execution_count": 21,
   "metadata": {
    "id": "EXjgMWFCt4lE"
   },
   "outputs": [],
   "source": [
    "model.save_model(\"fil9.bin\")"
   ]
  },
  {
   "cell_type": "code",
   "execution_count": null,
   "metadata": {
    "id": "CznMfOVbt4iG"
   },
   "outputs": [],
   "source": [
    "# when we want to use the model again\n",
    "# model = fasttext.load_model(\"result/fil9.bin\")"
   ]
  },
  {
   "cell_type": "markdown",
   "metadata": {
    "id": "o3H_c9lVq0WQ"
   },
   "source": [
    "Let's now print some vectors."
   ]
  },
  {
   "cell_type": "code",
   "execution_count": 22,
   "metadata": {
    "id": "EsAsfHyNt4e4"
   },
   "outputs": [
    {
     "data": {
      "text/plain": [
       "[array([-0.3763287 , -0.02100678,  0.02126971, -0.01483327,  0.22347632,\n",
       "         0.6634899 , -0.20518024,  0.22311293,  0.05510181,  0.5904435 ,\n",
       "        -0.66595525, -0.21292585,  0.00141425, -0.6587982 , -0.18682112,\n",
       "        -0.3896631 ,  0.56355506, -0.1778658 , -0.33277813,  0.1710207 ,\n",
       "        -0.46703187,  0.0231634 ,  1.3937211 , -0.36724585,  0.0749626 ,\n",
       "        -0.31991848,  0.6740487 ,  0.40683705, -0.82269216, -0.07713571,\n",
       "        -0.06215599, -0.446606  , -0.59928936, -0.09234824, -0.4529319 ,\n",
       "         0.17759193,  0.13994248,  0.31215885,  0.08350032,  0.12279519,\n",
       "         0.37789991, -0.09267162,  0.18954419, -0.03997714,  0.29410324,\n",
       "        -0.41865632,  0.0222857 ,  0.47887844,  0.337929  ,  0.41773447,\n",
       "         0.53514075,  0.20425612,  1.0710332 , -0.07406529,  0.6971432 ,\n",
       "         0.29639402, -0.37371024,  0.06249844, -0.0764751 , -0.48249257,\n",
       "         0.7680072 ,  0.27765307, -0.44492662,  0.28673238,  0.25497812,\n",
       "        -0.19436537,  0.24517936,  0.01953148, -0.17862596, -0.14697546,\n",
       "        -0.01084918, -0.31157973,  0.37346944,  0.37264034, -0.3826957 ,\n",
       "        -0.3296033 ,  0.45822746, -0.30936798,  0.36165997,  1.1876523 ,\n",
       "        -0.8768955 ,  0.02239666,  0.23055679,  0.20017892,  0.60526454,\n",
       "        -0.4235007 ,  0.55668265,  0.39973718, -0.10205528,  0.08411793,\n",
       "        -0.02806047, -0.6115727 ,  0.36050904, -0.30936745, -0.45241213,\n",
       "        -0.06278688,  0.45699817,  0.06454904, -0.00263278, -0.19344018],\n",
       "       dtype=float32),\n",
       " array([ 0.01355969,  0.250096  , -0.2314743 ,  0.16482745,  0.91274095,\n",
       "         0.17642698, -0.3958806 , -0.29003087,  0.31451395, -0.01070986,\n",
       "        -0.35891765, -0.3741894 , -0.08099164, -0.22540689, -0.12514319,\n",
       "         0.02121933,  0.44208404,  0.5707081 ,  0.11907043,  0.2853096 ,\n",
       "         0.06480829, -0.12116183,  0.45292574,  0.3263954 , -0.42544022,\n",
       "         0.18364741,  0.543699  ,  0.11498724, -0.06355973, -0.03314143,\n",
       "        -0.36492854, -0.06340089, -0.28664723, -0.09263906, -0.12675291,\n",
       "         0.24252388,  0.42627537,  0.09687604,  0.27921206, -0.63910586,\n",
       "         0.11295433,  0.33938524, -0.23452087, -0.08792962,  0.02638213,\n",
       "        -0.6127725 ,  0.09547126,  0.3226371 ,  0.17331493,  0.22660817,\n",
       "         0.82412535, -0.18900684,  0.27570358,  0.3600901 ,  0.7381973 ,\n",
       "         0.13232607, -0.2983493 ,  0.4592689 ,  0.01246844, -0.42199913,\n",
       "        -0.03702949,  0.19105686, -0.453484  ,  0.2764435 , -0.24808727,\n",
       "         0.14251927,  0.01069952, -0.04610009, -0.08314824, -0.03494597,\n",
       "         0.43570817, -0.0717637 ,  0.12541468,  0.05490409,  0.07701663,\n",
       "        -0.11546709,  0.5169989 , -0.07015938,  0.1582803 ,  0.7367583 ,\n",
       "        -0.18694438,  0.4339868 ,  0.37921104,  0.7093403 , -0.3646751 ,\n",
       "        -0.07175872, -0.23837018,  0.2596006 , -0.1914747 ,  0.0399671 ,\n",
       "        -0.1929318 , -0.34463507, -0.28890198, -0.40724126, -0.3146929 ,\n",
       "         0.30367717, -0.0457162 ,  0.1023834 ,  0.18048836, -0.4845205 ],\n",
       "       dtype=float32),\n",
       " array([-0.23162724,  0.121138  , -0.40296128,  0.0635702 ,  0.02941532,\n",
       "         0.10735495, -0.33519706,  0.02096613,  0.19511986,  0.28361344,\n",
       "        -0.3120136 , -0.26674116, -0.19839884,  0.05922484, -0.2939279 ,\n",
       "        -0.7891363 , -0.28128484, -0.22777063,  0.07797135,  0.09608339,\n",
       "         0.2687937 , -0.6536771 ,  0.97943676,  0.6161538 , -0.25935298,\n",
       "        -0.27978557,  0.39086053,  0.24922132,  0.00297906, -0.5886263 ,\n",
       "         0.09792513, -0.22469817, -0.11288303,  0.2119342 ,  0.35460588,\n",
       "        -0.02152666,  0.26793393, -0.1920411 , -0.09590791,  0.01210737,\n",
       "         0.07488161, -0.20414221,  0.25093883,  0.37826893, -0.51678807,\n",
       "         0.04434026,  0.7946117 ,  0.24984455,  0.9232911 ,  0.08870442,\n",
       "         0.38730937, -0.02749866,  0.48514137, -0.05014089,  0.53769374,\n",
       "         0.24030204,  0.49543372,  0.39514   , -0.12425962, -0.7824205 ,\n",
       "         0.38037533,  0.06578642, -0.6122411 ,  0.38934222,  0.08465517,\n",
       "        -0.02746486,  0.08963858,  0.04711314,  0.01085116, -0.2827119 ,\n",
       "         0.21510516,  0.34301594, -0.03120228,  0.5837599 , -0.45355788,\n",
       "        -0.55072594,  0.2150727 ,  0.04252933,  0.21850285,  0.46754068,\n",
       "        -0.6399986 ,  0.01389772,  0.11232244,  0.6440592 ,  0.6544412 ,\n",
       "        -0.20402087, -0.27583262,  0.42324   , -0.03969208,  0.53469235,\n",
       "        -0.13508499, -0.67899996,  0.30930108, -0.3343813 , -0.22776775,\n",
       "         0.13273495, -0.0897404 ,  0.4702317 ,  0.28733805,  0.37182996],\n",
       "       dtype=float32)]"
      ]
     },
     "execution_count": 22,
     "metadata": {},
     "output_type": "execute_result"
    }
   ],
   "source": [
    "[model.get_word_vector(x) for x in [\"asparagus\", \"pidgey\", \"yellow\"]]"
   ]
  },
  {
   "cell_type": "markdown",
   "metadata": {
    "id": "FAXTmBV1q_Xv"
   },
   "source": [
    "A nice feature is that you can also query for words that did not appear in your data! Indeed words are represented by the sum of their substrings. As long as the unknown word is made of known substrings, there is a representation of it!\n",
    "\n",
    "As an example let's try with a misspelled word:\n",
    "\n"
   ]
  },
  {
   "cell_type": "code",
   "execution_count": 23,
   "metadata": {
    "id": "QmWu9IZsrCl-"
   },
   "outputs": [
    {
     "data": {
      "text/plain": [
       "array([-0.4735461 ,  0.5617258 , -0.0016778 , -0.35148996,  0.08480728,\n",
       "       -0.00768573, -0.23641457, -0.1090412 , -0.05643427, -0.5121541 ,\n",
       "       -0.02709121,  0.08575584, -0.08540152, -0.00864455, -0.12157645,\n",
       "       -0.32767427,  0.4073872 ,  0.10039073, -0.06684525,  0.17778029,\n",
       "       -0.11203866, -0.03035674, -0.14215042,  0.6352458 ,  0.10427472,\n",
       "        0.01502893,  0.5112806 ,  0.15588784, -0.10575185, -0.2517806 ,\n",
       "       -0.01148977, -0.25917512, -0.37758228,  0.15656598,  0.06017482,\n",
       "        0.08907361,  0.1884946 ,  0.24773757, -0.11431044, -0.20159173,\n",
       "        0.2875486 , -0.0774234 , -0.02044008,  0.10987043,  0.3273795 ,\n",
       "       -0.09788097,  0.19320959,  0.53570604,  0.26253262, -0.29055685,\n",
       "        0.6206654 ,  0.11293212,  0.25654933, -0.15659463,  0.11069861,\n",
       "        0.21961293, -0.5373954 ,  0.40038005, -0.205428  , -0.4603613 ,\n",
       "        0.29188183,  0.22372898, -0.00363764, -0.17657691,  0.32063958,\n",
       "       -0.05321747,  0.43827978, -0.16973016, -0.16368032, -0.04869841,\n",
       "        0.0901803 ,  0.10271093,  0.36002466, -0.08786208, -0.36005214,\n",
       "       -0.30550575,  0.08059812,  0.23926674, -0.19679108, -0.21124153,\n",
       "        0.08531719,  0.35484013,  0.32017905,  0.18851718, -0.10341813,\n",
       "       -0.11137559,  0.26413238, -0.12701905, -0.11377183, -0.18316692,\n",
       "       -0.15437539, -0.2697886 ,  0.22167109, -0.33548403, -0.7070836 ,\n",
       "        0.11593395, -0.16649014, -0.16842516,  0.10755046,  0.02318631],\n",
       "      dtype=float32)"
      ]
     },
     "execution_count": 23,
     "metadata": {},
     "output_type": "execute_result"
    }
   ],
   "source": [
    "model.get_word_vector(\"enviroment\")"
   ]
  },
  {
   "cell_type": "code",
   "execution_count": null,
   "metadata": {},
   "outputs": [],
   "source": [
    "# Add FastText here"
   ]
  },
  {
   "cell_type": "markdown",
   "metadata": {},
   "source": [
    "## <font color=\"red\">*Exercise 1*</font>\n",
    "\n",
    "<font color=\"red\">Construct cells immediately below this that embed documents related to your final project using at least two different specification of `word2vec` and/or `fasttext`, and visualize them each with two separate visualization layout specifications (e.g., TSNE, PCA). Then interrogate critical word vectors within your corpus in terms of the most similar words, analogies, and other additions and subtractions that reveal the structure of similarity and difference within your semantic space. What does this pattern reveal about the semantic organization of words in your corpora? Which estimation and visualization specification generate the most insight and appear the most robustly supported and why? \n",
    "\n",
    "<font color=\"red\">***Stretch***: Explore different vector calculations beyond addition and subtraction, such as multiplication, division or some other function. What does this exploration reveal about the semantic structure of your corpus?"
   ]
  },
  {
   "cell_type": "code",
   "execution_count": null,
   "metadata": {},
   "outputs": [],
   "source": []
  },
  {
   "cell_type": "markdown",
   "metadata": {},
   "source": [
    "# Doc2Vec"
   ]
  },
  {
   "cell_type": "markdown",
   "metadata": {
    "collapsed": true
   },
   "source": [
    "Instead of just looking at just how words embed within in the space, we can look at how the different documents relate to each other within the space. First lets load our data--abstracts of most U.S. physics papers from the 1950s."
   ]
  },
  {
   "cell_type": "code",
   "execution_count": 26,
   "metadata": {},
   "outputs": [
    {
     "data": {
      "text/html": [
       "<div>\n",
       "<style scoped>\n",
       "    .dataframe tbody tr th:only-of-type {\n",
       "        vertical-align: middle;\n",
       "    }\n",
       "\n",
       "    .dataframe tbody tr th {\n",
       "        vertical-align: top;\n",
       "    }\n",
       "\n",
       "    .dataframe thead th {\n",
       "        text-align: right;\n",
       "    }\n",
       "</style>\n",
       "<table border=\"1\" class=\"dataframe\">\n",
       "  <thead>\n",
       "    <tr style=\"text-align: right;\">\n",
       "      <th></th>\n",
       "      <th>copyrightYear</th>\n",
       "      <th>doi</th>\n",
       "      <th>abstract</th>\n",
       "    </tr>\n",
       "  </thead>\n",
       "  <tbody>\n",
       "    <tr>\n",
       "      <th>0</th>\n",
       "      <td>1950</td>\n",
       "      <td>10.1103/RevModPhys.22.221</td>\n",
       "      <td>A summarizing account is given of the research...</td>\n",
       "    </tr>\n",
       "    <tr>\n",
       "      <th>1</th>\n",
       "      <td>1951</td>\n",
       "      <td>10.1103/RevModPhys.23.147</td>\n",
       "      <td>New tables of coulomb functions are presented ...</td>\n",
       "    </tr>\n",
       "    <tr>\n",
       "      <th>2</th>\n",
       "      <td>1951</td>\n",
       "      <td>10.1103/RevModPhys.23.185</td>\n",
       "      <td>Ionization by electron impact in diatomic gase...</td>\n",
       "    </tr>\n",
       "    <tr>\n",
       "      <th>3</th>\n",
       "      <td>1951</td>\n",
       "      <td>10.1103/RevModPhys.23.203</td>\n",
       "      <td>It is shown that the conductivity in the ohmic...</td>\n",
       "    </tr>\n",
       "    <tr>\n",
       "      <th>4</th>\n",
       "      <td>1951</td>\n",
       "      <td>10.1103/RevModPhys.23.21</td>\n",
       "      <td>The factorization method is an operational pro...</td>\n",
       "    </tr>\n",
       "    <tr>\n",
       "      <th>5</th>\n",
       "      <td>1951</td>\n",
       "      <td>10.1103/RevModPhys.23.311</td>\n",
       "      <td>A brief account is given of Dyson's proof of t...</td>\n",
       "    </tr>\n",
       "    <tr>\n",
       "      <th>6</th>\n",
       "      <td>1951</td>\n",
       "      <td>10.1103/RevModPhys.23.315</td>\n",
       "      <td>A systematics is given of all transitions for ...</td>\n",
       "    </tr>\n",
       "    <tr>\n",
       "      <th>7</th>\n",
       "      <td>1951</td>\n",
       "      <td>10.1103/RevModPhys.23.322</td>\n",
       "      <td>A systematics of the -transitions of even A nu...</td>\n",
       "    </tr>\n",
       "    <tr>\n",
       "      <th>8</th>\n",
       "      <td>1951</td>\n",
       "      <td>10.1103/RevModPhys.23.328</td>\n",
       "      <td>The available experiments on the absorption sp...</td>\n",
       "    </tr>\n",
       "    <tr>\n",
       "      <th>9</th>\n",
       "      <td>1952</td>\n",
       "      <td>10.1103/RevModPhys.24.108</td>\n",
       "      <td>The classical theory of the dynamics of viscou...</td>\n",
       "    </tr>\n",
       "  </tbody>\n",
       "</table>\n",
       "</div>"
      ],
      "text/plain": [
       "   copyrightYear                        doi  \\\n",
       "0           1950  10.1103/RevModPhys.22.221   \n",
       "1           1951  10.1103/RevModPhys.23.147   \n",
       "2           1951  10.1103/RevModPhys.23.185   \n",
       "3           1951  10.1103/RevModPhys.23.203   \n",
       "4           1951   10.1103/RevModPhys.23.21   \n",
       "5           1951  10.1103/RevModPhys.23.311   \n",
       "6           1951  10.1103/RevModPhys.23.315   \n",
       "7           1951  10.1103/RevModPhys.23.322   \n",
       "8           1951  10.1103/RevModPhys.23.328   \n",
       "9           1952  10.1103/RevModPhys.24.108   \n",
       "\n",
       "                                            abstract  \n",
       "0  A summarizing account is given of the research...  \n",
       "1  New tables of coulomb functions are presented ...  \n",
       "2  Ionization by electron impact in diatomic gase...  \n",
       "3  It is shown that the conductivity in the ohmic...  \n",
       "4  The factorization method is an operational pro...  \n",
       "5  A brief account is given of Dyson's proof of t...  \n",
       "6  A systematics is given of all transitions for ...  \n",
       "7  A systematics of the -transitions of even A nu...  \n",
       "8  The available experiments on the absorption sp...  \n",
       "9  The classical theory of the dynamics of viscou...  "
      ]
     },
     "execution_count": 26,
     "metadata": {},
     "output_type": "execute_result"
    }
   ],
   "source": [
    "apsDF = pd.read_csv('../data/APSabstracts1950s.csv', index_col = 0)\n",
    "apsDF[:10]"
   ]
  },
  {
   "cell_type": "markdown",
   "metadata": {},
   "source": [
    "We will load these as documents into Word2Vec, but first we need to normalize and pick some tags."
   ]
  },
  {
   "cell_type": "code",
   "execution_count": 27,
   "metadata": {},
   "outputs": [],
   "source": [
    "keywords = ['photomagnetoelectric', 'quantum', 'boltzmann', 'proton', 'positron', 'feynman', 'classical', 'relativity']"
   ]
  },
  {
   "cell_type": "code",
   "execution_count": 28,
   "metadata": {},
   "outputs": [
    {
     "name": "stderr",
     "output_type": "stream",
     "text": [
      "c:\\Users\\flori\\AppData\\Local\\Programs\\Python\\Python39\\lib\\site-packages\\spacy\\pipeline\\lemmatizer.py:211: UserWarning: [W108] The rule-based lemmatizer did not find POS annotation for one or more tokens. Check that your pipeline includes components that assign token.pos, typically 'tagger'+'attribute_ruler' or 'morphologizer'.\n",
      "  warnings.warn(Warnings.W108)\n"
     ]
    }
   ],
   "source": [
    "apsDF['tokenized_words'] = apsDF['abstract'].apply(lambda x: lucem_illud.word_tokenize(x))\n",
    "apsDF['normalized_words'] = apsDF['tokenized_words'].apply(lambda x: lucem_illud.normalizeTokens(x, lemma=False))"
   ]
  },
  {
   "cell_type": "code",
   "execution_count": 32,
   "metadata": {},
   "outputs": [],
   "source": [
    "#.LabeledSentence deprecated\n",
    "from gensim.models.doc2vec import TaggedDocument\n",
    "\n",
    "taggedDocs = []\n",
    "for index, row in apsDF.iterrows():\n",
    "    #Just doing a simple keyword assignment\n",
    "    docKeywords = [s for s in keywords if s in row['normalized_words']]\n",
    "    docKeywords.append(row['copyrightYear'])\n",
    "    docKeywords.append(row['doi']) #This lets us extract individual documnets since doi's are unique\n",
    "    taggedDocs.append(TaggedDocument(words = row['normalized_words'], tags = docKeywords))\n",
    "apsDF['TaggedAbstracts'] = taggedDocs"
   ]
  },
  {
   "cell_type": "markdown",
   "metadata": {},
   "source": [
    "Now we can train a Doc2Vec model:"
   ]
  },
  {
   "cell_type": "code",
   "execution_count": 33,
   "metadata": {},
   "outputs": [
    {
     "ename": "TypeError",
     "evalue": "__init__() got an unexpected keyword argument 'size'",
     "output_type": "error",
     "traceback": [
      "\u001b[1;31m---------------------------------------------------------------------------\u001b[0m",
      "\u001b[1;31mTypeError\u001b[0m                                 Traceback (most recent call last)",
      "\u001b[1;32m<ipython-input-33-0926fd612c38>\u001b[0m in \u001b[0;36m<module>\u001b[1;34m\u001b[0m\n\u001b[1;32m----> 1\u001b[1;33m \u001b[0mapsD2V\u001b[0m \u001b[1;33m=\u001b[0m \u001b[0mgensim\u001b[0m\u001b[1;33m.\u001b[0m\u001b[0mmodels\u001b[0m\u001b[1;33m.\u001b[0m\u001b[0mdoc2vec\u001b[0m\u001b[1;33m.\u001b[0m\u001b[0mDoc2Vec\u001b[0m\u001b[1;33m(\u001b[0m\u001b[0mapsDF\u001b[0m\u001b[1;33m[\u001b[0m\u001b[1;34m'TaggedAbstracts'\u001b[0m\u001b[1;33m]\u001b[0m\u001b[1;33m,\u001b[0m \u001b[0msize\u001b[0m \u001b[1;33m=\u001b[0m \u001b[1;36m100\u001b[0m\u001b[1;33m)\u001b[0m \u001b[1;31m#Limiting to 100 dimensions\u001b[0m\u001b[1;33m\u001b[0m\u001b[1;33m\u001b[0m\u001b[0m\n\u001b[0m",
      "\u001b[1;32mc:\\Users\\flori\\AppData\\Local\\Programs\\Python\\Python39\\lib\\site-packages\\gensim\\models\\doc2vec.py\u001b[0m in \u001b[0;36m__init__\u001b[1;34m(self, documents, corpus_file, vector_size, dm_mean, dm, dbow_words, dm_concat, dm_tag_count, dv, dv_mapfile, comment, trim_rule, callbacks, window, epochs, shrink_windows, **kwargs)\u001b[0m\n\u001b[0;32m    294\u001b[0m         \u001b[0mself\u001b[0m\u001b[1;33m.\u001b[0m\u001b[0mdv\u001b[0m\u001b[1;33m.\u001b[0m\u001b[0mvectors_lockf\u001b[0m \u001b[1;33m=\u001b[0m \u001b[0mnp\u001b[0m\u001b[1;33m.\u001b[0m\u001b[0mones\u001b[0m\u001b[1;33m(\u001b[0m\u001b[1;36m1\u001b[0m\u001b[1;33m,\u001b[0m \u001b[0mdtype\u001b[0m\u001b[1;33m=\u001b[0m\u001b[0mREAL\u001b[0m\u001b[1;33m)\u001b[0m  \u001b[1;31m# 0.0 values suppress word-backprop-updates; 1.0 allows\u001b[0m\u001b[1;33m\u001b[0m\u001b[1;33m\u001b[0m\u001b[0m\n\u001b[0;32m    295\u001b[0m \u001b[1;33m\u001b[0m\u001b[0m\n\u001b[1;32m--> 296\u001b[1;33m         super(Doc2Vec, self).__init__(\n\u001b[0m\u001b[0;32m    297\u001b[0m             \u001b[0msentences\u001b[0m\u001b[1;33m=\u001b[0m\u001b[0mcorpus_iterable\u001b[0m\u001b[1;33m,\u001b[0m\u001b[1;33m\u001b[0m\u001b[1;33m\u001b[0m\u001b[0m\n\u001b[0;32m    298\u001b[0m             \u001b[0mcorpus_file\u001b[0m\u001b[1;33m=\u001b[0m\u001b[0mcorpus_file\u001b[0m\u001b[1;33m,\u001b[0m\u001b[1;33m\u001b[0m\u001b[1;33m\u001b[0m\u001b[0m\n",
      "\u001b[1;31mTypeError\u001b[0m: __init__() got an unexpected keyword argument 'size'"
     ]
    }
   ],
   "source": [
    "apsD2V = gensim.models.doc2vec.Doc2Vec(apsDF['TaggedAbstracts'], size = 100) #Limiting to 100 dimensions"
   ]
  },
  {
   "cell_type": "markdown",
   "metadata": {},
   "source": [
    "We can get vectors for the tags/documents, just as we did with words. Documents are actually the centroids (high dimensional average points) of their words. "
   ]
  },
  {
   "cell_type": "code",
   "execution_count": null,
   "metadata": {
    "scrolled": true
   },
   "outputs": [],
   "source": [
    "apsD2V.docvecs[1952]"
   ]
  },
  {
   "cell_type": "markdown",
   "metadata": {},
   "source": [
    "The words can still be accessed in the same way:"
   ]
  },
  {
   "cell_type": "code",
   "execution_count": null,
   "metadata": {},
   "outputs": [],
   "source": [
    "apsD2V['atom']"
   ]
  },
  {
   "cell_type": "markdown",
   "metadata": {},
   "source": [
    "We can still use the ``most_similar`` command to perform simple semantic equations:"
   ]
  },
  {
   "cell_type": "code",
   "execution_count": null,
   "metadata": {},
   "outputs": [],
   "source": [
    "apsD2V.most_similar(positive = ['atom','electrons'], negative = ['electron'], topn = 1)"
   ]
  },
  {
   "cell_type": "markdown",
   "metadata": {},
   "source": [
    "This is interesting. **Electron** is to **electrons** as **atom** is to **atoms**. Another way to understand this, developed below is: **electrons - electron** induces a singular to plural dimension, so when we subtract **electron** from **atom** and add **electrons**, we get **atoms**! "
   ]
  },
  {
   "cell_type": "code",
   "execution_count": null,
   "metadata": {},
   "outputs": [],
   "source": [
    "apsD2V.most_similar(positive = ['einstein','law'], negative = ['equation'], topn = 1)"
   ]
  },
  {
   "cell_type": "markdown",
   "metadata": {},
   "source": [
    "In other words **Einstein** minus **equation** plus **law** equals **Meissner**--Walthur Meissner studied mechanical engineering and physics ... and was more likely to produce a \"law\" than a \"equation\", like the Meissner effect, the damping of the magnetic field in superconductors. If we built our word-embedding with a bigger corpus like the entire arXiv, a massive repository of physics preprints, we would see many more such relationships like **gravity - Newton + Einstein = relativity**."
   ]
  },
  {
   "cell_type": "markdown",
   "metadata": {},
   "source": [
    "We can also compute all of these *by hand*--explicitly wth vector algebra: "
   ]
  },
  {
   "cell_type": "code",
   "execution_count": null,
   "metadata": {},
   "outputs": [],
   "source": [
    "sklearn.metrics.pairwise.cosine_similarity(apsD2V['electron'].reshape(1,-1), apsD2V['positron'].reshape(1,-1))\n",
    "#We reorient the vectors with .reshape(1, -1) so that they can be computed without a warning in sklearn"
   ]
  },
  {
   "cell_type": "markdown",
   "metadata": {},
   "source": [
    "In the doc2vec model, the documents have vectors just as the words do, so that we can compare documents with each other and also with words (similar to how a search engine locates a webpage with a query). First, we will calculate the distance between a word and documents in the dataset:"
   ]
  },
  {
   "cell_type": "code",
   "execution_count": null,
   "metadata": {},
   "outputs": [],
   "source": [
    "apsD2V.docvecs.most_similar([ apsD2V['electron'] ], topn=5 )"
   ]
  },
  {
   "cell_type": "markdown",
   "metadata": {},
   "source": [
    "If we search for the first of these on the web (these are doi codes), we find the following...a pretty good match:"
   ]
  },
  {
   "cell_type": "code",
   "execution_count": null,
   "metadata": {},
   "outputs": [],
   "source": [
    "from IPython.display import Image\n",
    "Image(\"../data/PhysRev.98.875.jpg\", width=1000, height=1000)"
   ]
  },
  {
   "cell_type": "markdown",
   "metadata": {},
   "source": [
    "Now let's go the other way around and find words most similar to this document:"
   ]
  },
  {
   "cell_type": "code",
   "execution_count": null,
   "metadata": {},
   "outputs": [],
   "source": [
    "apsD2V.most_similar( [ apsD2V.docvecs['10.1103/PhysRev.98.875'] ], topn=5) "
   ]
  },
  {
   "cell_type": "markdown",
   "metadata": {},
   "source": [
    "We can even look for documents most like a query composed of multiple words:"
   ]
  },
  {
   "cell_type": "code",
   "execution_count": null,
   "metadata": {},
   "outputs": [],
   "source": [
    "apsD2V.docvecs.most_similar([ apsD2V['electron']+apsD2V['positron']+apsD2V['neutron']], topn=5 )"
   ]
  },
  {
   "cell_type": "markdown",
   "metadata": {},
   "source": [
    "Now let's plot some words and documents against one another with a heatmap:"
   ]
  },
  {
   "cell_type": "code",
   "execution_count": null,
   "metadata": {},
   "outputs": [],
   "source": [
    "heatmapMatrix = []\n",
    "for tagOuter in keywords:\n",
    "    column = []\n",
    "    tagVec = apsD2V.docvecs[tagOuter].reshape(1, -1)\n",
    "    for tagInner in keywords:\n",
    "        column.append(sklearn.metrics.pairwise.cosine_similarity(tagVec, apsD2V.docvecs[tagInner].reshape(1, -1))[0][0])\n",
    "    heatmapMatrix.append(column)\n",
    "heatmapMatrix = np.array(heatmapMatrix)"
   ]
  },
  {
   "cell_type": "code",
   "execution_count": null,
   "metadata": {},
   "outputs": [],
   "source": [
    "fig, ax = plt.subplots()\n",
    "hmap = ax.pcolor(heatmapMatrix, cmap='terrain')\n",
    "cbar = plt.colorbar(hmap)\n",
    "\n",
    "cbar.set_label('cosine similarity', rotation=270)\n",
    "a = ax.set_xticks(np.arange(heatmapMatrix.shape[1]) + 0.5, minor=False)\n",
    "a = ax.set_yticks(np.arange(heatmapMatrix.shape[0]) + 0.5, minor=False)\n",
    "\n",
    "a = ax.set_xticklabels(keywords, minor=False, rotation=270)\n",
    "a = ax.set_yticklabels(keywords, minor=False)"
   ]
  },
  {
   "cell_type": "markdown",
   "metadata": {},
   "source": [
    "Now let's look at a heatmap of similarities between the first ten documents in the corpus:"
   ]
  },
  {
   "cell_type": "code",
   "execution_count": null,
   "metadata": {},
   "outputs": [],
   "source": [
    "targetDocs = apsDF['doi'][:10]\n",
    "\n",
    "heatmapMatrixD = []\n",
    "\n",
    "for tagOuter in targetDocs:\n",
    "    column = []\n",
    "    tagVec = apsD2V.docvecs[tagOuter].reshape(1, -1)\n",
    "    for tagInner in targetDocs:\n",
    "        column.append(sklearn.metrics.pairwise.cosine_similarity(tagVec, apsD2V.docvecs[tagInner].reshape(1, -1))[0][0])\n",
    "    heatmapMatrixD.append(column)\n",
    "heatmapMatrixD = np.array(heatmapMatrixD)"
   ]
  },
  {
   "cell_type": "code",
   "execution_count": null,
   "metadata": {},
   "outputs": [],
   "source": [
    "fig, ax = plt.subplots()\n",
    "hmap = ax.pcolor(heatmapMatrixD, cmap='terrain')\n",
    "cbar = plt.colorbar(hmap)\n",
    "\n",
    "cbar.set_label('cosine similarity', rotation=270)\n",
    "a = ax.set_xticks(np.arange(heatmapMatrixD.shape[1]) + 0.5, minor=False)\n",
    "a = ax.set_yticks(np.arange(heatmapMatrixD.shape[0]) + 0.5, minor=False)\n",
    "\n",
    "a = ax.set_xticklabels(targetDocs, minor=False, rotation=270)\n",
    "a = ax.set_yticklabels(targetDocs, minor=False)"
   ]
  },
  {
   "cell_type": "markdown",
   "metadata": {},
   "source": [
    "Now let's look at a heatmap of similarities between the first ten documents and our keywords:"
   ]
  },
  {
   "cell_type": "code",
   "execution_count": null,
   "metadata": {},
   "outputs": [],
   "source": [
    "heatmapMatrixC = []\n",
    "\n",
    "for tagOuter in targetDocs:\n",
    "    column = []\n",
    "    tagVec = apsD2V.docvecs[tagOuter].reshape(1, -1)\n",
    "    for tagInner in keywords:\n",
    "        column.append(sklearn.metrics.pairwise.cosine_similarity(tagVec, apsD2V.docvecs[tagInner].reshape(1, -1))[0][0])\n",
    "    heatmapMatrixC.append(column)\n",
    "heatmapMatrixC = np.array(heatmapMatrixC)"
   ]
  },
  {
   "cell_type": "code",
   "execution_count": null,
   "metadata": {},
   "outputs": [],
   "source": [
    "fig, ax = plt.subplots()\n",
    "hmap = ax.pcolor(heatmapMatrixC, cmap='terrain')\n",
    "cbar = plt.colorbar(hmap)\n",
    "\n",
    "cbar.set_label('cosine similarity', rotation=270)\n",
    "a = ax.set_xticks(np.arange(heatmapMatrixC.shape[1]) + 0.5, minor=False)\n",
    "a = ax.set_yticks(np.arange(heatmapMatrixC.shape[0]) + 0.5, minor=False)\n",
    "\n",
    "a = ax.set_xticklabels(keywords, minor=False, rotation=270)\n",
    "a = ax.set_yticklabels(targetDocs, minor=False)"
   ]
  },
  {
   "cell_type": "markdown",
   "metadata": {},
   "source": [
    "We will save the model in case we would like to use it again."
   ]
  },
  {
   "cell_type": "code",
   "execution_count": null,
   "metadata": {},
   "outputs": [],
   "source": [
    "apsD2V.save('apsW2V')"
   ]
  },
  {
   "cell_type": "markdown",
   "metadata": {},
   "source": [
    "We can later load it:"
   ]
  },
  {
   "cell_type": "code",
   "execution_count": null,
   "metadata": {},
   "outputs": [],
   "source": [
    "#apsD2V = gensim.models.word2vec.Word2Vec.load('data/apsW2V')"
   ]
  },
  {
   "cell_type": "markdown",
   "metadata": {},
   "source": [
    "## <font color=\"red\">*Exercise 2*</font>\n",
    "\n",
    "<font color=\"red\">Construct cells immediately below this that embed documents related to your final project using `doc2vec`, and explore the relationship between different documents and the word vectors you analyzed in the last exercise. Consider the most similar words to critical documents, analogies (doc _x_ + word _y_), and other additions and subtractions that reveal the structure of similarity and difference within your semantic space. What does this pattern reveal about the documentary organization of your semantic space?"
   ]
  },
  {
   "cell_type": "markdown",
   "metadata": {},
   "source": [
    "# Projection"
   ]
  },
  {
   "cell_type": "markdown",
   "metadata": {},
   "source": [
    "We can also project word vectors to an arbitray semantic dimension. To demonstrate this possibility, let's first load a model trained with New York Times news articles. "
   ]
  },
  {
   "cell_type": "code",
   "execution_count": null,
   "metadata": {},
   "outputs": [],
   "source": [
    "nytimes_model = gensim.models.KeyedVectors.load_word2vec_format('../data/nytimes_cbow.reduced.txt')"
   ]
  },
  {
   "cell_type": "markdown",
   "metadata": {},
   "source": [
    "First we can visualize with dimension reduction"
   ]
  },
  {
   "cell_type": "code",
   "execution_count": null,
   "metadata": {},
   "outputs": [],
   "source": [
    "#words to create dimensions\n",
    "tnytTargetWords = ['man','him','he', 'woman', 'her', 'she', 'black','blacks','African', 'white', 'whites', 'Caucasian', 'rich', 'richer', 'richest', 'expensive', 'wealthy', 'poor', 'poorer', 'poorest', 'cheap', 'inexpensive']\n",
    "#words we will be mapping\n",
    "tnytTargetWords += [\"doctor\",\"lawyer\",\"plumber\",\"scientist\",\"hairdresser\", \"nanny\",\"carpenter\",\"entrepreneur\",\"musician\",\"writer\", \"banker\",\"poet\",\"nurse\", \"steak\", \"bacon\", \"croissant\", \"cheesecake\", \"salad\", \"cheeseburger\", \"vegetables\", \"beer\", \"wine\", \"pastry\", \"basketball\", \"baseball\", \"boxing\", \"softball\", \"volleyball\", \"tennis\", \"golf\", \"hockey\", \"soccer\"]\n",
    "\n",
    "\n",
    "wordsSubMatrix = []\n",
    "for word in tnytTargetWords:\n",
    "    wordsSubMatrix.append(nytimes_model[word])\n",
    "wordsSubMatrix = np.array(wordsSubMatrix)\n",
    "#wordsSubMatrix"
   ]
  },
  {
   "cell_type": "code",
   "execution_count": null,
   "metadata": {},
   "outputs": [],
   "source": [
    "pcaWordsNYT = sklearn.decomposition.PCA(n_components = 50).fit(wordsSubMatrix)\n",
    "reducedPCA_dataNYT = pcaWordsNYT.transform(wordsSubMatrix)\n",
    "#T-SNE is theoretically better, but you should experiment\n",
    "tsneWordsNYT = sklearn.manifold.TSNE(n_components = 2).fit_transform(reducedPCA_dataNYT)"
   ]
  },
  {
   "cell_type": "code",
   "execution_count": null,
   "metadata": {},
   "outputs": [],
   "source": [
    "fig = plt.figure(figsize = (20,12))\n",
    "ax = fig.add_subplot(111)\n",
    "ax.set_frame_on(False)\n",
    "plt.scatter(tsneWordsNYT[:, 0], tsneWordsNYT[:, 1], alpha = 0) #Making the points invisible\n",
    "for i, word in enumerate(tnytTargetWords):\n",
    "    ax.annotate(word, (tsneWordsNYT[:, 0][i],tsneWordsNYT[:, 1][i]), size =  50 * (len(tnytTargetWords) - i) / len(tnytTargetWords))\n",
    "plt.xticks(())\n",
    "plt.yticks(())\n",
    "plt.show()"
   ]
  },
  {
   "cell_type": "markdown",
   "metadata": {},
   "source": [
    "Define some convenient functions for getting dimensions. "
   ]
  },
  {
   "cell_type": "code",
   "execution_count": null,
   "metadata": {},
   "outputs": [],
   "source": [
    "def normalize(vector):\n",
    "    normalized_vector = vector / np.linalg.norm(vector)\n",
    "    return normalized_vector\n",
    "\n",
    "def dimension(model, positives, negatives):\n",
    "    diff = sum([normalize(model[x]) for x in positives]) - sum([normalize(model[y]) for y in negatives])\n",
    "    return diff"
   ]
  },
  {
   "cell_type": "markdown",
   "metadata": {},
   "source": [
    "Let's calculate three dimensions: gender, race, and class."
   ]
  },
  {
   "cell_type": "code",
   "execution_count": null,
   "metadata": {},
   "outputs": [],
   "source": [
    "Gender = dimension(nytimes_model, ['man','him','he'], ['woman', 'her', 'she'])\n",
    "Race = dimension(nytimes_model, ['black','blacks','African'], ['white', 'whites', 'Caucasian'])\n",
    "Class = dimension(nytimes_model, ['rich', 'richer', 'richest', 'expensive', 'wealthy'], ['poor', 'poorer', 'poorest', 'cheap', 'inexpensive'])"
   ]
  },
  {
   "cell_type": "markdown",
   "metadata": {},
   "source": [
    "Here we have some words."
   ]
  },
  {
   "cell_type": "code",
   "execution_count": null,
   "metadata": {},
   "outputs": [],
   "source": [
    "Occupations = [\"doctor\",\"lawyer\",\"plumber\",\"scientist\",\"hairdresser\", \"nanny\",\"carpenter\",\"entrepreneur\",\"musician\",\"writer\", \"banker\",\"poet\",\"nurse\"]\n",
    "\n",
    "Foods = [\"steak\", \"bacon\", \"croissant\", \"cheesecake\", \"salad\", \"cheeseburger\", \"vegetables\", \"beer\", \"wine\", \"pastry\"]\n",
    "\n",
    "Sports  = [\"basketball\", \"baseball\", \"boxing\", \"softball\", \"volleyball\", \"tennis\", \"golf\", \"hockey\", \"soccer\"]"
   ]
  },
  {
   "cell_type": "markdown",
   "metadata": {},
   "source": [
    "Define a function to project words in a word list to each of the three dimensions."
   ]
  },
  {
   "cell_type": "code",
   "execution_count": null,
   "metadata": {},
   "outputs": [],
   "source": [
    "def makeDF(model, word_list):\n",
    "    g = []\n",
    "    r = []\n",
    "    c = []\n",
    "    for word in word_list:\n",
    "        g.append(sklearn.metrics.pairwise.cosine_similarity(nytimes_model[word].reshape(1,-1), Gender.reshape(1,-1))[0][0])\n",
    "        r.append(sklearn.metrics.pairwise.cosine_similarity(nytimes_model[word].reshape(1,-1), Race.reshape(1,-1))[0][0])\n",
    "        c.append(sklearn.metrics.pairwise.cosine_similarity(nytimes_model[word].reshape(1,-1), Class.reshape(1,-1))[0][0])\n",
    "    df = pd.DataFrame({'gender': g, 'race': r, 'class': c}, index = word_list)\n",
    "    return df"
   ]
  },
  {
   "cell_type": "markdown",
   "metadata": {},
   "source": [
    "Get the projections."
   ]
  },
  {
   "cell_type": "code",
   "execution_count": null,
   "metadata": {},
   "outputs": [],
   "source": [
    "OCCdf = makeDF(nytimes_model, Occupations) \n",
    "Fooddf = makeDF(nytimes_model, Foods)\n",
    "Sportsdf = makeDF(nytimes_model, Sports)"
   ]
  },
  {
   "cell_type": "markdown",
   "metadata": {},
   "source": [
    "Define some useful functions for plotting."
   ]
  },
  {
   "cell_type": "code",
   "execution_count": null,
   "metadata": {},
   "outputs": [],
   "source": [
    "def Coloring(Series):\n",
    "    x = Series.values\n",
    "    y = x-x.min()\n",
    "    z = y/y.max()\n",
    "    c = list(plt.cm.rainbow(z))\n",
    "    return c\n",
    "\n",
    "def PlotDimension(ax,df, dim):\n",
    "    ax.set_frame_on(False)\n",
    "    ax.set_title(dim, fontsize = 20)\n",
    "    colors = Coloring(df[dim])\n",
    "    for i, word in enumerate(df.index):\n",
    "        ax.annotate(word, (0, df[dim][i]), color = colors[i], alpha = 0.6, fontsize = 12)\n",
    "    MaxY = df[dim].max()\n",
    "    MinY = df[dim].min()\n",
    "    plt.ylim(MinY,MaxY)\n",
    "    plt.yticks(())\n",
    "    plt.xticks(())"
   ]
  },
  {
   "cell_type": "markdown",
   "metadata": {},
   "source": [
    "Plot the occupational words in each of the three dimensions."
   ]
  },
  {
   "cell_type": "code",
   "execution_count": null,
   "metadata": {
    "scrolled": true
   },
   "outputs": [],
   "source": [
    "fig = plt.figure(figsize = (12,4))\n",
    "ax1 = fig.add_subplot(131)\n",
    "PlotDimension(ax1, OCCdf, 'gender')\n",
    "ax2 = fig.add_subplot(132)\n",
    "PlotDimension(ax2, OCCdf, 'race')\n",
    "ax3 = fig.add_subplot(133)\n",
    "PlotDimension(ax3, OCCdf, 'class')\n",
    "plt.show()"
   ]
  },
  {
   "cell_type": "markdown",
   "metadata": {},
   "source": [
    "Foods:"
   ]
  },
  {
   "cell_type": "code",
   "execution_count": null,
   "metadata": {},
   "outputs": [],
   "source": [
    "fig = plt.figure(figsize = (12,4))\n",
    "ax1 = fig.add_subplot(131)\n",
    "PlotDimension(ax1, Fooddf, 'gender')\n",
    "ax2 = fig.add_subplot(132)\n",
    "PlotDimension(ax2, Fooddf, 'race')\n",
    "ax3 = fig.add_subplot(133)\n",
    "PlotDimension(ax3, Fooddf, 'class')\n",
    "plt.show()"
   ]
  },
  {
   "cell_type": "markdown",
   "metadata": {},
   "source": [
    "Sports:"
   ]
  },
  {
   "cell_type": "code",
   "execution_count": null,
   "metadata": {},
   "outputs": [],
   "source": [
    "fig = plt.figure(figsize = (12,4))\n",
    "ax1 = fig.add_subplot(131)\n",
    "PlotDimension(ax1, Sportsdf, 'gender')\n",
    "ax2 = fig.add_subplot(132)\n",
    "PlotDimension(ax2, Sportsdf, 'race')\n",
    "ax3 = fig.add_subplot(133)\n",
    "PlotDimension(ax3, Sportsdf, 'class')\n",
    "plt.show()"
   ]
  },
  {
   "cell_type": "markdown",
   "metadata": {},
   "source": [
    "## <font color=\"red\">*Exercise 3*</font>\n",
    "\n",
    "<font color=\"red\">Construct cells immediately below this that embed documents related to your final project, then generate meaningful semantic dimensions based on your theoretical understanding of the semantic space (i.e., by subtracting semantically opposite word vectors) and project another set of word vectors onto those dimensions. Interpret the meaning of these projections for your analysis. Which of the dimensions you analyze explain the most variation in the projection of your words and why? \n",
    "\n",
    "<font color=\"red\">***Stretch***: Average together multiple antonym pairs to create robust semantic dimensions. How do word projections on these robust dimensions differ from single-pair dimensions?"
   ]
  },
  {
   "cell_type": "markdown",
   "metadata": {},
   "source": [
    "# The Score Function\n",
    "\n",
    "The score function is a simple calculation developed by [Matt Taddy](https://arxiv.org/pdf/1504.07295.pdf) to calculate the likelihood that a given text would have been generated by a word-embedding model by summing the inner product between each pair of the text's word vectors. This relies on a few data files that are not in the git repo due to their size please download and unzip [this](https://github.com/Computational-Content-Analysis-2018/Upcoming/raw/master/data/supplement.zip) (472MB) file in the data directory.\n",
    "\n",
    "Here, we explore this using a model trained with millions of resumes from the CareerBuilder website (we can't share the private resumes...but we can share a model built with them :-):"
   ]
  },
  {
   "cell_type": "code",
   "execution_count": null,
   "metadata": {},
   "outputs": [],
   "source": [
    "resume_model  = gensim.models.word2vec.Word2Vec.load('../data/resumeAll.model')"
   ]
  },
  {
   "cell_type": "markdown",
   "metadata": {},
   "source": [
    "We can examine the vacabularies of this model by building a word-index map:"
   ]
  },
  {
   "cell_type": "code",
   "execution_count": null,
   "metadata": {},
   "outputs": [],
   "source": [
    "vocab = resume_model.wv.index2word"
   ]
  },
  {
   "cell_type": "markdown",
   "metadata": {},
   "source": [
    "Let's just load the sample and take a look at it. The sentences in each job description are already tokenized and normalized."
   ]
  },
  {
   "cell_type": "code",
   "execution_count": null,
   "metadata": {},
   "outputs": [],
   "source": [
    "sampleDF = pd.read_csv('../data/SampleJobAds.csv', index_col = False)\n",
    "#We need to convert the last couple columns from strings to lists\n",
    "sampleDF['tokenized_sents'] = sampleDF['tokenized_sents'].apply(lambda x: eval(x))\n",
    "sampleDF['normalized_sents'] = sampleDF['normalized_sents'].apply(lambda x: eval(x))\n",
    "sampleDF"
   ]
  },
  {
   "cell_type": "markdown",
   "metadata": {},
   "source": [
    "Let's define a function to calculate the likelihood of each job description. The idea is borrowed from [Matt Taddy](https://github.com/RaRe-Technologies/gensim/blob/develop/docs/notebooks/deepir.ipynb), who shows how a document can be characterized as the inner product of the distance between its words. In other words, this analysis will show which job ads are most likely to find an appropriate pool of workers in the resume bank that generated our word embedding.  "
   ]
  },
  {
   "cell_type": "code",
   "execution_count": null,
   "metadata": {},
   "outputs": [],
   "source": [
    "def adprob(ad, model):\n",
    "    sen_scores = model.score(ad, len(ad))\n",
    "    ad_score = sen_scores.mean()\n",
    "    return ad_score"
   ]
  },
  {
   "cell_type": "markdown",
   "metadata": {},
   "source": [
    "Let's apply this function to every job description."
   ]
  },
  {
   "cell_type": "code",
   "execution_count": null,
   "metadata": {},
   "outputs": [],
   "source": [
    "sampleDF['likelihood'] = sampleDF['normalized_sents'].apply(lambda x: adprob(x, resume_model))"
   ]
  },
  {
   "cell_type": "markdown",
   "metadata": {},
   "source": [
    "Let's take a look at the top 5 job descriptions that have the highest likelihood."
   ]
  },
  {
   "cell_type": "code",
   "execution_count": null,
   "metadata": {},
   "outputs": [],
   "source": [
    "for ad in sampleDF.sort_values(by = 'likelihood', ascending = False)['jobDescription'][:5]:\n",
    "    print (ad + '\\n\\n')"
   ]
  },
  {
   "cell_type": "markdown",
   "metadata": {},
   "source": [
    "Let's take a look at the bottom 5 job descriptions that have the lowest likelihood to be matched by the resumes."
   ]
  },
  {
   "cell_type": "code",
   "execution_count": null,
   "metadata": {},
   "outputs": [],
   "source": [
    "for ad in sampleDF.sort_values(by = 'likelihood')['jobDescription'][:5]:\n",
    "    print (ad + '\\n\\n')"
   ]
  },
  {
   "cell_type": "markdown",
   "metadata": {},
   "source": [
    "We can do the same for phrases corresponding to job skills."
   ]
  },
  {
   "cell_type": "code",
   "execution_count": null,
   "metadata": {},
   "outputs": [],
   "source": [
    "adprob([[\"python\", \"programming\"]], resume_model)"
   ]
  },
  {
   "cell_type": "code",
   "execution_count": null,
   "metadata": {},
   "outputs": [],
   "source": [
    "adprob([[\"julia\", \"programming\"]], resume_model)"
   ]
  },
  {
   "cell_type": "markdown",
   "metadata": {},
   "source": [
    "Basic programming appears to be more likely in this pool of resumes than python programming. \n",
    "\n",
    "We can also do some simple statistics. Unfortunately, we don't have a large sample here. Nevertheless, let's first look at the mean likelihood score of each hiring organization. Some organizations will do well to hire on CareerBuilder...while others will not."
   ]
  },
  {
   "cell_type": "code",
   "execution_count": null,
   "metadata": {},
   "outputs": [],
   "source": [
    "sampleDF.groupby(\"hiringOrganization_organizationName\")[['likelihood']].mean().sort_values('likelihood', ascending = False)"
   ]
  },
  {
   "cell_type": "markdown",
   "metadata": {},
   "source": [
    "We can also look at the mean likelihood of each state."
   ]
  },
  {
   "cell_type": "code",
   "execution_count": null,
   "metadata": {},
   "outputs": [],
   "source": [
    "sampleDF.groupby(\"jobLocation_address_region\")[['likelihood']].mean().sort_values('likelihood', ascending = False)"
   ]
  },
  {
   "cell_type": "markdown",
   "metadata": {},
   "source": [
    "You would increase the sample size if you want to do a more serious study.\n",
    "\n",
    "## <font color=\"red\">*Exercise 4a*</font>\n",
    "\n",
    "<font color=\"red\">**Do only 4a or 4b.** Construct cells immediately below this that calculate the scores for a small sample of documents from outside your corpus to identify which are *closest* to your corpus. Then calculate the scores for a few phrases or sentences to identify the ones most likely to have appeared in your corpus. Interrogate patterns associated with these document/phrase scores (e.g., which companies produced job ads most or least likely to find jobseekers in the resume corpus?) What do these patterns suggest about the boundaries of your corpus?"
   ]
  },
  {
   "cell_type": "markdown",
   "metadata": {},
   "source": [
    "# Linguistic Change or Difference\n",
    "\n",
    "Below is code that aligns the dimensions of multiple embeddings arrayed over time or some other dimension and allow identification of semantic chanage as the word vectors change their loadings for focal words. This code comes from the approach piloted at Stanford by William Hamilton, Daniel Jurafsky and Jure Lescovec [here](https://arxiv.org/pdf/1605.09096.pdf). "
   ]
  },
  {
   "cell_type": "code",
   "execution_count": null,
   "metadata": {},
   "outputs": [],
   "source": [
    "import copy"
   ]
  },
  {
   "cell_type": "code",
   "execution_count": null,
   "metadata": {},
   "outputs": [],
   "source": [
    "def calc_syn0norm(model):\n",
    "    \"\"\"since syn0norm is now depricated\"\"\"\n",
    "    return (model.wv.syn0 / np.sqrt((model.wv.syn0 ** 2).sum(-1))[..., np.newaxis]).astype(np.float32)\n",
    "\n",
    "def smart_procrustes_align_gensim(base_embed, other_embed, words=None):\n",
    "    \"\"\"Procrustes align two gensim word2vec models (to allow for comparison between same word across models).\n",
    "    Code ported from HistWords <https://github.com/williamleif/histwords> by William Hamilton <wleif@stanford.edu>.\n",
    "    (With help from William. Thank you!)\n",
    "    First, intersect the vocabularies (see `intersection_align_gensim` documentation).\n",
    "    Then do the alignment on the other_embed model.\n",
    "    Replace the other_embed model's syn0 and syn0norm numpy matrices with the aligned version.\n",
    "    Return other_embed.\n",
    "    If `words` is set, intersect the two models' vocabulary with the vocabulary in words (see `intersection_align_gensim` documentation).\n",
    "    \"\"\"\n",
    "    base_embed = copy.copy(base_embed)\n",
    "    other_embed = copy.copy(other_embed)\n",
    "    # make sure vocabulary and indices are aligned\n",
    "    in_base_embed, in_other_embed = intersection_align_gensim(base_embed, other_embed, words=words)\n",
    "\n",
    "    # get the embedding matrices\n",
    "    base_vecs = calc_syn0norm(in_base_embed)\n",
    "    other_vecs = calc_syn0norm(in_other_embed)\n",
    "\n",
    "    # just a matrix dot product with numpy\n",
    "    m = other_vecs.T.dot(base_vecs) \n",
    "    # SVD method from numpy\n",
    "    u, _, v = np.linalg.svd(m)\n",
    "    # another matrix operation\n",
    "    ortho = u.dot(v) \n",
    "    # Replace original array with modified one\n",
    "    # i.e. multiplying the embedding matrix (syn0norm)by \"ortho\"\n",
    "    other_embed.wv.syn0norm = other_embed.wv.syn0 = (calc_syn0norm(other_embed)).dot(ortho)\n",
    "    return other_embed\n",
    "    \n",
    "def intersection_align_gensim(m1,m2, words=None):\n",
    "    \"\"\"\n",
    "    Intersect two gensim word2vec models, m1 and m2.\n",
    "    Only the shared vocabulary between them is kept.\n",
    "    If 'words' is set (as list or set), then the vocabulary is intersected with this list as well.\n",
    "    Indices are re-organized from 0..N in order of descending frequency (=sum of counts from both m1 and m2).\n",
    "    These indices correspond to the new syn0 and syn0norm objects in both gensim models:\n",
    "        -- so that Row 0 of m1.syn0 will be for the same word as Row 0 of m2.syn0\n",
    "        -- you can find the index of any word on the .index2word list: model.index2word.index(word) => 2\n",
    "    The .vocab dictionary is also updated for each model, preserving the count but updating the index.\n",
    "    \"\"\"\n",
    "\n",
    "    # Get the vocab for each model\n",
    "    vocab_m1 = set(m1.wv.vocab.keys())\n",
    "    vocab_m2 = set(m2.wv.vocab.keys())\n",
    "\n",
    "    # Find the common vocabulary\n",
    "    common_vocab = vocab_m1&vocab_m2\n",
    "    if words: common_vocab&=set(words)\n",
    "\n",
    "    # If no alignment necessary because vocab is identical...\n",
    "    if not vocab_m1-common_vocab and not vocab_m2-common_vocab:\n",
    "        return (m1,m2)\n",
    "\n",
    "    # Otherwise sort by frequency (summed for both)\n",
    "    common_vocab = list(common_vocab)\n",
    "    common_vocab.sort(key=lambda w: m1.wv.vocab[w].count + m2.wv.vocab[w].count,reverse=True)\n",
    "\n",
    "    # Then for each model...\n",
    "    for m in [m1,m2]:\n",
    "        # Replace old syn0norm array with new one (with common vocab)\n",
    "        indices = [m.wv.vocab[w].index for w in common_vocab]\n",
    "        old_arr = calc_syn0norm(m)\n",
    "        new_arr = np.array([old_arr[index] for index in indices])\n",
    "        m.wv.syn0norm = m.wv.syn0 = new_arr\n",
    "\n",
    "        # Replace old vocab dictionary with new one (with common vocab)\n",
    "        # and old index2word with new one\n",
    "        m.index2word = common_vocab\n",
    "        old_vocab = m.wv.vocab\n",
    "        new_vocab = {}\n",
    "        for new_index,word in enumerate(common_vocab):\n",
    "            old_vocab_obj=old_vocab[word]\n",
    "            new_vocab[word] = gensim.models.word2vec.Vocab(index=new_index, count=old_vocab_obj.count)\n",
    "        m.wv.vocab = new_vocab\n",
    "\n",
    "    return (m1,m2)"
   ]
  },
  {
   "cell_type": "markdown",
   "metadata": {},
   "source": [
    "In order to explore this, let's get some data that follows a time trend. We'll look at conference proceedings from the American Society for Clinical Oncologists."
   ]
  },
  {
   "cell_type": "code",
   "execution_count": null,
   "metadata": {},
   "outputs": [],
   "source": [
    "ascoDF = pd.read_csv(\"../data/ASCO_abstracts.csv\", index_col=0)"
   ]
  },
  {
   "cell_type": "markdown",
   "metadata": {},
   "source": [
    "Prepare for wor2vec:"
   ]
  },
  {
   "cell_type": "code",
   "execution_count": null,
   "metadata": {},
   "outputs": [],
   "source": [
    "ascoDF['tokenized_sents'] = ascoDF['Body'].apply(lambda x: [lucem_illud.word_tokenize(s) for s in lucem_illud.sent_tokenize(x)])\n",
    "ascoDF['normalized_sents'] = ascoDF['tokenized_sents'].apply(lambda x: [lucem_illud.normalizeTokens(s) for s in x])"
   ]
  },
  {
   "cell_type": "code",
   "execution_count": null,
   "metadata": {},
   "outputs": [],
   "source": [
    "ascoDF"
   ]
  },
  {
   "cell_type": "markdown",
   "metadata": {},
   "source": [
    "We will be creating many embeddings so we have created this function to do most of the work. It creates two collections of embeddings, one the original and one the aligned."
   ]
  },
  {
   "cell_type": "code",
   "execution_count": null,
   "metadata": {},
   "outputs": [],
   "source": [
    "def compareModels(df, category, text_column_name='normalized_sents', sort = True, embeddings_raw={}):\n",
    "    \"\"\"If you are using time as your category sorting is important\"\"\"\n",
    "    if len(embeddings_raw) == 0:\n",
    "        embeddings_raw = rawModels(df, category, text_column_name, sort)\n",
    "    cats = sorted(set(df[category]))\n",
    "    #These are much quicker\n",
    "    embeddings_aligned = {}\n",
    "    for catOuter in cats:\n",
    "        embeddings_aligned[catOuter] = [embeddings_raw[catOuter]]\n",
    "        for catInner in cats:\n",
    "            embeddings_aligned[catOuter].append(smart_procrustes_align_gensim(embeddings_aligned[catOuter][-1], embeddings_raw[catInner]))\n",
    "    return embeddings_raw, embeddings_aligned"
   ]
  },
  {
   "cell_type": "code",
   "execution_count": null,
   "metadata": {},
   "outputs": [],
   "source": [
    "def rawModels(df, category, text_column_name='normalized_sents', sort = True):\n",
    "    embeddings_raw = {}\n",
    "    cats = sorted(set(df[category]))\n",
    "    for cat in cats:\n",
    "        #This can take a while\n",
    "        print(\"Embedding {}\".format(cat), end = '\\r')\n",
    "        subsetDF = df[df[category] == cat]\n",
    "        #You might want to change the W2V parameters\n",
    "        embeddings_raw[cat] = gensim.models.word2vec.Word2Vec(subsetDF[text_column_name].sum())\n",
    "    return embeddings_raw"
   ]
  },
  {
   "cell_type": "markdown",
   "metadata": {},
   "source": [
    "Now we generate the models:"
   ]
  },
  {
   "cell_type": "code",
   "execution_count": null,
   "metadata": {},
   "outputs": [],
   "source": [
    "rawEmbeddings, comparedEmbeddings = compareModels(ascoDF, 'Year')"
   ]
  },
  {
   "cell_type": "code",
   "execution_count": null,
   "metadata": {},
   "outputs": [],
   "source": [
    "rawEmbeddings.keys()"
   ]
  },
  {
   "cell_type": "markdown",
   "metadata": {},
   "source": [
    "We need to compare them across all permutions so we will define another function to help, we will be using 1 - cosine similarity as that gives a more intitive range of 0-2 with low values meaning little change and high meaning lots of change."
   ]
  },
  {
   "cell_type": "code",
   "execution_count": null,
   "metadata": {},
   "outputs": [],
   "source": [
    "def getDivergenceDF(word, embeddingsDict):\n",
    "    dists = []\n",
    "    cats = sorted(set(embeddingsDict.keys()))\n",
    "    dists = {}\n",
    "    print(word)\n",
    "    for cat in cats:\n",
    "        dists[cat] = []\n",
    "        for embed in embeddingsDict[cat][1:]:\n",
    "            dists[cat].append(np.abs(1 - sklearn.metrics.pairwise.cosine_similarity(np.expand_dims(embeddingsDict[cat][0][word], axis = 0),\n",
    "                                                                             np.expand_dims(embed[word], axis = 0))[0,0]))\n",
    "    return pd.DataFrame(dists, index = cats)"
   ]
  },
  {
   "cell_type": "markdown",
   "metadata": {},
   "source": [
    "Lets look at a couple words:"
   ]
  },
  {
   "cell_type": "code",
   "execution_count": null,
   "metadata": {},
   "outputs": [],
   "source": [
    "targetWord = 'breast'\n",
    "\n",
    "pltDF = getDivergenceDF(targetWord, comparedEmbeddings)\n",
    "fig, ax = plt.subplots(figsize = (10, 7))\n",
    "seaborn.heatmap(pltDF, ax = ax, annot = False) #set annot True for a lot more information\n",
    "ax.set_xlabel(\"Starting year\")\n",
    "ax.set_ylabel(\"Final year\")\n",
    "ax.set_ylabel(\"Final year\")\n",
    "ax.set_title(\"Yearly linguistic change for: '{}'\".format(targetWord))\n",
    "plt.show()"
   ]
  },
  {
   "cell_type": "code",
   "execution_count": null,
   "metadata": {},
   "outputs": [],
   "source": [
    "targetWord = 'combination'\n",
    "\n",
    "pltDF = getDivergenceDF(targetWord, comparedEmbeddings)\n",
    "fig, ax = plt.subplots(figsize = (10, 7))\n",
    "seaborn.heatmap(pltDF, ax = ax, annot = False) #set annot True for a lot more information\n",
    "ax.set_xlabel(\"Starting year\")\n",
    "ax.set_ylabel(\"Final year\")\n",
    "ax.set_ylabel(\"Final year\")\n",
    "ax.set_title(\"Yearly linguistic change for: '{}'\".format(targetWord))\n",
    "plt.show()"
   ]
  },
  {
   "cell_type": "code",
   "execution_count": null,
   "metadata": {},
   "outputs": [],
   "source": [
    "def findDiverence(word, embeddingsDict):\n",
    "    cats = sorted(set(embeddingsDict.keys()))\n",
    "    \n",
    "    dists = []\n",
    "    for embed in embeddingsDict[cats[0]][1:]:\n",
    "        dists.append(1 - sklearn.metrics.pairwise.cosine_similarity(np.expand_dims(embeddingsDict[cats[0]][0][word], axis = 0), np.expand_dims(embed[word], axis = 0))[0,0])\n",
    "    return sum(dists)\n",
    "\n",
    "def findMostDivergent(embeddingsDict):\n",
    "    words = []\n",
    "    for embeds in embeddingsDict.values():\n",
    "        for embed in embeds:\n",
    "            words += list(embed.wv.vocab.keys())\n",
    "    words = set(words)\n",
    "    print(\"Found {} words to compare\".format(len(words)))\n",
    "    return sorted([(w, findDiverence(w, embeddingsDict)) for w in words], key = lambda x: x[1], reverse=True)\n",
    "    "
   ]
  },
  {
   "cell_type": "code",
   "execution_count": null,
   "metadata": {},
   "outputs": [],
   "source": [
    "wordDivergences = findMostDivergent(comparedEmbeddings)"
   ]
  },
  {
   "cell_type": "markdown",
   "metadata": {},
   "source": [
    "The most divergent words are:"
   ]
  },
  {
   "cell_type": "code",
   "execution_count": null,
   "metadata": {},
   "outputs": [],
   "source": [
    "wordDivergences[:20]"
   ]
  },
  {
   "cell_type": "markdown",
   "metadata": {},
   "source": [
    "And the least:"
   ]
  },
  {
   "cell_type": "code",
   "execution_count": null,
   "metadata": {},
   "outputs": [],
   "source": [
    "wordDivergences[-20:]"
   ]
  },
  {
   "cell_type": "code",
   "execution_count": null,
   "metadata": {},
   "outputs": [],
   "source": [
    "targetWord = wordDivergences[0][0]\n",
    "\n",
    "pltDF = getDivergenceDF(targetWord, comparedEmbeddings)\n",
    "fig, ax = plt.subplots(figsize = (10, 7))\n",
    "seaborn.heatmap(pltDF, ax = ax, annot = False) #set annot True for a lot more information\n",
    "ax.set_xlabel(\"Starting year\")\n",
    "ax.set_ylabel(\"Final year\")\n",
    "ax.set_ylabel(\"Final year\")\n",
    "ax.set_title(\"Yearly linguistic change for: '{}'\".format(targetWord))\n",
    "plt.show()"
   ]
  },
  {
   "cell_type": "code",
   "execution_count": null,
   "metadata": {},
   "outputs": [],
   "source": [
    "targetWord = wordDivergences[-1][0]\n",
    "\n",
    "pltDF = getDivergenceDF(targetWord, comparedEmbeddings)\n",
    "fig, ax = plt.subplots(figsize = (10, 7))\n",
    "seaborn.heatmap(pltDF, ax = ax, annot = False) #set annot True for a lot more information\n",
    "ax.set_xlabel(\"Starting year\")\n",
    "ax.set_ylabel(\"Final year\")\n",
    "ax.set_ylabel(\"Final year\")\n",
    "ax.set_title(\"Yearly linguistic change for: '{}'\".format(targetWord))\n",
    "plt.show()"
   ]
  },
  {
   "cell_type": "markdown",
   "metadata": {},
   "source": [
    "## COHA\n",
    "\n",
    "COHA is a historial dataset so it ends up being a good choice to try the same analysis we just did across three different time periods.\n",
    "\n",
    "We will be using the same data loading procedure as the last notebook, so go through the process to make sure you know what's going on."
   ]
  },
  {
   "cell_type": "code",
   "execution_count": null,
   "metadata": {},
   "outputs": [],
   "source": [
    "corpora_address = \"/Users/bhargavvader/Downloads/Academics_Tech/corpora/COHA\""
   ]
  },
  {
   "cell_type": "code",
   "execution_count": null,
   "metadata": {},
   "outputs": [],
   "source": [
    "coha_texts = lucem_illud.loadDavies(corpora_address, return_raw=True)"
   ]
  },
  {
   "cell_type": "markdown",
   "metadata": {},
   "source": [
    "Cool - let us now create our different epochs. This is an important step: I will be using the same 5 epochs I did in the DTM example, but you are recommended to play around with this. I will create a dataframe which logs the year and the genre."
   ]
  },
  {
   "cell_type": "code",
   "execution_count": null,
   "metadata": {},
   "outputs": [],
   "source": [
    "coha_df = pd.DataFrame(columns=[\"Year\", \"Genre\", \"Epoch\", \"normalized sents\"])"
   ]
  },
  {
   "cell_type": "code",
   "execution_count": null,
   "metadata": {},
   "outputs": [],
   "source": [
    "for article in coha_texts:\n",
    "    genre, year, id_ = article.split(\"_\")\n",
    "\n",
    "    year = int(year)\n",
    "    \n",
    "    if year > 1810 and year < 1880:\n",
    "        epoch = 0\n",
    "    if year >= 1880 and year < 1913:\n",
    "        epoch = 1\n",
    "    if year >= 1913 and year < 1950:\n",
    "        epoch = 2\n",
    "    if year >= 1950 and year < 1990:\n",
    "        epoch = 3\n",
    "    if year >= 1990:\n",
    "        epoch = 4\n",
    "    \n",
    "    try:\n",
    "        if len(coha_texts[article][2]) < 1500000:\n",
    "            coha_df.loc[id_] = [year, genre, epoch, lucem_illud.normalizeTokens(coha_texts[article][2].decode(\"utf-8\"), lemma=False)]\n",
    "    except TypeError:\n",
    "        continue\n",
    "    except IndexError:\n",
    "        continue"
   ]
  },
  {
   "cell_type": "markdown",
   "metadata": {},
   "source": [
    "We can now arrange our word embeddings by either year, genre, or epoch, and see how the words in each of those contexts change."
   ]
  },
  {
   "cell_type": "code",
   "execution_count": null,
   "metadata": {},
   "outputs": [],
   "source": [
    "rawEmbeddings_epoch = rawModels(coha_df, 'Epoch', text_column_name='normalized sents')"
   ]
  },
  {
   "cell_type": "code",
   "execution_count": null,
   "metadata": {},
   "outputs": [],
   "source": [
    "# rawEmbeddings_genre = rawModels(coha_df, 'Genre', text_column_name='normalized sents')"
   ]
  },
  {
   "cell_type": "markdown",
   "metadata": {},
   "source": [
    "We now have the raw embeddings for epoch and genre. You can test out the previous analysis on words of your choice."
   ]
  },
  {
   "cell_type": "code",
   "execution_count": null,
   "metadata": {},
   "outputs": [],
   "source": [
    "for epoch, embedding in enumerate(rawEmbeddings_epoch):\n",
    "    model = rawEmbeddings_epoch[embedding]\n",
    "    name = \"embedding_epoch_\" + str(epoch)\n",
    "    model.save(name)"
   ]
  },
  {
   "cell_type": "code",
   "execution_count": null,
   "metadata": {},
   "outputs": [],
   "source": [
    "# for embedding in rawEmbeddings_genre:\n",
    "#     model = rawEmbeddings_genre[embedding]\n",
    "#     name = \"embedding_genre_\" + embedding\n",
    "#     model.save(name)"
   ]
  },
  {
   "cell_type": "code",
   "execution_count": null,
   "metadata": {},
   "outputs": [],
   "source": [
    "from gensim.models import Word2Vec"
   ]
  },
  {
   "cell_type": "code",
   "execution_count": null,
   "metadata": {},
   "outputs": [],
   "source": [
    "def file_to_embeddings(address, kind):\n",
    "    rawEmbeddings = {}\n",
    "    for file in os.listdir(address):\n",
    "        if \"embedding_\"+kind in file:\n",
    "            e, kind_, kind_type = file.split(\"_\")\n",
    "            kind_type = eval(kind_type)\n",
    "            rawEmbeddings[kind_type] = Word2Vec.load(file)\n",
    "    return rawEmbeddings"
   ]
  },
  {
   "cell_type": "code",
   "execution_count": null,
   "metadata": {},
   "outputs": [],
   "source": [
    "# rawEmbeddings_genre_load = file_to_embeddings(\".\", \"genre\")"
   ]
  },
  {
   "cell_type": "code",
   "execution_count": null,
   "metadata": {},
   "outputs": [],
   "source": [
    "rawEmbeddings_epoch_load = file_to_embeddings(\".\", \"epoch\")"
   ]
  },
  {
   "cell_type": "code",
   "execution_count": null,
   "metadata": {},
   "outputs": [],
   "source": [
    "rawEmbeddings_epoch_load.keys()"
   ]
  },
  {
   "cell_type": "code",
   "execution_count": null,
   "metadata": {},
   "outputs": [],
   "source": [
    "rawEmbeddings_epoch, compared_epoch = compareModels(coha_df, 'Epoch', text_column_name='normalized sents', embeddings_raw=rawEmbeddings_epoch_load)"
   ]
  },
  {
   "cell_type": "code",
   "execution_count": null,
   "metadata": {},
   "outputs": [],
   "source": [
    "# rawEmbeddings_genre, compared_genre = compareModels(coha_df, 'Genre', text_column_name='normalized sents', embeddings_raw=rawEmbeddings_genre_load)"
   ]
  },
  {
   "cell_type": "markdown",
   "metadata": {},
   "source": [
    "You now have access to the epoch wise embeddings, and the code to train models genre wise (commented out). You can use the original embeddings, the compared embeddings and such to perform the analysis we did before."
   ]
  },
  {
   "cell_type": "markdown",
   "metadata": {},
   "source": [
    "## <font color=\"red\">*Exercise 4b*</font>\n",
    "\n",
    "<font color=\"red\">**Do only 4a or 4b.** Construct cells immediately below this that align word embeddings over time or across domains/corpora. Interrogate the spaces that result and ask which words changed most and least over the entire period or between contexts/corpora. What does this reveal about the social game underlying your space? "
   ]
  },
  {
   "cell_type": "markdown",
   "metadata": {},
   "source": [
    "There is much more we do not have time to cover on word embeddings. If you are interested in other ways to align word embeddings, take a look at the [Dynamic Word Embeddings (DTM) section from the Thinking with Deep Learning course](https://colab.research.google.com/drive/1RAiI3BIL1X9D4gzZ0rZdIJjkNNicIuKE?usp=sharing#scrollTo=COS_n2RFCJNk) or using the more recent [Temporal Word Embeddings with a Compass (TWEC) package](https://github.com/valedica/twec). There is also a useful section on [debiasing word embeddings](https://colab.research.google.com/drive/1RAiI3BIL1X9D4gzZ0rZdIJjkNNicIuKE?usp=sharing#scrollTo=JHQ--EsWoxGM), such as the famous, [\"Man is to Computer Programmer as Woman is to Homemaker? Debiasing Word Embeddings\"](https://arxiv.org/abs/1607.06520) paper. Below, we include an optional section on topic modeling with word embeddings, which could be useful for final projects."
   ]
  },
  {
   "cell_type": "markdown",
   "metadata": {
    "id": "CeCZlXXfvUPs"
   },
   "source": [
    "## Optional: Topic modeling with word embeddings\n",
    "\n",
    "Recently computer scientists have developed methods to cluster word embeddings, which can be viewed as a topic model, an embedding-based version of conventional topic models that use the document-term matrix (e.g., LDA). One method is Discourse Atoms, first described by Princeton NLP researchers ([Arora et al. 2018](https://arxiv.org/abs/1601.03764)). This uses k-SVD, a generalization of the k-means clustering algorithm to identify topic-like vectors in the n-dimensional word embedding space. Below is code adapted from the first social science paper using Discourse Atoms, [Arseniev-Koehler et al. 2021](https://osf.io/preprints/socarxiv/nkyaq/). It takes as input _gensim_ word vectors.\n",
    "\n",
    "You are not required to implement this, but for class projects or your own research, this can be more useful than conventional topic models. It runs faster, produces more detailed topics, and in general makes use of more information (i.e., word order within a document) than do conventional topic models. Note there are at least 4 other papers with methods for word embedding clusters:\n",
    "\n",
    "- Xun, Li, Zhao, Gao, and Zhang 2017: [multivariate Gaussian distributions](https://www.ijcai.org/proceedings/2017/588)\n",
    "- Dieng, Ruiz, and Blei 2019: [\"Embedding Topic Model (ETM)\"](https://arxiv.org/abs/1907.04907)\n",
    "- Angelov 2020: [\"Top2Vec\"](https://arxiv.org/abs/2008.09470)\n",
    "- Sia, Dalmia, and Mielke 2020: [(spherical) k-means, k-medoids, von Mises-Fisher Models, Gaussian Mixture Models](https://arxiv.org/abs/2004.14914)\n",
    "\n",
    "Let's implement the Discourse Atoms method."
   ]
  },
  {
   "cell_type": "code",
   "execution_count": null,
   "metadata": {
    "id": "qBHMqKnk_JkC"
   },
   "outputs": [],
   "source": [
    "# from gensim.test.utils import datapath \n",
    "# import re\n",
    "# import string, re\n",
    "# import cython"
   ]
  },
  {
   "cell_type": "code",
   "execution_count": null,
   "metadata": {
    "colab": {
     "base_uri": "https://localhost:8080/"
    },
    "id": "0rhM3yfuALJQ",
    "outputId": "a25f6c22-0225-420b-9899-6bb4574c585d"
   },
   "outputs": [],
   "source": [
    "# The ksvd package has a convenient Approximate k-SVD function.\n",
    "!pip install ksvd"
   ]
  },
  {
   "cell_type": "code",
   "execution_count": null,
   "metadata": {
    "id": "v5y1spof_MCs"
   },
   "outputs": [],
   "source": [
    "from gensim import corpora, models, similarities #calc all similarities at once, from http://radimrehurek.com/gensim/tut3.html\n",
    "from sklearn.metrics.pairwise import cosine_similarity\n",
    "from gensim.models import KeyedVectors\n",
    "from random import seed, sample\n",
    "from ksvd import ApproximateKSVD #pip or conda install ksvd #this is key!"
   ]
  },
  {
   "cell_type": "code",
   "execution_count": null,
   "metadata": {
    "id": "zietHqDPF5uT"
   },
   "outputs": [],
   "source": [
    "import pickle"
   ]
  },
  {
   "cell_type": "code",
   "execution_count": null,
   "metadata": {
    "id": "wFYA73V4GH2Y"
   },
   "outputs": [],
   "source": [
    "import math"
   ]
  },
  {
   "cell_type": "code",
   "execution_count": null,
   "metadata": {
    "colab": {
     "base_uri": "https://localhost:8080/"
    },
    "id": "cgH-NiNgvZMz",
    "outputId": "f0b7bab2-d83d-4379-fd82-8f8a97e21168"
   },
   "outputs": [],
   "source": [
    "# Load a gensim word2vec model\n",
    "w2v = senReleasesW2V"
   ]
  },
  {
   "cell_type": "markdown",
   "metadata": {
    "id": "UjAyx16xvccJ"
   },
   "source": [
    "#### k-SVD\n",
    "\n",
    "We then perform a K-SVD on the word embedding matrix to learn topics in such a way where each word-vector is represented as a spare linear combination of topics. To generate a good representation of the original word vector space, we want to minimize the difference between our word vectors and the vectors generated as a linear combination of topics. \n",
    "\n",
    "\n"
   ]
  },
  {
   "cell_type": "code",
   "execution_count": null,
   "metadata": {
    "id": "11xyYrXOvgJw"
   },
   "outputs": [],
   "source": [
    "#### TRAIN MODEL:\n",
    "\n",
    "#n_comp: Number of topics (i.e., atoms, or dictionary elements)\n",
    "#n_nonzeros: Number of nonzero coefficients to target (how many atoms each word can load onto)\n",
    "            \n",
    "def do_aksvd(w2vmodel, n_comp, n_nonzeros, save=False, savelocation='/content/aksvd_models/'): \n",
    "    #https://github.com/nel215/ksvd #takes about 2 min on Alina's laptop for 30 atoms \n",
    "    aksvd_t = ApproximateKSVD(n_components=n_comp, transform_n_nonzero_coefs=n_nonzeros) #also may adjuste n iter which is default at 10, and tolerance for error which is default at  tol=1e-6 #n_components is number of discourse atoms, since vocab size is smallish, keep this fewer. transform_n is the number of atoms (components) that a word can be a linear combo of\n",
    "    dictionary_t = aksvd_t.fit(w2vmodel.wv.vectors).components_ # Dictionary is the matrix of discourse atoms. \n",
    "    alpha_t = aksvd_t.transform(w2vmodel.wv.vectors) #get the alphas, which are the \"weights\" of each word on a discourse atoms\n",
    "\n",
    "    if save==True:\n",
    "        outfile = open(str(savelocation) + '200d_' + str(n_comp) + 'comp' + str(n_nonzeros) + 'nonzeros_aksvd_nvdrsdf20','wb')\n",
    "        pickle.dump(aksvd_t,outfile)\n",
    "        outfile.close()\n",
    "        \n",
    "        outfile = open(str(savelocation) + '200d_' +str(n_comp) + 'comp' + str(n_nonzeros) + 'nonzeros_dictionary_nvdrsdf20','wb')\n",
    "        pickle.dump(dictionary_t,outfile)\n",
    "        outfile.close()\n",
    "        \n",
    "        outfile = open(str(savelocation) + '200d_' + str(n_comp) + 'comp' + str(n_nonzeros) + 'nonzeros_alpha_nvdrsdf20','wb')\n",
    "        pickle.dump(alpha_t,outfile)\n",
    "        outfile.close()\n",
    "    return(dictionary_t, alpha_t)"
   ]
  },
  {
   "cell_type": "markdown",
   "metadata": {
    "id": "kEX-yfOQEDKH"
   },
   "source": [
    "Two quick quality checks. These are useful to choose the number of atoms in the dictionary (i.e., number of topics): $R^2$ and Topic Diversity\n",
    "\n",
    "Useful to look at product of the two since $R^2$ tends to increase with higher # topics, as Topic Diversity decreases. Intuition: more topics can better explain the original semantic space, but also then these topics are less distinct from one another. As a result, we typically want a balance between the two."
   ]
  },
  {
   "cell_type": "code",
   "execution_count": null,
   "metadata": {
    "id": "ObzUO-JZEEJS"
   },
   "outputs": [],
   "source": [
    "def reconst_qual(w2vmodel, dictionary_mat, alpha_mat):\n",
    "    #reconstruct the word vectors\n",
    "    reconstructed = alpha_mat.dot(dictionary_mat) #reconstruct word vectors and add back in mean(?). but note that reconstructed norm is still around 0-1, not 1, is that an issue?\n",
    "    #e1 = norm(w2vmodel.wv.vectors - reconstructed) #total reconstruction error, larger means MORE error. norm as specified here takes frobenius norm of error matrix.\n",
    "\n",
    "\n",
    "    #total VARIANCE in the data: sum of squares \n",
    "    squares3= w2vmodel.wv.vectors-np.mean(w2vmodel.wv.vectors, axis=1).reshape(-1,1) #https://dziganto.github.io/data%20science/linear%20regression/machine%20learning/python/Linear-Regression-101-Metrics/\n",
    "    #sst3= np.sum([i.dot(i) for i in squares3] ) #same as below\n",
    "\n",
    "    sst3= np.sum(np.square(squares3))\n",
    "\n",
    "\n",
    "    #total sum of squared ERRORS/residuals\n",
    "    e3= [reconstructed[i]-w2vmodel.wv.vectors[i] for i in range(0,len(w2vmodel.wv.vectors))]  #https://dziganto.github.io/data%20science/linear%20regression/machine%20learning/python/Linear-Regression-101-Metrics/\n",
    "    #sse3= np.sum([i.dot(i) for i in e3] ) #same as below\n",
    "    sse3= np.sum(np.square(e3))\n",
    "\n",
    "    #R^2: 1- (SSE / SST )\n",
    "    r2= 1- (sse3 /  sst3) #https://stats.stackexchange.com/questions/184603/in-pca-what-is-the-connection-between-explained-variance-and-squared-error\n",
    "\n",
    "\n",
    "    #compute root mean square error\n",
    "    rmse=  math.sqrt(np.mean(np.square(e3)))\n",
    "\n",
    "\n",
    "\n",
    "    return(sse3, rmse, r2) #https://stats.stackexchange.com/questions/184603/in-pca-what-is-the-connection-between-explained-variance-and-squared-error"
   ]
  },
  {
   "cell_type": "markdown",
   "metadata": {
    "id": "ipIs45YhvhBM"
   },
   "source": [
    "#### Inferring topics from document\n",
    "\n",
    "We now use a similar approach to what we saw a little earlier, where we inverted our generative model to see which documents belong to which class - we do the same now, but with discourse atoms instead of the whole model. This process tells us the topic most likely to have generated a specific context (document). \n",
    "\n"
   ]
  },
  {
   "cell_type": "code",
   "execution_count": null,
   "metadata": {
    "id": "LGNQXH96vmiD"
   },
   "outputs": [],
   "source": [
    "#topic diversity (% unique words among total closest 25 words to each atom)\n",
    "def topic_diversity(w2vmodel, dictionary_mat, top_n=25):\n",
    "\n",
    "    topwords=[] #list of list, each innter list includes top N words in that topic\n",
    "\n",
    "    for i in range(0, len(dictionary_mat)): #set to number of total topics\n",
    "        topwords.extend([i[0] for i in w2vmodel.wv.similar_by_vector(dictionary_mat[i],topn=top_n)]) #set for top N words \n",
    "        #print(w2vmodel.wv.similar_by_vector(dictionary[i],topn=N))\n",
    "\n",
    "    uniquewords= set(topwords)\n",
    "    diversity = len(uniquewords)/len(topwords)\n",
    "    return(diversity)"
   ]
  },
  {
   "cell_type": "code",
   "execution_count": null,
   "metadata": {
    "id": "sMuRYYmVFMCF"
   },
   "outputs": [],
   "source": [
    "dictionary, alpha = do_aksvd(w2v, 150, 5, save=True)"
   ]
  },
  {
   "cell_type": "code",
   "execution_count": null,
   "metadata": {
    "colab": {
     "base_uri": "https://localhost:8080/"
    },
    "id": "W0njiXVfFzpH",
    "outputId": "1dd8b294-3ad9-4179-abda-60027d2ec479"
   },
   "outputs": [],
   "source": [
    "topic_diversity(w2v, dictionary, top_n=25)"
   ]
  },
  {
   "cell_type": "code",
   "execution_count": null,
   "metadata": {
    "colab": {
     "base_uri": "https://localhost:8080/"
    },
    "id": "XQGv2X_NFL60",
    "outputId": "fb3af92a-8484-4fdc-a820-26c728308853"
   },
   "outputs": [],
   "source": [
    "reconst_qual(w2v, dictionary, alpha)\n"
   ]
  },
  {
   "cell_type": "code",
   "execution_count": null,
   "metadata": {
    "id": "AiCYSBTwFLvK"
   },
   "outputs": [],
   "source": [
    "#loading back in the model pieces if not already in\n",
    "\n",
    "# infile = open('../data/aksvd_models/200d_150comp5nonzeros_dictionary_nvdrsdf20','rb')\n",
    "# dictionary=pickle.load(infile)\n",
    "# infile.close()\n",
    "\n",
    "# infile = open('../data/aksvd_models/200d_150comp5nonzeros_aksvd_nvdrsdf20','rb')\n",
    "# aksvd=pickle.load(infile)\n",
    "# infile.close()\n",
    "\n",
    "# infile = open('../data/aksvd_models/200d_150comp5nonzeros_alpha_nvdrsdf20','rb')\n",
    "# alpha=pickle.load(infile)\n",
    "# infile.close()"
   ]
  },
  {
   "cell_type": "code",
   "execution_count": null,
   "metadata": {
    "colab": {
     "base_uri": "https://localhost:8080/"
    },
    "id": "0VgluAGRGCHi",
    "outputId": "6d47d454-e63b-4ecb-d773-fe3f39b33f3f"
   },
   "outputs": [],
   "source": [
    "for i in range(0, len(dictionary)):\n",
    "    print(\"Discourse_Atom \" + str(i))\n",
    "    print([i[0] for i in w2v.wv.similar_by_vector(dictionary[i],topn=25)]) #what are the most similar words to the Nth\n",
    "    #print([i[0] for i in w2vmodel.wv.similar_by_vector(-dictionary[i],topn=25)]) #what are the most similar words to the Nth dicourse atom?\n",
    "    print('\\n')\n"
   ]
  },
  {
   "cell_type": "code",
   "execution_count": null,
   "metadata": {
    "colab": {
     "base_uri": "https://localhost:8080/"
    },
    "id": "Ysp5BMTxGEnm",
    "outputId": "ea5510cf-f8f7-4c38-8236-fa586f3a3311"
   },
   "outputs": [],
   "source": [
    "# for a specific atom, e.g., 112th atom look at 25 most similar words:\n",
    "w2v.wv.similar_by_vector(dictionary[112],topn=25)"
   ]
  },
  {
   "cell_type": "code",
   "execution_count": null,
   "metadata": {
    "colab": {
     "base_uri": "https://localhost:8080/"
    },
    "id": "U_C7I9ZFGVi9",
    "outputId": "c13ea0c7-e605-4454-fb31-3d0d0813e428"
   },
   "outputs": [],
   "source": [
    "print(w2v.wv.vocab.get('the').index, '\\n', alpha[w2vmodel.wv.vocab.get('the').index])\n",
    "\n"
   ]
  },
  {
   "cell_type": "code",
   "execution_count": null,
   "metadata": {
    "id": "s4ZtXsVrGo-1"
   },
   "outputs": [],
   "source": [
    "#useful relevant code:\n",
    "#w2vmodel.wv.index2word[3452]\n",
    "#w2vmodel.wv.most_similar('the', topn=15)\n",
    "#np.where(alpha[w2vmodel.wv.vocab.get('the').index] != 0) #get index where the loading of a word onto discourse atoms is not 0"
   ]
  }
 ],
 "metadata": {
  "anaconda-cloud": {},
  "kernelspec": {
   "display_name": "Python 3 (ipykernel)",
   "language": "python",
   "name": "python3"
  },
  "language_info": {
   "codemirror_mode": {
    "name": "ipython",
    "version": 3
   },
   "file_extension": ".py",
   "mimetype": "text/x-python",
   "name": "python",
   "nbconvert_exporter": "python",
   "pygments_lexer": "ipython3",
   "version": "3.9.5"
  }
 },
 "nbformat": 4,
 "nbformat_minor": 1
}
